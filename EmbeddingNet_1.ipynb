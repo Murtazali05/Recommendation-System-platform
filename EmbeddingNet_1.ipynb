{
 "nbformat": 4,
 "nbformat_minor": 0,
 "metadata": {
  "colab": {
   "name": "EmbeddingNet_1.ipynb",
   "provenance": [],
   "collapsed_sections": []
  },
  "kernelspec": {
   "name": "python3",
   "language": "python",
   "display_name": "Python 3"
  },
  "accelerator": "GPU"
 },
 "cells": [
  {
   "cell_type": "markdown",
   "source": [
    "# **EmbeddingNet**"
   ],
   "metadata": {
    "collapsed": false
   }
  },
  {
   "cell_type": "code",
   "metadata": {
    "id": "bTwNlbZQ4Bzm"
   },
   "source": [
    "import math\n",
    "import pickle\n",
    "\n",
    "import matplotlib.pyplot as plt\n",
    "import numpy as np\n",
    "import pandas as pd\n",
    "import torch\n",
    "from sklearn.model_selection import train_test_split"
   ],
   "execution_count": 24,
   "outputs": []
  },
  {
   "cell_type": "code",
   "metadata": {
    "id": "nKQQL6-WmocD"
   },
   "source": [],
   "execution_count": 1,
   "outputs": []
  },
  {
   "cell_type": "code",
   "metadata": {
    "id": "QOVooBSI4FZd"
   },
   "source": [
    "plt.style.use('ggplot')"
   ],
   "execution_count": 2,
   "outputs": []
  },
  {
   "cell_type": "code",
   "metadata": {
    "id": "n1l7jzc1nIds"
   },
   "source": [
    "from models.embedding_net import set_random_seed,  batches\n",
    "from models.embedding_net import EmbeddingNet,  train"
   ],
   "execution_count": 3,
   "outputs": []
  },
  {
   "cell_type": "code",
   "metadata": {
    "id": "Kt8xCp5I4NeX"
   },
   "source": [
    "RANDOM_STATE = 1\n",
    "set_random_seed(RANDOM_STATE)"
   ],
   "execution_count": 4,
   "outputs": []
  },
  {
   "cell_type": "code",
   "metadata": {
    "id": "A6QBTWeG4Qmb"
   },
   "source": [
    "from read_data import read_data, create_dataset, tabular_preview"
   ],
   "execution_count": 5,
   "outputs": []
  },
  {
   "cell_type": "code",
   "metadata": {
    "id": "uQQCUtTZ8CFp"
   },
   "source": [
    "# pick one of the available folders\n",
    "from pathlib import Path\n",
    "ratings, movies = read_data(Path('ml-1m'))"
   ],
   "execution_count": 6,
   "outputs": []
  },
  {
   "cell_type": "markdown",
   "metadata": {
    "id": "z0NOzTFu8o_M"
   },
   "source": [
    "Dataset Preview"
   ]
  },
  {
   "cell_type": "code",
   "metadata": {
    "id": "JzK9h21Q8Eas",
    "colab": {
     "base_uri": "https://localhost:8080/",
     "height": 204
    },
    "outputId": "b325637e-b6cd-48c9-bc41-f0be994fd170"
   },
   "source": [
    "ratings.head()\n"
   ],
   "execution_count": 7,
   "outputs": [
    {
     "data": {
      "text/plain": "   userId  movieId  rating  timestamp\n0       1     1193       5  978300760\n1       1      661       3  978302109\n2       1      914       3  978301968\n3       1     3408       4  978300275\n4       1     2355       5  978824291",
      "text/html": "<div>\n<style scoped>\n    .dataframe tbody tr th:only-of-type {\n        vertical-align: middle;\n    }\n\n    .dataframe tbody tr th {\n        vertical-align: top;\n    }\n\n    .dataframe thead th {\n        text-align: right;\n    }\n</style>\n<table border=\"1\" class=\"dataframe\">\n  <thead>\n    <tr style=\"text-align: right;\">\n      <th></th>\n      <th>userId</th>\n      <th>movieId</th>\n      <th>rating</th>\n      <th>timestamp</th>\n    </tr>\n  </thead>\n  <tbody>\n    <tr>\n      <th>0</th>\n      <td>1</td>\n      <td>1193</td>\n      <td>5</td>\n      <td>978300760</td>\n    </tr>\n    <tr>\n      <th>1</th>\n      <td>1</td>\n      <td>661</td>\n      <td>3</td>\n      <td>978302109</td>\n    </tr>\n    <tr>\n      <th>2</th>\n      <td>1</td>\n      <td>914</td>\n      <td>3</td>\n      <td>978301968</td>\n    </tr>\n    <tr>\n      <th>3</th>\n      <td>1</td>\n      <td>3408</td>\n      <td>4</td>\n      <td>978300275</td>\n    </tr>\n    <tr>\n      <th>4</th>\n      <td>1</td>\n      <td>2355</td>\n      <td>5</td>\n      <td>978824291</td>\n    </tr>\n  </tbody>\n</table>\n</div>"
     },
     "execution_count": 7,
     "metadata": {},
     "output_type": "execute_result"
    }
   ]
  },
  {
   "cell_type": "code",
   "metadata": {
    "id": "Rfo1My028r4o",
    "colab": {
     "base_uri": "https://localhost:8080/",
     "height": 204
    },
    "outputId": "18423fe5-27d7-47a1-96f1-456e1f957a3e"
   },
   "source": [
    "movies.head()"
   ],
   "execution_count": 8,
   "outputs": [
    {
     "data": {
      "text/plain": "   movieId                               title                        genres\n0        1                    Toy Story (1995)   Animation|Children's|Comedy\n1        2                      Jumanji (1995)  Adventure|Children's|Fantasy\n2        3             Grumpier Old Men (1995)                Comedy|Romance\n3        4            Waiting to Exhale (1995)                  Comedy|Drama\n4        5  Father of the Bride Part II (1995)                        Comedy",
      "text/html": "<div>\n<style scoped>\n    .dataframe tbody tr th:only-of-type {\n        vertical-align: middle;\n    }\n\n    .dataframe tbody tr th {\n        vertical-align: top;\n    }\n\n    .dataframe thead th {\n        text-align: right;\n    }\n</style>\n<table border=\"1\" class=\"dataframe\">\n  <thead>\n    <tr style=\"text-align: right;\">\n      <th></th>\n      <th>movieId</th>\n      <th>title</th>\n      <th>genres</th>\n    </tr>\n  </thead>\n  <tbody>\n    <tr>\n      <th>0</th>\n      <td>1</td>\n      <td>Toy Story (1995)</td>\n      <td>Animation|Children's|Comedy</td>\n    </tr>\n    <tr>\n      <th>1</th>\n      <td>2</td>\n      <td>Jumanji (1995)</td>\n      <td>Adventure|Children's|Fantasy</td>\n    </tr>\n    <tr>\n      <th>2</th>\n      <td>3</td>\n      <td>Grumpier Old Men (1995)</td>\n      <td>Comedy|Romance</td>\n    </tr>\n    <tr>\n      <th>3</th>\n      <td>4</td>\n      <td>Waiting to Exhale (1995)</td>\n      <td>Comedy|Drama</td>\n    </tr>\n    <tr>\n      <th>4</th>\n      <td>5</td>\n      <td>Father of the Bride Part II (1995)</td>\n      <td>Comedy</td>\n    </tr>\n  </tbody>\n</table>\n</div>"
     },
     "execution_count": 8,
     "metadata": {},
     "output_type": "execute_result"
    }
   ]
  },
  {
   "cell_type": "code",
   "metadata": {
    "id": "_-db28k58x70",
    "colab": {
     "base_uri": "https://localhost:8080/",
     "height": 545
    },
    "outputId": "0df176dd-008e-46f7-c9a8-e6799d2a1925"
   },
   "source": [
    "tabular_preview(ratings, movies)"
   ],
   "execution_count": 9,
   "outputs": [
    {
     "data": {
      "text/plain": "movieId  110   260   480   589   593   608   1196  1198  1210  1270  1580  \\\nuserId                                                                      \n889       4.0   4.0   3.0   5.0   5.0   4.0   4.0   NaN   3.0   4.0   3.0   \n1015      4.0   5.0   4.0   5.0   5.0   5.0   4.0   5.0   4.0   4.0   4.0   \n1150      2.0   5.0   NaN   2.0   3.0   5.0   4.0   2.0   3.0   2.0   2.0   \n1181      3.0   4.0   2.0   5.0   3.0   3.0   4.0   3.0   3.0   3.0   4.0   \n1449      3.0   3.0   2.0   2.0   5.0   5.0   3.0   4.0   2.0   2.0   4.0   \n1680      1.0   2.0   5.0   5.0   5.0   5.0   5.0   5.0   3.0   3.0   4.0   \n1941      5.0   5.0   5.0   3.0   5.0   4.0   5.0   5.0   5.0   5.0   5.0   \n1980      4.0   4.0   4.0   4.0   5.0   5.0   4.0   5.0   4.0   5.0   4.0   \n2063      5.0   4.0   4.0   2.0   5.0   2.0   4.0   4.0   4.0   4.0   3.0   \n2909      5.0   5.0   5.0   4.0   5.0   5.0   5.0   5.0   5.0   5.0   5.0   \n3618      3.0   4.0   4.0   3.0   5.0   4.0   3.0   4.0   3.0   4.0   3.0   \n4169      4.0   5.0   5.0   4.0   5.0   5.0   5.0   5.0   5.0   4.0   4.0   \n4277      5.0   5.0   5.0   5.0   5.0   5.0   5.0   5.0   4.0   5.0   4.0   \n4344      5.0   5.0   4.0   4.0   2.0   5.0   5.0   5.0   5.0   4.0   3.0   \n5795      5.0   5.0   5.0   4.0   5.0   4.0   5.0   5.0   4.0   5.0   1.0   \n\nmovieId  2028  2571  2762  2858  \nuserId                           \n889       3.0   5.0   NaN   2.0  \n1015      5.0   5.0   5.0   4.0  \n1150      2.0   1.0   2.0   4.0  \n1181      4.0   5.0   4.0   3.0  \n1449      3.0   4.0   4.0   4.0  \n1680      5.0   3.0   5.0   5.0  \n1941      5.0   3.0   5.0   1.0  \n1980      5.0   5.0   5.0   5.0  \n2063      2.0   5.0   4.0   5.0  \n2909      5.0   4.0   5.0   5.0  \n3618      3.0   3.0   4.0   4.0  \n4169      5.0   4.0   5.0   5.0  \n4277      5.0   5.0   5.0   5.0  \n4344      2.0   5.0   5.0   5.0  \n5795      5.0   1.0   2.0   5.0  ",
      "text/html": "<div>\n<style scoped>\n    .dataframe tbody tr th:only-of-type {\n        vertical-align: middle;\n    }\n\n    .dataframe tbody tr th {\n        vertical-align: top;\n    }\n\n    .dataframe thead th {\n        text-align: right;\n    }\n</style>\n<table border=\"1\" class=\"dataframe\">\n  <thead>\n    <tr style=\"text-align: right;\">\n      <th>movieId</th>\n      <th>110</th>\n      <th>260</th>\n      <th>480</th>\n      <th>589</th>\n      <th>593</th>\n      <th>608</th>\n      <th>1196</th>\n      <th>1198</th>\n      <th>1210</th>\n      <th>1270</th>\n      <th>1580</th>\n      <th>2028</th>\n      <th>2571</th>\n      <th>2762</th>\n      <th>2858</th>\n    </tr>\n    <tr>\n      <th>userId</th>\n      <th></th>\n      <th></th>\n      <th></th>\n      <th></th>\n      <th></th>\n      <th></th>\n      <th></th>\n      <th></th>\n      <th></th>\n      <th></th>\n      <th></th>\n      <th></th>\n      <th></th>\n      <th></th>\n      <th></th>\n    </tr>\n  </thead>\n  <tbody>\n    <tr>\n      <th>889</th>\n      <td>4.0</td>\n      <td>4.0</td>\n      <td>3.0</td>\n      <td>5.0</td>\n      <td>5.0</td>\n      <td>4.0</td>\n      <td>4.0</td>\n      <td>NaN</td>\n      <td>3.0</td>\n      <td>4.0</td>\n      <td>3.0</td>\n      <td>3.0</td>\n      <td>5.0</td>\n      <td>NaN</td>\n      <td>2.0</td>\n    </tr>\n    <tr>\n      <th>1015</th>\n      <td>4.0</td>\n      <td>5.0</td>\n      <td>4.0</td>\n      <td>5.0</td>\n      <td>5.0</td>\n      <td>5.0</td>\n      <td>4.0</td>\n      <td>5.0</td>\n      <td>4.0</td>\n      <td>4.0</td>\n      <td>4.0</td>\n      <td>5.0</td>\n      <td>5.0</td>\n      <td>5.0</td>\n      <td>4.0</td>\n    </tr>\n    <tr>\n      <th>1150</th>\n      <td>2.0</td>\n      <td>5.0</td>\n      <td>NaN</td>\n      <td>2.0</td>\n      <td>3.0</td>\n      <td>5.0</td>\n      <td>4.0</td>\n      <td>2.0</td>\n      <td>3.0</td>\n      <td>2.0</td>\n      <td>2.0</td>\n      <td>2.0</td>\n      <td>1.0</td>\n      <td>2.0</td>\n      <td>4.0</td>\n    </tr>\n    <tr>\n      <th>1181</th>\n      <td>3.0</td>\n      <td>4.0</td>\n      <td>2.0</td>\n      <td>5.0</td>\n      <td>3.0</td>\n      <td>3.0</td>\n      <td>4.0</td>\n      <td>3.0</td>\n      <td>3.0</td>\n      <td>3.0</td>\n      <td>4.0</td>\n      <td>4.0</td>\n      <td>5.0</td>\n      <td>4.0</td>\n      <td>3.0</td>\n    </tr>\n    <tr>\n      <th>1449</th>\n      <td>3.0</td>\n      <td>3.0</td>\n      <td>2.0</td>\n      <td>2.0</td>\n      <td>5.0</td>\n      <td>5.0</td>\n      <td>3.0</td>\n      <td>4.0</td>\n      <td>2.0</td>\n      <td>2.0</td>\n      <td>4.0</td>\n      <td>3.0</td>\n      <td>4.0</td>\n      <td>4.0</td>\n      <td>4.0</td>\n    </tr>\n    <tr>\n      <th>1680</th>\n      <td>1.0</td>\n      <td>2.0</td>\n      <td>5.0</td>\n      <td>5.0</td>\n      <td>5.0</td>\n      <td>5.0</td>\n      <td>5.0</td>\n      <td>5.0</td>\n      <td>3.0</td>\n      <td>3.0</td>\n      <td>4.0</td>\n      <td>5.0</td>\n      <td>3.0</td>\n      <td>5.0</td>\n      <td>5.0</td>\n    </tr>\n    <tr>\n      <th>1941</th>\n      <td>5.0</td>\n      <td>5.0</td>\n      <td>5.0</td>\n      <td>3.0</td>\n      <td>5.0</td>\n      <td>4.0</td>\n      <td>5.0</td>\n      <td>5.0</td>\n      <td>5.0</td>\n      <td>5.0</td>\n      <td>5.0</td>\n      <td>5.0</td>\n      <td>3.0</td>\n      <td>5.0</td>\n      <td>1.0</td>\n    </tr>\n    <tr>\n      <th>1980</th>\n      <td>4.0</td>\n      <td>4.0</td>\n      <td>4.0</td>\n      <td>4.0</td>\n      <td>5.0</td>\n      <td>5.0</td>\n      <td>4.0</td>\n      <td>5.0</td>\n      <td>4.0</td>\n      <td>5.0</td>\n      <td>4.0</td>\n      <td>5.0</td>\n      <td>5.0</td>\n      <td>5.0</td>\n      <td>5.0</td>\n    </tr>\n    <tr>\n      <th>2063</th>\n      <td>5.0</td>\n      <td>4.0</td>\n      <td>4.0</td>\n      <td>2.0</td>\n      <td>5.0</td>\n      <td>2.0</td>\n      <td>4.0</td>\n      <td>4.0</td>\n      <td>4.0</td>\n      <td>4.0</td>\n      <td>3.0</td>\n      <td>2.0</td>\n      <td>5.0</td>\n      <td>4.0</td>\n      <td>5.0</td>\n    </tr>\n    <tr>\n      <th>2909</th>\n      <td>5.0</td>\n      <td>5.0</td>\n      <td>5.0</td>\n      <td>4.0</td>\n      <td>5.0</td>\n      <td>5.0</td>\n      <td>5.0</td>\n      <td>5.0</td>\n      <td>5.0</td>\n      <td>5.0</td>\n      <td>5.0</td>\n      <td>5.0</td>\n      <td>4.0</td>\n      <td>5.0</td>\n      <td>5.0</td>\n    </tr>\n    <tr>\n      <th>3618</th>\n      <td>3.0</td>\n      <td>4.0</td>\n      <td>4.0</td>\n      <td>3.0</td>\n      <td>5.0</td>\n      <td>4.0</td>\n      <td>3.0</td>\n      <td>4.0</td>\n      <td>3.0</td>\n      <td>4.0</td>\n      <td>3.0</td>\n      <td>3.0</td>\n      <td>3.0</td>\n      <td>4.0</td>\n      <td>4.0</td>\n    </tr>\n    <tr>\n      <th>4169</th>\n      <td>4.0</td>\n      <td>5.0</td>\n      <td>5.0</td>\n      <td>4.0</td>\n      <td>5.0</td>\n      <td>5.0</td>\n      <td>5.0</td>\n      <td>5.0</td>\n      <td>5.0</td>\n      <td>4.0</td>\n      <td>4.0</td>\n      <td>5.0</td>\n      <td>4.0</td>\n      <td>5.0</td>\n      <td>5.0</td>\n    </tr>\n    <tr>\n      <th>4277</th>\n      <td>5.0</td>\n      <td>5.0</td>\n      <td>5.0</td>\n      <td>5.0</td>\n      <td>5.0</td>\n      <td>5.0</td>\n      <td>5.0</td>\n      <td>5.0</td>\n      <td>4.0</td>\n      <td>5.0</td>\n      <td>4.0</td>\n      <td>5.0</td>\n      <td>5.0</td>\n      <td>5.0</td>\n      <td>5.0</td>\n    </tr>\n    <tr>\n      <th>4344</th>\n      <td>5.0</td>\n      <td>5.0</td>\n      <td>4.0</td>\n      <td>4.0</td>\n      <td>2.0</td>\n      <td>5.0</td>\n      <td>5.0</td>\n      <td>5.0</td>\n      <td>5.0</td>\n      <td>4.0</td>\n      <td>3.0</td>\n      <td>2.0</td>\n      <td>5.0</td>\n      <td>5.0</td>\n      <td>5.0</td>\n    </tr>\n    <tr>\n      <th>5795</th>\n      <td>5.0</td>\n      <td>5.0</td>\n      <td>5.0</td>\n      <td>4.0</td>\n      <td>5.0</td>\n      <td>4.0</td>\n      <td>5.0</td>\n      <td>5.0</td>\n      <td>4.0</td>\n      <td>5.0</td>\n      <td>1.0</td>\n      <td>5.0</td>\n      <td>1.0</td>\n      <td>2.0</td>\n      <td>5.0</td>\n    </tr>\n  </tbody>\n</table>\n</div>"
     },
     "execution_count": 9,
     "metadata": {},
     "output_type": "execute_result"
    }
   ]
  },
  {
   "cell_type": "markdown",
   "metadata": {
    "id": "BKANn_9s85sC"
   },
   "source": [
    "**Dataset Preparation**"
   ]
  },
  {
   "cell_type": "code",
   "metadata": {
    "id": "jjxev-rh9Ayj",
    "colab": {
     "base_uri": "https://localhost:8080/"
    },
    "outputId": "0ea8ad1d-b7aa-4778-e9ad-56736333fe04"
   },
   "source": [
    "(n, m), (X, y), _ = create_dataset(ratings)\n",
    "print(f'Embeddings: {n} users, {m} movies')\n",
    "print(f'Dataset shape: {X.shape}')\n",
    "print(f'Target shape: {y.shape}')"
   ],
   "execution_count": 10,
   "outputs": [
    {
     "name": "stdout",
     "output_type": "stream",
     "text": [
      "Embeddings: 6040 users, 3706 movies\n",
      "Dataset shape: (1000209, 2)\n",
      "Target shape: (1000209,)\n"
     ]
    }
   ]
  },
  {
   "cell_type": "code",
   "execution_count": 11,
   "outputs": [
    {
     "name": "stdout",
     "output_type": "stream",
     "text": [
      "tensor([[3808, 2234],\n",
      "        [1388,  143],\n",
      "        [4509,  849],\n",
      "        [1016, 2393]])\n",
      "tensor([[4.],\n",
      "        [4.],\n",
      "        [2.],\n",
      "        [3.]])\n"
     ]
    }
   ],
   "source": [
    "for x_batch, y_batch in batches(X, y, bs=4):\n",
    "    print(x_batch)\n",
    "    print(y_batch)\n",
    "    break"
   ],
   "metadata": {
    "collapsed": false,
    "pycharm": {
     "name": "#%%\n"
    }
   }
  },
  {
   "cell_type": "markdown",
   "metadata": {
    "id": "3ddhoFWT9Pbl"
   },
   "source": [
    "**Embeddings**\n",
    "\n",
    "As it is a natural language dataset, embedding has to be done. We haved done it with neural based embedding, we can also try other embedding methods availble like word2vec, glove or Onehot encoding."
   ]
  },
  {
   "cell_type": "code",
   "metadata": {
    "id": "uJ6aOOTq96cD",
    "colab": {
     "base_uri": "https://localhost:8080/"
    },
    "outputId": "01254be1-6a96-4c12-e378-50e66b707342"
   },
   "source": [
    "EmbeddingNet(n, m, n_factors=150, hidden=100, dropouts=0.5)\n"
   ],
   "execution_count": 12,
   "outputs": [
    {
     "data": {
      "text/plain": "EmbeddingNet(\n  (u): Embedding(6040, 150)\n  (m): Embedding(3706, 150)\n  (drop): Dropout(p=0.02, inplace=False)\n  (hidden): Sequential(\n    (0): Linear(in_features=300, out_features=100, bias=True)\n    (1): ReLU()\n    (2): Dropout(p=0.5, inplace=False)\n  )\n  (fc): Linear(in_features=100, out_features=1, bias=True)\n)"
     },
     "execution_count": 12,
     "metadata": {},
     "output_type": "execute_result"
    }
   ]
  },
  {
   "cell_type": "code",
   "metadata": {
    "id": "bGpq9aWz98CQ",
    "colab": {
     "base_uri": "https://localhost:8080/"
    },
    "outputId": "1e797e87-48b2-40ec-ae18-fb33cabb0903"
   },
   "source": [
    "EmbeddingNet(n, m, n_factors=150, hidden=[100, 200, 300], dropouts=[0.25, 0.5])"
   ],
   "execution_count": 13,
   "outputs": [
    {
     "data": {
      "text/plain": "EmbeddingNet(\n  (u): Embedding(6040, 150)\n  (m): Embedding(3706, 150)\n  (drop): Dropout(p=0.02, inplace=False)\n  (hidden): Sequential(\n    (0): Linear(in_features=300, out_features=100, bias=True)\n    (1): ReLU()\n    (2): Dropout(p=0.25, inplace=False)\n    (3): Linear(in_features=100, out_features=200, bias=True)\n    (4): ReLU()\n    (5): Dropout(p=0.5, inplace=False)\n    (6): Linear(in_features=200, out_features=300, bias=True)\n    (7): ReLU()\n  )\n  (fc): Linear(in_features=300, out_features=1, bias=True)\n)"
     },
     "execution_count": 13,
     "metadata": {},
     "output_type": "execute_result"
    }
   ]
  },
  {
   "cell_type": "markdown",
   "metadata": {
    "id": "heZr-5if-VRF"
   },
   "source": [
    "**Training Loop**"
   ]
  },
  {
   "cell_type": "code",
   "metadata": {
    "id": "MEJg2qwu-P77"
   },
   "source": [
    "X_train, X_valid, y_train, y_valid = train_test_split(X, y, test_size=0.2, random_state=RANDOM_STATE)\n",
    "datasets = {'train': (X_train, y_train), 'val': (X_valid, y_valid)}\n",
    "dataset_sizes = {'train': len(X_train), 'val': len(X_valid)}"
   ],
   "execution_count": 14,
   "outputs": []
  },
  {
   "cell_type": "code",
   "metadata": {
    "id": "o69_urDR-hH-",
    "colab": {
     "base_uri": "https://localhost:8080/"
    },
    "outputId": "87b48436-9b04-4436-dddf-948e911629d2"
   },
   "source": [
    "minmax = float(ratings.rating.min()), float(ratings.rating.max())\n",
    "minmax"
   ],
   "execution_count": 15,
   "outputs": [
    {
     "data": {
      "text/plain": "(1.0, 5.0)"
     },
     "execution_count": 15,
     "metadata": {},
     "output_type": "execute_result"
    }
   ]
  },
  {
   "cell_type": "code",
   "metadata": {
    "id": "jt18Wq3F-jCw"
   },
   "source": [
    "net = EmbeddingNet(\n",
    "    n_users=n, n_movies=m, \n",
    "    n_factors=150, hidden=[500, 500, 500], \n",
    "    embedding_dropout=0.05, dropouts=[0.5, 0.5, 0.25])"
   ],
   "execution_count": 16,
   "outputs": []
  },
  {
   "cell_type": "code",
   "metadata": {
    "colab": {
     "base_uri": "https://localhost:8080/"
    },
    "id": "3VVzpK54pheX",
    "outputId": "2c161afd-30a9-45c3-80ab-ecc73a02ac8a"
   },
   "source": [
    "history, lr_history, best_weights = train(net, n_epochs=100, datasets=datasets, minmax=minmax)"
   ],
   "execution_count": 17,
   "outputs": [
    {
     "name": "stderr",
     "output_type": "stream",
     "text": [
      "c:\\users\\murtu\\appdata\\local\\programs\\python\\python38\\lib\\site-packages\\torch\\optim\\lr_scheduler.py:129: UserWarning: Detected call of `lr_scheduler.step()` before `optimizer.step()`. In PyTorch 1.1.0 and later, you should call them in the opposite order: `optimizer.step()` before `lr_scheduler.step()`.  Failure to do this will result in PyTorch skipping the first value of the learning rate schedule. See more details at https://pytorch.org/docs/stable/optim.html#how-to-adjust-learning-rate\n",
      "  warnings.warn(\"Detected call of `lr_scheduler.step()` before `optimizer.step()`. \"\n"
     ]
    },
    {
     "name": "stdout",
     "output_type": "stream",
     "text": [
      "loss improvement on epoch: 1\n",
      "[001/100] train: 0.8869 - val: 0.8225\n",
      "loss improvement on epoch: 2\n",
      "[002/100] train: 0.7964 - val: 0.8062\n",
      "loss improvement on epoch: 3\n",
      "[003/100] train: 0.8000 - val: 0.7973\n",
      "loss improvement on epoch: 4\n",
      "[004/100] train: 0.7580 - val: 0.7860\n",
      "loss improvement on epoch: 5\n",
      "[005/100] train: 0.7662 - val: 0.7843\n",
      "loss improvement on epoch: 6\n",
      "[006/100] train: 0.7275 - val: 0.7837\n",
      "[007/100] train: 0.7402 - val: 0.7840\n",
      "[008/100] train: 0.6940 - val: 0.7898\n",
      "[009/100] train: 0.7067 - val: 0.7869\n",
      "[010/100] train: 0.6507 - val: 0.7988\n",
      "[011/100] train: 0.6672 - val: 0.7921\n",
      "[012/100] train: 0.6102 - val: 0.8109\n",
      "[013/100] train: 0.6316 - val: 0.8013\n",
      "[014/100] train: 0.5793 - val: 0.8188\n",
      "[015/100] train: 0.6027 - val: 0.8117\n",
      "[016/100] train: 0.5549 - val: 0.8266\n",
      "early stopping after epoch 016\n"
     ]
    }
   ]
  },
  {
   "cell_type": "code",
   "metadata": {
    "id": "ARx3Wr0r_XeT"
   },
   "source": [],
   "execution_count": 17,
   "outputs": []
  },
  {
   "cell_type": "code",
   "metadata": {
    "id": "6jMT80C2-yli",
    "colab": {
     "base_uri": "https://localhost:8080/",
     "height": 283
    },
    "outputId": "57580a2a-2d69-41d7-92cb-9547596abc9f"
   },
   "source": [
    "ax = pd.DataFrame(history).drop(columns='total').plot(x='epoch')\n"
   ],
   "execution_count": 18,
   "outputs": [
    {
     "data": {
      "text/plain": "<Figure size 432x288 with 1 Axes>",
      "image/png": "[encoded data removed]"
     },
     "metadata": {},
     "output_type": "display_data"
    }
   ]
  },
  {
   "cell_type": "code",
   "metadata": {
    "id": "XK8YxbxLG0lW",
    "colab": {
     "base_uri": "https://localhost:8080/",
     "height": 265
    },
    "outputId": "51420b66-b650-4874-fc01-abb2bc5bbf97"
   },
   "source": [
    "bs = 2000\n",
    "\n",
    "iterations_per_epoch = int(math.ceil(dataset_sizes['train'] // bs))\n",
    "_ = plt.plot(lr_history[:2*iterations_per_epoch])\n"
   ],
   "execution_count": 19,
   "outputs": [
    {
     "data": {
      "text/plain": "<Figure size 432x288 with 1 Axes>",
      "image/png": "[encoded data removed]"
     },
     "metadata": {},
     "output_type": "display_data"
    }
   ]
  },
  {
   "cell_type": "markdown",
   "source": [
    "**Сохранение весов нейронной сети**"
   ],
   "metadata": {
    "collapsed": false
   }
  },
  {
   "cell_type": "code",
   "metadata": {
    "id": "Lfz3IV0uG2C_",
    "colab": {
     "base_uri": "https://localhost:8080/"
    },
    "outputId": "142ddf64-8003-4377-a127-6b53f0c901b4"
   },
   "source": [
    "\n",
    "net.load_state_dict(best_weights)\n",
    "with open('best.weights', 'wb') as file:\n",
    "    pickle.dump(best_weights, file)"
   ],
   "execution_count": 20,
   "outputs": [
    {
     "data": {
      "text/plain": "<All keys matched successfully>"
     },
     "execution_count": 20,
     "metadata": {},
     "output_type": "execute_result"
    }
   ]
  },
  {
   "cell_type": "markdown",
   "source": [
    "**Получение предсказаний**"
   ],
   "metadata": {
    "collapsed": false
   }
  },
  {
   "cell_type": "code",
   "metadata": {
    "id": "NJplX3Q5G3-l"
   },
   "source": [
    "groud_truth, predictions = [], []\n",
    "device = torch.device('cuda:0' if torch.cuda.is_available() else 'cpu')\n",
    "with torch.no_grad():\n",
    "    for batch in batches(*datasets['val'], shuffle=False, bs=bs):\n",
    "        x_batch, y_batch = [b.to(device) for b in batch]\n",
    "        outputs = net(x_batch[:, 0], x_batch[:, 1], minmax)\n",
    "        groud_truth.extend(y_batch.tolist())\n",
    "        predictions.extend(outputs.tolist())\n",
    "\n",
    "groud_truth = np.asarray(groud_truth).ravel()\n",
    "predictions = np.asarray(predictions).ravel()"
   ],
   "execution_count": 21,
   "outputs": []
  },
  {
   "cell_type": "code",
   "metadata": {
    "id": "AzliskrnG-Kz",
    "colab": {
     "base_uri": "https://localhost:8080/"
    },
    "outputId": "f27be815-6cbc-4be3-b279-9cdc12900888",
    "pycharm": {
     "name": "#%%\n"
    }
   },
   "source": [
    "final_loss = np.sqrt(np.mean((predictions - groud_truth)**2))\n",
    "print(f'Final RMSE: {final_loss:.4f}')"
   ],
   "execution_count": 22,
   "outputs": [
    {
     "name": "stdout",
     "output_type": "stream",
     "text": [
      "Final RMSE: 0.8856\n"
     ]
    }
   ]
  }
 ]
}