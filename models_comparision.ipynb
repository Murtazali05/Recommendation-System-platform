{
 "nbformat": 4,
 "nbformat_minor": 0,
 "metadata": {
  "colab": {
   "name": "models_comparision.ipynb",
   "provenance": [],
   "collapsed_sections": [],
   "authorship_tag": "ABX9TyPOZL3SzFvROIEFJzE9OvIw"
  },
  "kernelspec": {
   "name": "python3",
   "language": "python",
   "display_name": "Python 3"
  },
  "language_info": {
   "name": "python"
  },
  "accelerator": "GPU"
 },
 "cells": [
  {
   "cell_type": "code",
   "metadata": {
    "id": "1ee-J5aL5e58",
    "executionInfo": {
     "status": "ok",
     "timestamp": 1620330185698,
     "user_tz": -330,
     "elapsed": 11983,
     "user": {
      "displayName": "basani ashwath",
      "photoUrl": "https://lh3.googleusercontent.com/a-/AOh14Ghgk4K2h0RnshP1oV3Ubha9wCLhuHdXngdOiqjPkA=s64",
      "userId": "05253221695052091886"
     }
    }
   },
   "source": [
    "import torch\n",
    "import pandas as pd\n",
    "import numpy as np"
   ],
   "execution_count": 2,
   "outputs": []
  },
  {
   "cell_type": "code",
   "metadata": {
    "id": "VxTUThd_8K6U",
    "executionInfo": {
     "status": "ok",
     "timestamp": 1620330186136,
     "user_tz": -330,
     "elapsed": 12393,
     "user": {
      "displayName": "basani ashwath",
      "photoUrl": "https://lh3.googleusercontent.com/a-/AOh14Ghgk4K2h0RnshP1oV3Ubha9wCLhuHdXngdOiqjPkA=s64",
      "userId": "05253221695052091886"
     }
    }
   },
   "source": [
    "import pickle\n",
    "from pathlib import Path\n",
    "from sklearn.model_selection import train_test_split"
   ],
   "execution_count": 3,
   "outputs": []
  },
  {
   "cell_type": "code",
   "metadata": {
    "id": "916mouUAEN8X",
    "executionInfo": {
     "status": "ok",
     "timestamp": 1620330187090,
     "user_tz": -330,
     "elapsed": 13324,
     "user": {
      "displayName": "basani ashwath",
      "photoUrl": "https://lh3.googleusercontent.com/a-/AOh14Ghgk4K2h0RnshP1oV3Ubha9wCLhuHdXngdOiqjPkA=s64",
      "userId": "05253221695052091886"
     }
    }
   },
   "source": [
    "from read_data import read_data, create_dataset, create_tabular_data"
   ],
   "execution_count": 4,
   "outputs": []
  },
  {
   "cell_type": "code",
   "metadata": {
    "id": "B72UTeiMEWye",
    "executionInfo": {
     "status": "ok",
     "timestamp": 1620330193935,
     "user_tz": -330,
     "elapsed": 20144,
     "user": {
      "displayName": "basani ashwath",
      "photoUrl": "https://lh3.googleusercontent.com/a-/AOh14Ghgk4K2h0RnshP1oV3Ubha9wCLhuHdXngdOiqjPkA=s64",
      "userId": "05253221695052091886"
     }
    }
   },
   "source": [
    "ratings, movies = read_data(Path('ml-1m'))"
   ],
   "execution_count": 5,
   "outputs": []
  },
  {
   "cell_type": "code",
   "metadata": {
    "id": "OR93Lutp7oVh",
    "executionInfo": {
     "status": "ok",
     "timestamp": 1620330193939,
     "user_tz": -330,
     "elapsed": 20128,
     "user": {
      "displayName": "basani ashwath",
      "photoUrl": "https://lh3.googleusercontent.com/a-/AOh14Ghgk4K2h0RnshP1oV3Ubha9wCLhuHdXngdOiqjPkA=s64",
      "userId": "05253221695052091886"
     }
    }
   },
   "source": [
    "users = pd.read_csv(\"ml-1m/users.dat\",sep = \"::\", header = None, engine = \"python\",encoding =\"latin-1\")"
   ],
   "execution_count": 6,
   "outputs": []
  },
  {
   "cell_type": "code",
   "metadata": {
    "id": "ri38tDWf7tOH",
    "colab": {
     "base_uri": "https://localhost:8080/",
     "height": 204
    },
    "executionInfo": {
     "status": "ok",
     "timestamp": 1620330193949,
     "user_tz": -330,
     "elapsed": 20101,
     "user": {
      "displayName": "basani ashwath",
      "photoUrl": "https://lh3.googleusercontent.com/a-/AOh14Ghgk4K2h0RnshP1oV3Ubha9wCLhuHdXngdOiqjPkA=s64",
      "userId": "05253221695052091886"
     }
    },
    "outputId": "d453be1c-163b-463d-bbf4-c45c62d1b278"
   },
   "source": [
    "movies.head()"
   ],
   "execution_count": 7,
   "outputs": [
    {
     "data": {
      "text/plain": "   movieId                               title                        genres\n0        1                    Toy Story (1995)   Animation|Children's|Comedy\n1        2                      Jumanji (1995)  Adventure|Children's|Fantasy\n2        3             Grumpier Old Men (1995)                Comedy|Romance\n3        4            Waiting to Exhale (1995)                  Comedy|Drama\n4        5  Father of the Bride Part II (1995)                        Comedy",
      "text/html": "<div>\n<style scoped>\n    .dataframe tbody tr th:only-of-type {\n        vertical-align: middle;\n    }\n\n    .dataframe tbody tr th {\n        vertical-align: top;\n    }\n\n    .dataframe thead th {\n        text-align: right;\n    }\n</style>\n<table border=\"1\" class=\"dataframe\">\n  <thead>\n    <tr style=\"text-align: right;\">\n      <th></th>\n      <th>movieId</th>\n      <th>title</th>\n      <th>genres</th>\n    </tr>\n  </thead>\n  <tbody>\n    <tr>\n      <th>0</th>\n      <td>1</td>\n      <td>Toy Story (1995)</td>\n      <td>Animation|Children's|Comedy</td>\n    </tr>\n    <tr>\n      <th>1</th>\n      <td>2</td>\n      <td>Jumanji (1995)</td>\n      <td>Adventure|Children's|Fantasy</td>\n    </tr>\n    <tr>\n      <th>2</th>\n      <td>3</td>\n      <td>Grumpier Old Men (1995)</td>\n      <td>Comedy|Romance</td>\n    </tr>\n    <tr>\n      <th>3</th>\n      <td>4</td>\n      <td>Waiting to Exhale (1995)</td>\n      <td>Comedy|Drama</td>\n    </tr>\n    <tr>\n      <th>4</th>\n      <td>5</td>\n      <td>Father of the Bride Part II (1995)</td>\n      <td>Comedy</td>\n    </tr>\n  </tbody>\n</table>\n</div>"
     },
     "execution_count": 7,
     "metadata": {},
     "output_type": "execute_result"
    }
   ]
  },
  {
   "cell_type": "code",
   "metadata": {
    "colab": {
     "base_uri": "https://localhost:8080/",
     "height": 204
    },
    "id": "jnLKTXfIJNlz",
    "executionInfo": {
     "status": "ok",
     "timestamp": 1620330193951,
     "user_tz": -330,
     "elapsed": 20055,
     "user": {
      "displayName": "basani ashwath",
      "photoUrl": "https://lh3.googleusercontent.com/a-/AOh14Ghgk4K2h0RnshP1oV3Ubha9wCLhuHdXngdOiqjPkA=s64",
      "userId": "05253221695052091886"
     }
    },
    "outputId": "2619539f-06ba-426c-f195-2ed9cb2ea275"
   },
   "source": [
    "ratings.head()"
   ],
   "execution_count": 8,
   "outputs": [
    {
     "data": {
      "text/plain": "   userId  movieId  rating  timestamp\n0       1     1193       5  978300760\n1       1      661       3  978302109\n2       1      914       3  978301968\n3       1     3408       4  978300275\n4       1     2355       5  978824291",
      "text/html": "<div>\n<style scoped>\n    .dataframe tbody tr th:only-of-type {\n        vertical-align: middle;\n    }\n\n    .dataframe tbody tr th {\n        vertical-align: top;\n    }\n\n    .dataframe thead th {\n        text-align: right;\n    }\n</style>\n<table border=\"1\" class=\"dataframe\">\n  <thead>\n    <tr style=\"text-align: right;\">\n      <th></th>\n      <th>userId</th>\n      <th>movieId</th>\n      <th>rating</th>\n      <th>timestamp</th>\n    </tr>\n  </thead>\n  <tbody>\n    <tr>\n      <th>0</th>\n      <td>1</td>\n      <td>1193</td>\n      <td>5</td>\n      <td>978300760</td>\n    </tr>\n    <tr>\n      <th>1</th>\n      <td>1</td>\n      <td>661</td>\n      <td>3</td>\n      <td>978302109</td>\n    </tr>\n    <tr>\n      <th>2</th>\n      <td>1</td>\n      <td>914</td>\n      <td>3</td>\n      <td>978301968</td>\n    </tr>\n    <tr>\n      <th>3</th>\n      <td>1</td>\n      <td>3408</td>\n      <td>4</td>\n      <td>978300275</td>\n    </tr>\n    <tr>\n      <th>4</th>\n      <td>1</td>\n      <td>2355</td>\n      <td>5</td>\n      <td>978824291</td>\n    </tr>\n  </tbody>\n</table>\n</div>"
     },
     "execution_count": 8,
     "metadata": {},
     "output_type": "execute_result"
    }
   ]
  },
  {
   "cell_type": "code",
   "metadata": {
    "id": "rqtDnYEe7t76",
    "colab": {
     "base_uri": "https://localhost:8080/",
     "height": 204
    },
    "executionInfo": {
     "status": "ok",
     "timestamp": 1620330193952,
     "user_tz": -330,
     "elapsed": 20007,
     "user": {
      "displayName": "basani ashwath",
      "photoUrl": "https://lh3.googleusercontent.com/a-/AOh14Ghgk4K2h0RnshP1oV3Ubha9wCLhuHdXngdOiqjPkA=s64",
      "userId": "05253221695052091886"
     }
    },
    "outputId": "72fa698e-c863-4fc4-c1ec-830fd9c74093"
   },
   "source": [
    "users.head()"
   ],
   "execution_count": 9,
   "outputs": [
    {
     "data": {
      "text/plain": "   0  1   2   3      4\n0  1  F   1  10  48067\n1  2  M  56  16  70072\n2  3  M  25  15  55117\n3  4  M  45   7  02460\n4  5  M  25  20  55455",
      "text/html": "<div>\n<style scoped>\n    .dataframe tbody tr th:only-of-type {\n        vertical-align: middle;\n    }\n\n    .dataframe tbody tr th {\n        vertical-align: top;\n    }\n\n    .dataframe thead th {\n        text-align: right;\n    }\n</style>\n<table border=\"1\" class=\"dataframe\">\n  <thead>\n    <tr style=\"text-align: right;\">\n      <th></th>\n      <th>0</th>\n      <th>1</th>\n      <th>2</th>\n      <th>3</th>\n      <th>4</th>\n    </tr>\n  </thead>\n  <tbody>\n    <tr>\n      <th>0</th>\n      <td>1</td>\n      <td>F</td>\n      <td>1</td>\n      <td>10</td>\n      <td>48067</td>\n    </tr>\n    <tr>\n      <th>1</th>\n      <td>2</td>\n      <td>M</td>\n      <td>56</td>\n      <td>16</td>\n      <td>70072</td>\n    </tr>\n    <tr>\n      <th>2</th>\n      <td>3</td>\n      <td>M</td>\n      <td>25</td>\n      <td>15</td>\n      <td>55117</td>\n    </tr>\n    <tr>\n      <th>3</th>\n      <td>4</td>\n      <td>M</td>\n      <td>45</td>\n      <td>7</td>\n      <td>02460</td>\n    </tr>\n    <tr>\n      <th>4</th>\n      <td>5</td>\n      <td>M</td>\n      <td>25</td>\n      <td>20</td>\n      <td>55455</td>\n    </tr>\n  </tbody>\n</table>\n</div>"
     },
     "execution_count": 9,
     "metadata": {},
     "output_type": "execute_result"
    }
   ]
  },
  {
   "cell_type": "code",
   "metadata": {
    "id": "dBPCjMbCiSVS",
    "executionInfo": {
     "status": "ok",
     "timestamp": 1620330193953,
     "user_tz": -330,
     "elapsed": 19980,
     "user": {
      "displayName": "basani ashwath",
      "photoUrl": "https://lh3.googleusercontent.com/a-/AOh14Ghgk4K2h0RnshP1oV3Ubha9wCLhuHdXngdOiqjPkA=s64",
      "userId": "05253221695052091886"
     }
    }
   },
   "source": [
    "def set_random_seed(state=1):\n",
    "    gens = (np.random.seed, torch.manual_seed, torch.cuda.manual_seed)\n",
    "    for set_state in gens:\n",
    "        set_state(state)\n",
    "RANDOM_STATE = 1\n",
    "set_random_seed(RANDOM_STATE)"
   ],
   "execution_count": 10,
   "outputs": []
  },
  {
   "cell_type": "code",
   "metadata": {
    "id": "LzuDp9yWqhma",
    "executionInfo": {
     "status": "ok",
     "timestamp": 1620330193956,
     "user_tz": -330,
     "elapsed": 19945,
     "user": {
      "displayName": "basani ashwath",
      "photoUrl": "https://lh3.googleusercontent.com/a-/AOh14Ghgk4K2h0RnshP1oV3Ubha9wCLhuHdXngdOiqjPkA=s64",
      "userId": "05253221695052091886"
     }
    }
   },
   "source": [],
   "execution_count": 10,
   "outputs": []
  },
  {
   "cell_type": "code",
   "metadata": {
    "id": "f7HmCtKTqhmd",
    "executionInfo": {
     "status": "ok",
     "timestamp": 1620330193963,
     "user_tz": -330,
     "elapsed": 18026,
     "user": {
      "displayName": "basani ashwath",
      "photoUrl": "https://lh3.googleusercontent.com/a-/AOh14Ghgk4K2h0RnshP1oV3Ubha9wCLhuHdXngdOiqjPkA=s64",
      "userId": "05253221695052091886"
     }
    }
   },
   "source": [
    "(n, m), (X, y), _ = create_dataset(ratings)"
   ],
   "execution_count": 11,
   "outputs": []
  },
  {
   "cell_type": "code",
   "metadata": {
    "id": "vOsYSFDLqhme",
    "executionInfo": {
     "status": "ok",
     "timestamp": 1620330194608,
     "user_tz": -330,
     "elapsed": 18168,
     "user": {
      "displayName": "basani ashwath",
      "photoUrl": "https://lh3.googleusercontent.com/a-/AOh14Ghgk4K2h0RnshP1oV3Ubha9wCLhuHdXngdOiqjPkA=s64",
      "userId": "05253221695052091886"
     }
    }
   },
   "source": [
    "X_train, X_valid, y_train, y_valid = train_test_split(X, y, test_size=0.2, random_state=RANDOM_STATE)\n",
    "datasets = {'train': (X_train, y_train), 'val': (X_valid, y_valid)}\n",
    "dataset_sizes = {'train': len(X_train), 'val': len(X_valid)}"
   ],
   "execution_count": 12,
   "outputs": []
  },
  {
   "cell_type": "code",
   "metadata": {
    "id": "FI13WfVj7t4a",
    "executionInfo": {
     "status": "ok",
     "timestamp": 1620330194610,
     "user_tz": -330,
     "elapsed": 14961,
     "user": {
      "displayName": "basani ashwath",
      "photoUrl": "https://lh3.googleusercontent.com/a-/AOh14Ghgk4K2h0RnshP1oV3Ubha9wCLhuHdXngdOiqjPkA=s64",
      "userId": "05253221695052091886"
     }
    }
   },
   "source": [
    "################################################################################################################################################################################################################\n",
    "################################################################################################################################################################################################################\n",
    "#                                                                               Model1: Embedding Net                                                                                                          #\n",
    "################################################################################################################################################################################################################\n",
    "################################################################################################################################################################################################################"
   ],
   "execution_count": 13,
   "outputs": []
  },
  {
   "cell_type": "code",
   "metadata": {
    "id": "SG0GEtAt7tKs",
    "executionInfo": {
     "status": "ok",
     "timestamp": 1620330194613,
     "user_tz": -330,
     "elapsed": 13498,
     "user": {
      "displayName": "basani ashwath",
      "photoUrl": "https://lh3.googleusercontent.com/a-/AOh14Ghgk4K2h0RnshP1oV3Ubha9wCLhuHdXngdOiqjPkA=s64",
      "userId": "05253221695052091886"
     }
    }
   },
   "source": [
    "n,m = len(ratings.userId.unique()),len(ratings.movieId.unique()),"
   ],
   "execution_count": 14,
   "outputs": []
  },
  {
   "cell_type": "code",
   "metadata": {
    "id": "hjyiKruZv4aP",
    "executionInfo": {
     "status": "ok",
     "timestamp": 1620330194622,
     "user_tz": -330,
     "elapsed": 12256,
     "user": {
      "displayName": "basani ashwath",
      "photoUrl": "https://lh3.googleusercontent.com/a-/AOh14Ghgk4K2h0RnshP1oV3Ubha9wCLhuHdXngdOiqjPkA=s64",
      "userId": "05253221695052091886"
     }
    }
   },
   "source": [],
   "execution_count": 14,
   "outputs": []
  },
  {
   "cell_type": "code",
   "metadata": {
    "id": "Qcidc_IeGzgS",
    "executionInfo": {
     "status": "ok",
     "timestamp": 1620330194624,
     "user_tz": -330,
     "elapsed": 11571,
     "user": {
      "displayName": "basani ashwath",
      "photoUrl": "https://lh3.googleusercontent.com/a-/AOh14Ghgk4K2h0RnshP1oV3Ubha9wCLhuHdXngdOiqjPkA=s64",
      "userId": "05253221695052091886"
     }
    }
   },
   "source": [
    "minmax = float(ratings.rating.min()), float(ratings.rating.max())"
   ],
   "execution_count": 15,
   "outputs": []
  },
  {
   "cell_type": "code",
   "metadata": {
    "id": "VFr_pT5YDo5A",
    "executionInfo": {
     "status": "ok",
     "timestamp": 1620330195061,
     "user_tz": -330,
     "elapsed": 4626,
     "user": {
      "displayName": "basani ashwath",
      "photoUrl": "https://lh3.googleusercontent.com/a-/AOh14Ghgk4K2h0RnshP1oV3Ubha9wCLhuHdXngdOiqjPkA=s64",
      "userId": "05253221695052091886"
     }
    }
   },
   "source": [
    "from models.embedding_net import EmbeddingNet\n",
    "from models.embedding_net import predict_recommendations as emb_recommendations\n",
    "from models.embedding_net import batches"
   ],
   "execution_count": 16,
   "outputs": []
  },
  {
   "cell_type": "code",
   "metadata": {
    "id": "zZcUgG_mD6bZ",
    "executionInfo": {
     "status": "ok",
     "timestamp": 1620330195063,
     "user_tz": -330,
     "elapsed": 4390,
     "user": {
      "displayName": "basani ashwath",
      "photoUrl": "https://lh3.googleusercontent.com/a-/AOh14Ghgk4K2h0RnshP1oV3Ubha9wCLhuHdXngdOiqjPkA=s64",
      "userId": "05253221695052091886"
     }
    }
   },
   "source": [
    "net = EmbeddingNet(\n",
    "    n_users=n, n_movies=m, \n",
    "    n_factors=150, hidden=[500, 500, 500], \n",
    "    embedding_dropout=0.05, dropouts=[0.5, 0.5, 0.25])"
   ],
   "execution_count": 17,
   "outputs": []
  },
  {
   "cell_type": "code",
   "metadata": {
    "id": "P5P2PGs1EBom",
    "executionInfo": {
     "status": "ok",
     "timestamp": 1620330201604,
     "user_tz": -330,
     "elapsed": 10713,
     "user": {
      "displayName": "basani ashwath",
      "photoUrl": "https://lh3.googleusercontent.com/a-/AOh14Ghgk4K2h0RnshP1oV3Ubha9wCLhuHdXngdOiqjPkA=s64",
      "userId": "05253221695052091886"
     }
    }
   },
   "source": [
    "fh = open('best.weights','rb')\n",
    "weights = pickle.load(fh)\n",
    "net.load_state_dict(weights)\n",
    "fh.close()\n"
   ],
   "execution_count": 18,
   "outputs": []
  },
  {
   "cell_type": "code",
   "metadata": {
    "id": "M3e2vQTM1fO5",
    "executionInfo": {
     "status": "ok",
     "timestamp": 1620330207559,
     "user_tz": -330,
     "elapsed": 16431,
     "user": {
      "displayName": "basani ashwath",
      "photoUrl": "https://lh3.googleusercontent.com/a-/AOh14Ghgk4K2h0RnshP1oV3Ubha9wCLhuHdXngdOiqjPkA=s64",
      "userId": "05253221695052091886"
     }
    }
   },
   "source": [
    "groud_truth, predictions = [], []\n",
    "# device = torch.device('cuda:0' if torch.cuda.is_available() else 'cpu')\n",
    "with torch.no_grad():\n",
    "    for batch in batches(X_valid,y_valid, shuffle=False, bs=2000):\n",
    "        x_batch, y_batch = [b for b in batch]\n",
    "        # import pdb;pdb.set_trace()\n",
    "        outputs = net(x_batch[:, 0], x_batch[:, 1], minmax)\n",
    "        # break\n",
    "        groud_truth.extend(y_batch.tolist())\n",
    "        predictions.extend(outputs.tolist())\n",
    "\n"
   ],
   "execution_count": 19,
   "outputs": []
  },
  {
   "cell_type": "code",
   "metadata": {
    "id": "M4tgTutCwL3z",
    "executionInfo": {
     "status": "ok",
     "timestamp": 1620330208026,
     "user_tz": -330,
     "elapsed": 9126,
     "user": {
      "displayName": "basani ashwath",
      "photoUrl": "https://lh3.googleusercontent.com/a-/AOh14Ghgk4K2h0RnshP1oV3Ubha9wCLhuHdXngdOiqjPkA=s64",
      "userId": "05253221695052091886"
     }
    }
   },
   "source": [
    "groud_truth = np.asarray(groud_truth).ravel()\n",
    "predictions = np.asarray(predictions).ravel()"
   ],
   "execution_count": 20,
   "outputs": []
  },
  {
   "cell_type": "code",
   "metadata": {
    "colab": {
     "base_uri": "https://localhost:8080/"
    },
    "id": "OzeT2r57uA4A",
    "executionInfo": {
     "status": "ok",
     "timestamp": 1620330209637,
     "user_tz": -330,
     "elapsed": 703,
     "user": {
      "displayName": "basani ashwath",
      "photoUrl": "https://lh3.googleusercontent.com/a-/AOh14Ghgk4K2h0RnshP1oV3Ubha9wCLhuHdXngdOiqjPkA=s64",
      "userId": "05253221695052091886"
     }
    },
    "outputId": "f276b9ea-5972-48c1-9f3d-bd49c3458841"
   },
   "source": [
    "final_loss = np.sqrt(np.mean((predictions - groud_truth)**2))\n",
    "print(f'Final RMSE: {final_loss:.4f}')"
   ],
   "execution_count": 21,
   "outputs": [
    {
     "name": "stdout",
     "output_type": "stream",
     "text": [
      "Final RMSE: 0.8854\n"
     ]
    }
   ]
  },
  {
   "cell_type": "code",
   "metadata": {
    "id": "8H6bVbmxtqHT",
    "executionInfo": {
     "status": "ok",
     "timestamp": 1620330219662,
     "user_tz": -330,
     "elapsed": 3710,
     "user": {
      "displayName": "basani ashwath",
      "photoUrl": "https://lh3.googleusercontent.com/a-/AOh14Ghgk4K2h0RnshP1oV3Ubha9wCLhuHdXngdOiqjPkA=s64",
      "userId": "05253221695052091886"
     }
    }
   },
   "source": [
    "# precision\n",
    "#Calculate TP,FP,TN,FN at every threshold level (0.0 - 5.0)\n",
    "final = []\n",
    "for threshold in np.arange(0, 5.5, 0.5):\n",
    "  tp=0\n",
    "  fn=0\n",
    "  fp=0\n",
    "  tn=0\n",
    "  temp = []\n",
    "  for i in range(predictions.shape[0]):\n",
    "    true_r = groud_truth[i]\n",
    "    est = predictions[i]\n",
    "    if(true_r>=threshold):\n",
    "      if(est>=threshold):\n",
    "        tp = tp+1\n",
    "      else:\n",
    "        fn = fn+1\n",
    "    else:\n",
    "      if(est>=threshold):\n",
    "        fp = fp+1\n",
    "      else:\n",
    "        tn = tn+1   \n",
    "    if tp == 0:\n",
    "      precision = 0\n",
    "      recall = 0\n",
    "      f1 = 0\n",
    "    else:\n",
    "      precision = tp / (tp + fp)\n",
    "      recall = tp / (tp + fn)\n",
    "      f1 = 2 * (precision * recall) / (precision + recall)  \n",
    "  temp = [threshold, tp,fp,tn ,fn, precision, recall, f1]\n",
    "  final.append(temp)\n",
    "results = pd.DataFrame(final)\n",
    "results.rename(columns={0:'threshold', 1:'tp', 2: 'fp', 3: 'tn', 4:'fn', 5: 'Precision', 6:'Recall', 7:'F1'}, inplace=True)"
   ],
   "execution_count": 22,
   "outputs": []
  },
  {
   "cell_type": "markdown",
   "metadata": {
    "id": "oUiNhScjmE3p"
   },
   "source": [
    "**Definition of Relevant and Recommended**\n",
    "\n",
    "Relevant: True Rating > = Thresh\n",
    "\n",
    "Irrelevant: True Rating < Thresh\n",
    "\n",
    "Recommended item: Predicted Rating > = Thresh\n",
    "\n",
    "Not Recommended item: Predicted Rating > = Thresh"
   ]
  },
  {
   "cell_type": "markdown",
   "metadata": {
    "id": "5k1rzI5tmS5a"
   },
   "source": [
    "### Calculate Precision, Recall and F1 for every threshold for choosing optimal threshold"
   ]
  },
  {
   "cell_type": "code",
   "metadata": {
    "colab": {
     "base_uri": "https://localhost:8080/",
     "height": 390
    },
    "id": "eX97IDDSzC9b",
    "executionInfo": {
     "status": "ok",
     "timestamp": 1620330223399,
     "user_tz": -330,
     "elapsed": 921,
     "user": {
      "displayName": "basani ashwath",
      "photoUrl": "https://lh3.googleusercontent.com/a-/AOh14Ghgk4K2h0RnshP1oV3Ubha9wCLhuHdXngdOiqjPkA=s64",
      "userId": "05253221695052091886"
     }
    },
    "outputId": "b7b8ff3d-1fb8-41c0-f74d-22b545851368"
   },
   "source": [
    "results"
   ],
   "execution_count": 23,
   "outputs": [
    {
     "data": {
      "text/plain": "    threshold      tp     fp      tn     fn  Precision    Recall        F1\n0         0.0  200000      0       0      0   1.000000  1.000000  1.000000\n1         0.5  200000      0       0      0   1.000000  1.000000  1.000000\n2         1.0  199707      0       0    293   1.000000  0.998535  0.999267\n3         1.5  188311   9759    1385    545   0.950730  0.997114  0.973370\n4         2.0  185610   7704    3440   3246   0.960148  0.982812  0.971348\n5         2.5  160815  20774   11942   6469   0.885599  0.961329  0.921911\n6         3.0  146456  13347   19369  20828   0.916478  0.875493  0.895517\n7         3.5   91124  29585   55478  23813   0.754906  0.792817  0.773397\n8         4.0   51868   8616   76447  63069   0.857549  0.451273  0.591355\n9         4.5    9713   4677  150053  35557   0.674983  0.214557  0.325612\n10        5.0     495     80  154650  44775   0.860870  0.010934  0.021595",
      "text/html": "<div>\n<style scoped>\n    .dataframe tbody tr th:only-of-type {\n        vertical-align: middle;\n    }\n\n    .dataframe tbody tr th {\n        vertical-align: top;\n    }\n\n    .dataframe thead th {\n        text-align: right;\n    }\n</style>\n<table border=\"1\" class=\"dataframe\">\n  <thead>\n    <tr style=\"text-align: right;\">\n      <th></th>\n      <th>threshold</th>\n      <th>tp</th>\n      <th>fp</th>\n      <th>tn</th>\n      <th>fn</th>\n      <th>Precision</th>\n      <th>Recall</th>\n      <th>F1</th>\n    </tr>\n  </thead>\n  <tbody>\n    <tr>\n      <th>0</th>\n      <td>0.0</td>\n      <td>200000</td>\n      <td>0</td>\n      <td>0</td>\n      <td>0</td>\n      <td>1.000000</td>\n      <td>1.000000</td>\n      <td>1.000000</td>\n    </tr>\n    <tr>\n      <th>1</th>\n      <td>0.5</td>\n      <td>200000</td>\n      <td>0</td>\n      <td>0</td>\n      <td>0</td>\n      <td>1.000000</td>\n      <td>1.000000</td>\n      <td>1.000000</td>\n    </tr>\n    <tr>\n      <th>2</th>\n      <td>1.0</td>\n      <td>199707</td>\n      <td>0</td>\n      <td>0</td>\n      <td>293</td>\n      <td>1.000000</td>\n      <td>0.998535</td>\n      <td>0.999267</td>\n    </tr>\n    <tr>\n      <th>3</th>\n      <td>1.5</td>\n      <td>188311</td>\n      <td>9759</td>\n      <td>1385</td>\n      <td>545</td>\n      <td>0.950730</td>\n      <td>0.997114</td>\n      <td>0.973370</td>\n    </tr>\n    <tr>\n      <th>4</th>\n      <td>2.0</td>\n      <td>185610</td>\n      <td>7704</td>\n      <td>3440</td>\n      <td>3246</td>\n      <td>0.960148</td>\n      <td>0.982812</td>\n      <td>0.971348</td>\n    </tr>\n    <tr>\n      <th>5</th>\n      <td>2.5</td>\n      <td>160815</td>\n      <td>20774</td>\n      <td>11942</td>\n      <td>6469</td>\n      <td>0.885599</td>\n      <td>0.961329</td>\n      <td>0.921911</td>\n    </tr>\n    <tr>\n      <th>6</th>\n      <td>3.0</td>\n      <td>146456</td>\n      <td>13347</td>\n      <td>19369</td>\n      <td>20828</td>\n      <td>0.916478</td>\n      <td>0.875493</td>\n      <td>0.895517</td>\n    </tr>\n    <tr>\n      <th>7</th>\n      <td>3.5</td>\n      <td>91124</td>\n      <td>29585</td>\n      <td>55478</td>\n      <td>23813</td>\n      <td>0.754906</td>\n      <td>0.792817</td>\n      <td>0.773397</td>\n    </tr>\n    <tr>\n      <th>8</th>\n      <td>4.0</td>\n      <td>51868</td>\n      <td>8616</td>\n      <td>76447</td>\n      <td>63069</td>\n      <td>0.857549</td>\n      <td>0.451273</td>\n      <td>0.591355</td>\n    </tr>\n    <tr>\n      <th>9</th>\n      <td>4.5</td>\n      <td>9713</td>\n      <td>4677</td>\n      <td>150053</td>\n      <td>35557</td>\n      <td>0.674983</td>\n      <td>0.214557</td>\n      <td>0.325612</td>\n    </tr>\n    <tr>\n      <th>10</th>\n      <td>5.0</td>\n      <td>495</td>\n      <td>80</td>\n      <td>154650</td>\n      <td>44775</td>\n      <td>0.860870</td>\n      <td>0.010934</td>\n      <td>0.021595</td>\n    </tr>\n  </tbody>\n</table>\n</div>"
     },
     "execution_count": 23,
     "metadata": {},
     "output_type": "execute_result"
    }
   ]
  },
  {
   "cell_type": "markdown",
   "metadata": {
    "id": "sHzjILMPmyqg"
   },
   "source": [
    "#### We can choose either 2.5 as the threshold as it has optimal number of  true positives,true negatives, false positives and false negatives.\n",
    "\n",
    "#### That is recommend movies for which predicted rating is greater than 2.5\n",
    "\n",
    "**Precision** = 0.884\n",
    "\n",
    "**Recall** = 0.963\n",
    "\n",
    "**F1** = 0.922\n",
    "\n",
    "**RMSE** = 0.885"
   ]
  },
  {
   "cell_type": "code",
   "metadata": {
    "id": "JtkY0-dTJwrb",
    "executionInfo": {
     "status": "ok",
     "timestamp": 1620330361630,
     "user_tz": -330,
     "elapsed": 775,
     "user": {
      "displayName": "basani ashwath",
      "photoUrl": "https://lh3.googleusercontent.com/a-/AOh14Ghgk4K2h0RnshP1oV3Ubha9wCLhuHdXngdOiqjPkA=s64",
      "userId": "05253221695052091886"
     }
    }
   },
   "source": [
    "emb_dict = {'precision':float(results.loc[5]['Precision']),'recall':float(results.loc[5]['Recall']),'F1':float(results.loc[5]['F1']),'RMSE':round(final_loss,4)}"
   ],
   "execution_count": 24,
   "outputs": []
  },
  {
   "cell_type": "code",
   "metadata": {
    "colab": {
     "base_uri": "https://localhost:8080/"
    },
    "id": "kFjOj_XQNznI",
    "executionInfo": {
     "status": "ok",
     "timestamp": 1620330366842,
     "user_tz": -330,
     "elapsed": 891,
     "user": {
      "displayName": "basani ashwath",
      "photoUrl": "https://lh3.googleusercontent.com/a-/AOh14Ghgk4K2h0RnshP1oV3Ubha9wCLhuHdXngdOiqjPkA=s64",
      "userId": "05253221695052091886"
     }
    },
    "outputId": "ba72f17a-954d-467d-b158-b1d2b3db4386"
   },
   "source": [
    "emb_dict"
   ],
   "execution_count": 25,
   "outputs": [
    {
     "data": {
      "text/plain": "{'precision': 0.8855987972839765,\n 'recall': 0.9613292365079744,\n 'F1': 0.9219114118891402,\n 'RMSE': 0.8854}"
     },
     "execution_count": 25,
     "metadata": {},
     "output_type": "execute_result"
    }
   ]
  },
  {
   "cell_type": "code",
   "metadata": {
    "id": "mlbA2JWJ798w"
   },
   "source": [
    "################################################################################################################################################################################################################\n",
    "################################################################################################################################################################################################################\n",
    "#                                                                                      Model2: RBM                                                                                                             #\n",
    "################################################################################################################################################################################################################\n",
    "################################################################################################################################################################################################################"
   ],
   "execution_count": 26,
   "outputs": []
  },
  {
   "cell_type": "code",
   "metadata": {
    "id": "wCuMZRn5795e",
    "colab": {
     "base_uri": "https://localhost:8080/",
     "height": 204
    },
    "executionInfo": {
     "status": "ok",
     "timestamp": 1620330378895,
     "user_tz": -330,
     "elapsed": 772,
     "user": {
      "displayName": "basani ashwath",
      "photoUrl": "https://lh3.googleusercontent.com/a-/AOh14Ghgk4K2h0RnshP1oV3Ubha9wCLhuHdXngdOiqjPkA=s64",
      "userId": "05253221695052091886"
     }
    },
    "outputId": "33a1bce7-6588-4349-b6e4-98b685e25778"
   },
   "source": [
    "ratings.head()"
   ],
   "execution_count": 27,
   "outputs": [
    {
     "data": {
      "text/plain": "   userId  movieId  rating  timestamp\n0       1     1193       5  978300760\n1       1      661       3  978302109\n2       1      914       3  978301968\n3       1     3408       4  978300275\n4       1     2355       5  978824291",
      "text/html": "<div>\n<style scoped>\n    .dataframe tbody tr th:only-of-type {\n        vertical-align: middle;\n    }\n\n    .dataframe tbody tr th {\n        vertical-align: top;\n    }\n\n    .dataframe thead th {\n        text-align: right;\n    }\n</style>\n<table border=\"1\" class=\"dataframe\">\n  <thead>\n    <tr style=\"text-align: right;\">\n      <th></th>\n      <th>userId</th>\n      <th>movieId</th>\n      <th>rating</th>\n      <th>timestamp</th>\n    </tr>\n  </thead>\n  <tbody>\n    <tr>\n      <th>0</th>\n      <td>1</td>\n      <td>1193</td>\n      <td>5</td>\n      <td>978300760</td>\n    </tr>\n    <tr>\n      <th>1</th>\n      <td>1</td>\n      <td>661</td>\n      <td>3</td>\n      <td>978302109</td>\n    </tr>\n    <tr>\n      <th>2</th>\n      <td>1</td>\n      <td>914</td>\n      <td>3</td>\n      <td>978301968</td>\n    </tr>\n    <tr>\n      <th>3</th>\n      <td>1</td>\n      <td>3408</td>\n      <td>4</td>\n      <td>978300275</td>\n    </tr>\n    <tr>\n      <th>4</th>\n      <td>1</td>\n      <td>2355</td>\n      <td>5</td>\n      <td>978824291</td>\n    </tr>\n  </tbody>\n</table>\n</div>"
     },
     "execution_count": 27,
     "metadata": {},
     "output_type": "execute_result"
    }
   ]
  },
  {
   "cell_type": "code",
   "metadata": {
    "id": "CEpE83D0qVgR",
    "executionInfo": {
     "status": "ok",
     "timestamp": 1620330384204,
     "user_tz": -330,
     "elapsed": 4628,
     "user": {
      "displayName": "basani ashwath",
      "photoUrl": "https://lh3.googleusercontent.com/a-/AOh14Ghgk4K2h0RnshP1oV3Ubha9wCLhuHdXngdOiqjPkA=s64",
      "userId": "05253221695052091886"
     }
    }
   },
   "source": [
    "train_set = pd.read_csv('present_set.csv')\n",
    "train_set = train_set[train_set.columns[2:]]\n",
    "train_set = np.array(train_set,dtype = 'int')\n",
    "test_set = pd.read_csv('future_set.csv')\n",
    "test_set = test_set[test_set.columns[2:]]\n",
    "test_set = np.array(test_set,dtype = 'int')\n"
   ],
   "execution_count": 28,
   "outputs": []
  },
  {
   "cell_type": "code",
   "metadata": {
    "id": "Fq8pe8k4viRs",
    "executionInfo": {
     "status": "ok",
     "timestamp": 1620330384207,
     "user_tz": -330,
     "elapsed": 3811,
     "user": {
      "displayName": "basani ashwath",
      "photoUrl": "https://lh3.googleusercontent.com/a-/AOh14Ghgk4K2h0RnshP1oV3Ubha9wCLhuHdXngdOiqjPkA=s64",
      "userId": "05253221695052091886"
     }
    }
   },
   "source": [
    "\n",
    "# Getting the number of movies and users\n",
    "nb_users = train_set.shape[0]\n",
    "nb_movies = train_set.shape[1]\n"
   ],
   "execution_count": 29,
   "outputs": []
  },
  {
   "cell_type": "code",
   "metadata": {
    "id": "oASAGsNjFn5U",
    "executionInfo": {
     "status": "ok",
     "timestamp": 1620330386757,
     "user_tz": -330,
     "elapsed": 1535,
     "user": {
      "displayName": "basani ashwath",
      "photoUrl": "https://lh3.googleusercontent.com/a-/AOh14Ghgk4K2h0RnshP1oV3Ubha9wCLhuHdXngdOiqjPkA=s64",
      "userId": "05253221695052091886"
     }
    }
   },
   "source": [
    "train_set = torch.FloatTensor(train_set)\n",
    "test_set = torch.FloatTensor(test_set)"
   ],
   "execution_count": 30,
   "outputs": []
  },
  {
   "cell_type": "code",
   "metadata": {
    "id": "Uf5iCqz98US2",
    "executionInfo": {
     "status": "ok",
     "timestamp": 1620330388187,
     "user_tz": -330,
     "elapsed": 1613,
     "user": {
      "displayName": "basani ashwath",
      "photoUrl": "https://lh3.googleusercontent.com/a-/AOh14Ghgk4K2h0RnshP1oV3Ubha9wCLhuHdXngdOiqjPkA=s64",
      "userId": "05253221695052091886"
     }
    }
   },
   "source": [
    "from models.rbm import RBM\n",
    "\n",
    "## TO-DO - After preparing a ucb eval dataset, edit the predict function to not recommend already watched movies"
   ],
   "execution_count": 31,
   "outputs": []
  },
  {
   "cell_type": "code",
   "metadata": {
    "colab": {
     "base_uri": "https://localhost:8080/"
    },
    "id": "ptHG1RAiq6Qv",
    "executionInfo": {
     "status": "ok",
     "timestamp": 1620330398914,
     "user_tz": -330,
     "elapsed": 759,
     "user": {
      "displayName": "basani ashwath",
      "photoUrl": "https://lh3.googleusercontent.com/a-/AOh14Ghgk4K2h0RnshP1oV3Ubha9wCLhuHdXngdOiqjPkA=s64",
      "userId": "05253221695052091886"
     }
    },
    "outputId": "a35bc4f0-7aa1-4daa-b18b-160a0472da09"
   },
   "source": [
    "nb_users,nb_movies"
   ],
   "execution_count": 32,
   "outputs": [
    {
     "data": {
      "text/plain": "(1208, 3883)"
     },
     "execution_count": 32,
     "metadata": {},
     "output_type": "execute_result"
    }
   ]
  },
  {
   "cell_type": "code",
   "metadata": {
    "id": "ZRfj3AqJ8dgS",
    "executionInfo": {
     "status": "ok",
     "timestamp": 1620330402923,
     "user_tz": -330,
     "elapsed": 1521,
     "user": {
      "displayName": "basani ashwath",
      "photoUrl": "https://lh3.googleusercontent.com/a-/AOh14Ghgk4K2h0RnshP1oV3Ubha9wCLhuHdXngdOiqjPkA=s64",
      "userId": "05253221695052091886"
     }
    }
   },
   "source": [
    "nv = nb_movies\n",
    "nh = 100\n",
    "rbm = RBM(nv,nh)"
   ],
   "execution_count": 33,
   "outputs": []
  },
  {
   "cell_type": "code",
   "metadata": {
    "id": "_vVEPX3n8jqU",
    "executionInfo": {
     "status": "ok",
     "timestamp": 1620330402927,
     "user_tz": -330,
     "elapsed": 646,
     "user": {
      "displayName": "basani ashwath",
      "photoUrl": "https://lh3.googleusercontent.com/a-/AOh14Ghgk4K2h0RnshP1oV3Ubha9wCLhuHdXngdOiqjPkA=s64",
      "userId": "05253221695052091886"
     }
    }
   },
   "source": [
    "fh = open('RBM.weights','rb')\n",
    "weights = pickle.load(fh)\n",
    "rbm.load_state_dict(weights)\n",
    "fh.close()"
   ],
   "execution_count": 34,
   "outputs": []
  },
  {
   "cell_type": "markdown",
   "metadata": {
    "id": "EN81nECWTXw7"
   },
   "source": []
  },
  {
   "cell_type": "code",
   "metadata": {
    "id": "C4hIGfjlvXZW",
    "executionInfo": {
     "status": "ok",
     "timestamp": 1620330406064,
     "user_tz": -330,
     "elapsed": 2426,
     "user": {
      "displayName": "basani ashwath",
      "photoUrl": "https://lh3.googleusercontent.com/a-/AOh14Ghgk4K2h0RnshP1oV3Ubha9wCLhuHdXngdOiqjPkA=s64",
      "userId": "05253221695052091886"
     }
    }
   },
   "source": [
    "train_set[train_set==0] = -1\n",
    "train_set[train_set==1] = 0\n",
    "train_set[train_set==2] = 0\n",
    "train_set[train_set>=3] = 1\n",
    "test_set[test_set==0] = -1\n",
    "test_set[test_set==1] = 0\n",
    "test_set[test_set==2] = 0\n",
    "test_set[test_set>=3] = 1"
   ],
   "execution_count": 35,
   "outputs": []
  },
  {
   "cell_type": "code",
   "metadata": {
    "id": "YqXaAz1tHM7B",
    "executionInfo": {
     "status": "ok",
     "timestamp": 1620330406607,
     "user_tz": -330,
     "elapsed": 863,
     "user": {
      "displayName": "basani ashwath",
      "photoUrl": "https://lh3.googleusercontent.com/a-/AOh14Ghgk4K2h0RnshP1oV3Ubha9wCLhuHdXngdOiqjPkA=s64",
      "userId": "05253221695052091886"
     }
    }
   },
   "source": [],
   "execution_count": 35,
   "outputs": []
  },
  {
   "cell_type": "code",
   "metadata": {
    "id": "iUq71sUW8_iu",
    "executionInfo": {
     "status": "ok",
     "timestamp": 1620330408122,
     "user_tz": -330,
     "elapsed": 610,
     "user": {
      "displayName": "basani ashwath",
      "photoUrl": "https://lh3.googleusercontent.com/a-/AOh14Ghgk4K2h0RnshP1oV3Ubha9wCLhuHdXngdOiqjPkA=s64",
      "userId": "05253221695052091886"
     }
    }
   },
   "source": [
    "# rbm_rec=rbm_recommendations(model=rbm,unseen_set=test_set,user_id=164)"
   ],
   "execution_count": 36,
   "outputs": []
  },
  {
   "cell_type": "code",
   "metadata": {
    "id": "kGIpnVlmHCmj",
    "executionInfo": {
     "status": "ok",
     "timestamp": 1620330408746,
     "user_tz": -330,
     "elapsed": 832,
     "user": {
      "displayName": "basani ashwath",
      "photoUrl": "https://lh3.googleusercontent.com/a-/AOh14Ghgk4K2h0RnshP1oV3Ubha9wCLhuHdXngdOiqjPkA=s64",
      "userId": "05253221695052091886"
     }
    }
   },
   "source": [
    "# for r in rbm_rec:\n",
    "#     print('recommended movies: {}'.format(movies[movies['movieId']==r]['title']))"
   ],
   "execution_count": 37,
   "outputs": []
  },
  {
   "cell_type": "code",
   "metadata": {
    "id": "UXdtNrZ7IAFc",
    "executionInfo": {
     "status": "ok",
     "timestamp": 1620330412106,
     "user_tz": -330,
     "elapsed": 1812,
     "user": {
      "displayName": "basani ashwath",
      "photoUrl": "https://lh3.googleusercontent.com/a-/AOh14Ghgk4K2h0RnshP1oV3Ubha9wCLhuHdXngdOiqjPkA=s64",
      "userId": "05253221695052091886"
     }
    }
   },
   "source": [
    "test_loss = 0\n",
    "s = float(0)\n",
    "nb_users = test_set.shape[0]\n",
    "for id_user in range(nb_users):\n",
    "    \n",
    "    v = train_set[id_user:id_user+1]\n",
    "    vt = test_set[id_user:id_user+1]\n",
    "    if len(vt[vt>=0]) > 0:\n",
    "        _, h = rbm.sample_h(v)   \n",
    "        _, v = rbm.sample_v(h)\n",
    "        test_loss += torch.mean(torch.abs(vt[vt>=0]-v[vt>=0]))\n",
    "        s += 1.\n",
    "            "
   ],
   "execution_count": 38,
   "outputs": []
  },
  {
   "cell_type": "code",
   "metadata": {
    "colab": {
     "base_uri": "https://localhost:8080/"
    },
    "id": "Ms58MnXXzVfP",
    "executionInfo": {
     "status": "ok",
     "timestamp": 1620330413967,
     "user_tz": -330,
     "elapsed": 1106,
     "user": {
      "displayName": "basani ashwath",
      "photoUrl": "https://lh3.googleusercontent.com/a-/AOh14Ghgk4K2h0RnshP1oV3Ubha9wCLhuHdXngdOiqjPkA=s64",
      "userId": "05253221695052091886"
     }
    },
    "outputId": "72c58d3a-7f1b-4af1-ec06-3b22ae62c612"
   },
   "source": [
    "rmse = (test_loss/s).cpu().numpy()\n",
    "print(' Final RMSE loss: '+str(rmse))\n"
   ],
   "execution_count": 39,
   "outputs": [
    {
     "name": "stdout",
     "output_type": "stream",
     "text": [
      " Final RMSE loss: 0.52463025\n"
     ]
    }
   ]
  },
  {
   "cell_type": "code",
   "metadata": {
    "id": "eUXKQKvv3TMO",
    "executionInfo": {
     "status": "ok",
     "timestamp": 1620330433521,
     "user_tz": -330,
     "elapsed": 1155,
     "user": {
      "displayName": "basani ashwath",
      "photoUrl": "https://lh3.googleusercontent.com/a-/AOh14Ghgk4K2h0RnshP1oV3Ubha9wCLhuHdXngdOiqjPkA=s64",
      "userId": "05253221695052091886"
     }
    }
   },
   "source": [
    "predictions = np.zeros(train_set.shape)\n",
    "for id_user in range(nb_users):\n",
    "    \n",
    "    v = train_set[id_user:id_user+1]\n",
    "    vt = test_set[id_user:id_user+1]\n",
    "    if len(vt[vt>=0]) > 0:\n",
    "        _, h = rbm.sample_h(v)   \n",
    "        _, v = rbm.sample_v(h)\n",
    "        predictions[id_user] = v.numpy()\n",
    "        # break"
   ],
   "execution_count": 40,
   "outputs": []
  },
  {
   "cell_type": "code",
   "metadata": {
    "id": "gDJchCG3wLe4",
    "executionInfo": {
     "status": "ok",
     "timestamp": 1620330585554,
     "user_tz": -330,
     "elapsed": 144038,
     "user": {
      "displayName": "basani ashwath",
      "photoUrl": "https://lh3.googleusercontent.com/a-/AOh14Ghgk4K2h0RnshP1oV3Ubha9wCLhuHdXngdOiqjPkA=s64",
      "userId": "05253221695052091886"
     }
    }
   },
   "source": [
    "# precision\n",
    "#Calculate TP,FP,TN,FN at every threshold level (0.0 - 5.0)\n",
    "final = []\n",
    "# for threshold in np.arange(0, 5.5, 0.5):\n",
    "tp=0\n",
    "fn=0\n",
    "fp=0\n",
    "tn=0\n",
    "temp = []\n",
    "for i in range(train_set.shape[0]):\n",
    "    for j in range(train_set.shape[1]):\n",
    "        if train_set[i][j]>=0:\n",
    "            continue\n",
    "        # if predictions[]\n",
    "        true_r = test_set[i][j]\n",
    "        est = predictions[i][j]\n",
    "        \n",
    "        if(true_r==1):\n",
    "            if(est==1):\n",
    "                tp = tp+1\n",
    "            else:\n",
    "                fn = fn+1\n",
    "        elif(true_r==0):\n",
    "            if(est==1):\n",
    "                fp = fp+1\n",
    "            else:\n",
    "                tn = tn+1   \n",
    "        if tp == 0:\n",
    "            precision = 0\n",
    "            recall = 0\n",
    "            f1 = 0\n",
    "        else:\n",
    "            precision = tp / (tp + fp)\n",
    "            recall = tp / (tp + fn)\n",
    "            f1 = 2 * (precision * recall) / (precision + recall)  \n"
   ],
   "execution_count": 41,
   "outputs": []
  },
  {
   "cell_type": "markdown",
   "metadata": {
    "id": "olaUVuuoUJN8"
   },
   "source": [
    "#### В RBM модель выдает 1 или 0 вместо рейтинга пользователя.\n",
    "#### 1 - фильм понравится, 0 - иначе.\n",
    "#### В итоге рекомендуем пользователю фильмы с предсказанием 1"
   ]
  },
  {
   "cell_type": "code",
   "metadata": {
    "colab": {
     "base_uri": "https://localhost:8080/"
    },
    "id": "yuMbfr6Euk66",
    "executionInfo": {
     "status": "ok",
     "timestamp": 1620330585556,
     "user_tz": -330,
     "elapsed": 116696,
     "user": {
      "displayName": "basani ashwath",
      "photoUrl": "https://lh3.googleusercontent.com/a-/AOh14Ghgk4K2h0RnshP1oV3Ubha9wCLhuHdXngdOiqjPkA=s64",
      "userId": "05253221695052091886"
     }
    },
    "outputId": "84a0e8b4-82d5-44b0-ac8f-b5e0d84e1cad"
   },
   "source": [
    "temp = [ tp,fp,tn ,fn, precision, recall, f1]\n",
    "print(\"True positives : {}\".format(tp))\n",
    "print(\"False positives : {}\".format(fp))\n",
    "print(\"True negatives : {}\".format(tn))\n",
    "print(\"false negatives : {}\".format(fn))\n",
    "print(\"Precision : {}\".format(precision))\n",
    "print(\"Recall : {}\".format(recall))\n",
    "print(\"f1 : {}\".format(f1))"
   ],
   "execution_count": 42,
   "outputs": [
    {
     "name": "stdout",
     "output_type": "stream",
     "text": [
      "True positives : 6303\n",
      "False positives : 1112\n",
      "True negatives : 1521\n",
      "false negatives : 8090\n",
      "Precision : 0.8500337154416723\n",
      "Recall : 0.437921211700132\n",
      "f1 : 0.5780447542186353\n"
     ]
    }
   ]
  },
  {
   "cell_type": "code",
   "metadata": {
    "id": "COqUemIuKp5Q",
    "executionInfo": {
     "status": "ok",
     "timestamp": 1620330585559,
     "user_tz": -330,
     "elapsed": 116390,
     "user": {
      "displayName": "basani ashwath",
      "photoUrl": "https://lh3.googleusercontent.com/a-/AOh14Ghgk4K2h0RnshP1oV3Ubha9wCLhuHdXngdOiqjPkA=s64",
      "userId": "05253221695052091886"
     }
    }
   },
   "source": [],
   "execution_count": 42,
   "outputs": []
  },
  {
   "cell_type": "code",
   "metadata": {
    "id": "rb8oLbeTKGUL",
    "executionInfo": {
     "status": "ok",
     "timestamp": 1620330607353,
     "user_tz": -330,
     "elapsed": 2128,
     "user": {
      "displayName": "basani ashwath",
      "photoUrl": "https://lh3.googleusercontent.com/a-/AOh14Ghgk4K2h0RnshP1oV3Ubha9wCLhuHdXngdOiqjPkA=s64",
      "userId": "05253221695052091886"
     }
    }
   },
   "source": [
    "rbm_dict = {'F1': f1, 'RMSE': rmse, 'precision': precision, 'recall': recall}"
   ],
   "execution_count": 43,
   "outputs": []
  },
  {
   "cell_type": "code",
   "metadata": {
    "id": "WRawFdEfH_-Z"
   },
   "source": [
    "################################################################################################################################################################################################################\n",
    "################################################################################################################################################################################################################\n",
    "#                                                                                        Model3: AutoEncoders                                                                                                  #\n",
    "################################################################################################################################################################################################################\n",
    "################################################################################################################################################################################################################"
   ],
   "execution_count": 44,
   "outputs": []
  },
  {
   "cell_type": "code",
   "metadata": {
    "id": "KQLpl444IJ9P",
    "executionInfo": {
     "status": "ok",
     "timestamp": 1620330611316,
     "user_tz": -330,
     "elapsed": 2540,
     "user": {
      "displayName": "basani ashwath",
      "photoUrl": "https://lh3.googleusercontent.com/a-/AOh14Ghgk4K2h0RnshP1oV3Ubha9wCLhuHdXngdOiqjPkA=s64",
      "userId": "05253221695052091886"
     }
    }
   },
   "source": [
    "from models.sae import SAE\n",
    "from torch.autograd import Variable\n",
    "from torch import nn"
   ],
   "execution_count": 45,
   "outputs": []
  },
  {
   "cell_type": "code",
   "metadata": {
    "id": "xxEPt9X7rvKp",
    "executionInfo": {
     "status": "ok",
     "timestamp": 1620330612442,
     "user_tz": -330,
     "elapsed": 2932,
     "user": {
      "displayName": "basani ashwath",
      "photoUrl": "https://lh3.googleusercontent.com/a-/AOh14Ghgk4K2h0RnshP1oV3Ubha9wCLhuHdXngdOiqjPkA=s64",
      "userId": "05253221695052091886"
     }
    }
   },
   "source": [
    "sae = SAE(nb_users,nb_movies)"
   ],
   "execution_count": 46,
   "outputs": []
  },
  {
   "cell_type": "code",
   "metadata": {
    "id": "_nABc5H0wNqv",
    "executionInfo": {
     "status": "ok",
     "timestamp": 1620330613749,
     "user_tz": -330,
     "elapsed": 3553,
     "user": {
      "displayName": "basani ashwath",
      "photoUrl": "https://lh3.googleusercontent.com/a-/AOh14Ghgk4K2h0RnshP1oV3Ubha9wCLhuHdXngdOiqjPkA=s64",
      "userId": "05253221695052091886"
     }
    }
   },
   "source": [
    "train_set = pd.read_csv('present_set.csv')\n",
    "train_set = train_set[train_set.columns[2:]]\n",
    "train_set = np.array(train_set,dtype = 'int')\n",
    "test_set = pd.read_csv('future_set.csv')\n",
    "test_set = test_set[test_set.columns[2:]]\n",
    "test_set = np.array(test_set,dtype = 'int')"
   ],
   "execution_count": 47,
   "outputs": []
  },
  {
   "cell_type": "code",
   "metadata": {
    "id": "bF-KWE1MwNqx",
    "executionInfo": {
     "status": "ok",
     "timestamp": 1620330615310,
     "user_tz": -330,
     "elapsed": 3322,
     "user": {
      "displayName": "basani ashwath",
      "photoUrl": "https://lh3.googleusercontent.com/a-/AOh14Ghgk4K2h0RnshP1oV3Ubha9wCLhuHdXngdOiqjPkA=s64",
      "userId": "05253221695052091886"
     }
    }
   },
   "source": [
    "train_set = torch.FloatTensor(train_set)\n",
    "test_set = torch.FloatTensor(test_set)"
   ],
   "execution_count": 48,
   "outputs": []
  },
  {
   "cell_type": "code",
   "metadata": {
    "id": "ukeoVvBIrwLy",
    "executionInfo": {
     "status": "ok",
     "timestamp": 1620330618336,
     "user_tz": -330,
     "elapsed": 4230,
     "user": {
      "displayName": "basani ashwath",
      "photoUrl": "https://lh3.googleusercontent.com/a-/AOh14Ghgk4K2h0RnshP1oV3Ubha9wCLhuHdXngdOiqjPkA=s64",
      "userId": "05253221695052091886"
     }
    }
   },
   "source": [
    "fh = open('sae_checkpoints/sae_1000.weights','rb')\n",
    "weights = torch.load(fh)\n",
    "fh.close()"
   ],
   "execution_count": 49,
   "outputs": []
  },
  {
   "cell_type": "code",
   "metadata": {
    "colab": {
     "base_uri": "https://localhost:8080/"
    },
    "id": "6xKLY_K9sFGV",
    "executionInfo": {
     "status": "ok",
     "timestamp": 1620330618338,
     "user_tz": -330,
     "elapsed": 3124,
     "user": {
      "displayName": "basani ashwath",
      "photoUrl": "https://lh3.googleusercontent.com/a-/AOh14Ghgk4K2h0RnshP1oV3Ubha9wCLhuHdXngdOiqjPkA=s64",
      "userId": "05253221695052091886"
     }
    },
    "outputId": "a71cdd10-88be-4b0a-e39c-5b9bc9872b02"
   },
   "source": [
    "sae.load_state_dict(weights)"
   ],
   "execution_count": 50,
   "outputs": [
    {
     "data": {
      "text/plain": "<All keys matched successfully>"
     },
     "execution_count": 50,
     "metadata": {},
     "output_type": "execute_result"
    }
   ]
  },
  {
   "cell_type": "code",
   "metadata": {
    "id": "Vgs40JbxsF2H",
    "executionInfo": {
     "status": "ok",
     "timestamp": 1620330618343,
     "user_tz": -330,
     "elapsed": 2069,
     "user": {
      "displayName": "basani ashwath",
      "photoUrl": "https://lh3.googleusercontent.com/a-/AOh14Ghgk4K2h0RnshP1oV3Ubha9wCLhuHdXngdOiqjPkA=s64",
      "userId": "05253221695052091886"
     }
    }
   },
   "source": [
    "# sae_rec = sae_recommendations(test_set,sae,user_id=164)"
   ],
   "execution_count": 51,
   "outputs": []
  },
  {
   "cell_type": "code",
   "metadata": {
    "id": "1y-bOuS_tFxV",
    "executionInfo": {
     "status": "ok",
     "timestamp": 1620330618345,
     "user_tz": -330,
     "elapsed": 1642,
     "user": {
      "displayName": "basani ashwath",
      "photoUrl": "https://lh3.googleusercontent.com/a-/AOh14Ghgk4K2h0RnshP1oV3Ubha9wCLhuHdXngdOiqjPkA=s64",
      "userId": "05253221695052091886"
     }
    }
   },
   "source": [
    "# for r in sae_rec:\n",
    "#     print('recommended movies: {}'.format(movies[movies['movieId']==r]['title']))"
   ],
   "execution_count": 52,
   "outputs": []
  },
  {
   "cell_type": "code",
   "metadata": {
    "id": "zkx53nhFw36P",
    "colab": {
     "base_uri": "https://localhost:8080/"
    },
    "executionInfo": {
     "status": "ok",
     "timestamp": 1620330621077,
     "user_tz": -330,
     "elapsed": 2154,
     "user": {
      "displayName": "basani ashwath",
      "photoUrl": "https://lh3.googleusercontent.com/a-/AOh14Ghgk4K2h0RnshP1oV3Ubha9wCLhuHdXngdOiqjPkA=s64",
      "userId": "05253221695052091886"
     }
    },
    "outputId": "dd9ce4c1-887f-44a4-ab08-acdd45ba42dc"
   },
   "source": [
    "criterion = nn.MSELoss()\n",
    "test_loss = 0\n",
    "s = 0.\n",
    "for id_user in range(nb_users):\n",
    "  input = Variable(train_set[id_user]).unsqueeze(0)\n",
    "  target = Variable(test_set[id_user]).unsqueeze(0)\n",
    "  target = target[0,:]\n",
    "  input = train_set[id_user]\n",
    "  \n",
    "  if torch.sum(target.data > 0) > 0:\n",
    "    output = sae(input)\n",
    "    target.require_grad = False\n",
    "    \n",
    "    output[target == 0] = 0\n",
    "    loss = criterion(output, target)\n",
    "    mean_corrector = nb_movies/float(torch.sum(target.data > 0) + 1e-10)\n",
    "    test_loss += np.sqrt(loss.data*mean_corrector)\n",
    "    s += 1. \n",
    "print('test loss: '+str(test_loss/s))"
   ],
   "execution_count": 53,
   "outputs": [
    {
     "name": "stdout",
     "output_type": "stream",
     "text": [
      "test loss: tensor(1.0334)\n"
     ]
    }
   ]
  },
  {
   "cell_type": "code",
   "metadata": {
    "colab": {
     "base_uri": "https://localhost:8080/"
    },
    "id": "8p9hFQT8LRzW",
    "executionInfo": {
     "status": "ok",
     "timestamp": 1620330624689,
     "user_tz": -330,
     "elapsed": 984,
     "user": {
      "displayName": "basani ashwath",
      "photoUrl": "https://lh3.googleusercontent.com/a-/AOh14Ghgk4K2h0RnshP1oV3Ubha9wCLhuHdXngdOiqjPkA=s64",
      "userId": "05253221695052091886"
     }
    },
    "outputId": "61956665-9fdf-4a0b-ef18-cc24fa7bc72a"
   },
   "source": [
    "sae_rmse = float((test_loss/s).numpy())\n",
    "sae_rmse\n"
   ],
   "execution_count": 54,
   "outputs": [
    {
     "data": {
      "text/plain": "1.033371925354004"
     },
     "execution_count": 54,
     "metadata": {},
     "output_type": "execute_result"
    }
   ]
  },
  {
   "cell_type": "code",
   "metadata": {
    "colab": {
     "base_uri": "https://localhost:8080/"
    },
    "id": "ZXDkJAu-7OSF",
    "executionInfo": {
     "status": "ok",
     "timestamp": 1620330628034,
     "user_tz": -330,
     "elapsed": 1016,
     "user": {
      "displayName": "basani ashwath",
      "photoUrl": "https://lh3.googleusercontent.com/a-/AOh14Ghgk4K2h0RnshP1oV3Ubha9wCLhuHdXngdOiqjPkA=s64",
      "userId": "05253221695052091886"
     }
    },
    "outputId": "d77ea39c-15cf-4e8b-ea12-218d70f6b8a3"
   },
   "source": [
    "test_set.shape"
   ],
   "execution_count": 55,
   "outputs": [
    {
     "data": {
      "text/plain": "torch.Size([1208, 3883])"
     },
     "execution_count": 55,
     "metadata": {},
     "output_type": "execute_result"
    }
   ]
  },
  {
   "cell_type": "code",
   "metadata": {
    "id": "H6yP6QIy2MxS",
    "executionInfo": {
     "status": "ok",
     "timestamp": 1620330631311,
     "user_tz": -330,
     "elapsed": 1705,
     "user": {
      "displayName": "basani ashwath",
      "photoUrl": "https://lh3.googleusercontent.com/a-/AOh14Ghgk4K2h0RnshP1oV3Ubha9wCLhuHdXngdOiqjPkA=s64",
      "userId": "05253221695052091886"
     }
    }
   },
   "source": [
    "predictions = np.zeros(test_set.shape)\n",
    "for i in range(train_set.shape[0]):\n",
    "    input=Variable(train_set[i]).unsqueeze(0)\n",
    "    output = sae(input)\n",
    "    predictions[i] = output.detach().numpy()"
   ],
   "execution_count": 56,
   "outputs": []
  },
  {
   "cell_type": "code",
   "metadata": {
    "id": "yMRQNeLT8GLq",
    "executionInfo": {
     "status": "ok",
     "timestamp": 1620330635483,
     "user_tz": -330,
     "elapsed": 1368,
     "user": {
      "displayName": "basani ashwath",
      "photoUrl": "https://lh3.googleusercontent.com/a-/AOh14Ghgk4K2h0RnshP1oV3Ubha9wCLhuHdXngdOiqjPkA=s64",
      "userId": "05253221695052091886"
     }
    }
   },
   "source": [
    "# predictions"
   ],
   "execution_count": 57,
   "outputs": []
  },
  {
   "cell_type": "code",
   "metadata": {
    "id": "0pP9fNwww4hA",
    "executionInfo": {
     "status": "ok",
     "timestamp": 1620331640903,
     "user_tz": -330,
     "elapsed": 1006409,
     "user": {
      "displayName": "basani ashwath",
      "photoUrl": "https://lh3.googleusercontent.com/a-/AOh14Ghgk4K2h0RnshP1oV3Ubha9wCLhuHdXngdOiqjPkA=s64",
      "userId": "05253221695052091886"
     }
    }
   },
   "source": [
    "# precision\n",
    "#Calculate TP,FP,TN,FN at every threshold level (0.0 - 5.0)\n",
    "final = []\n",
    "for threshold in np.arange(0, 5.5, 0.5):\n",
    "    tp=0\n",
    "    fn=0\n",
    "    fp=0\n",
    "    tn=0\n",
    "    temp = []\n",
    "    for i in range(train_set.shape[0]):\n",
    "        for j in range(train_set.shape[1]):\n",
    "            if train_set[i][j]>0:\n",
    "                continue\n",
    "            if test_set[i][j]==0:\n",
    "                continue\n",
    "            true_r = test_set[i][j]\n",
    "            est = predictions[i][j]\n",
    "            if(true_r>=threshold):\n",
    "                if(est>=threshold):\n",
    "                    tp = tp+1\n",
    "                else:\n",
    "                    fn = fn+1\n",
    "            else:\n",
    "                if(est>=threshold):\n",
    "                    fp = fp+1\n",
    "                else:\n",
    "                    tn = tn+1     \n",
    "            if tp == 0:\n",
    "                precision = 0\n",
    "                recall = 0\n",
    "                f1 = 0\n",
    "            else:\n",
    "                precision = tp / (tp + fp)\n",
    "                recall = tp / (tp + fn)\n",
    "                f1 = 2 * (precision * recall) / (precision + recall)  \n",
    "    temp = [threshold, tp,fp,tn ,fn, precision, recall, f1]\n",
    "    final.append(temp)\n",
    "results = pd.DataFrame(final)\n",
    "results.rename(columns={0:'threshold', 1:'tp', 2: 'fp', 3: 'tn', 4:'fn', 5: 'Precision', 6:'Recall', 7:'F1'}, inplace=True)"
   ],
   "execution_count": 58,
   "outputs": []
  },
  {
   "cell_type": "code",
   "metadata": {
    "colab": {
     "base_uri": "https://localhost:8080/",
     "height": 390
    },
    "id": "Zn5Aqal3-rHW",
    "executionInfo": {
     "status": "ok",
     "timestamp": 1620331671121,
     "user_tz": -330,
     "elapsed": 1376,
     "user": {
      "displayName": "basani ashwath",
      "photoUrl": "https://lh3.googleusercontent.com/a-/AOh14Ghgk4K2h0RnshP1oV3Ubha9wCLhuHdXngdOiqjPkA=s64",
      "userId": "05253221695052091886"
     }
    },
    "outputId": "1356bbf6-4fb8-4278-8669-975c7ac88ed1"
   },
   "source": [
    "results"
   ],
   "execution_count": 59,
   "outputs": [
    {
     "data": {
      "text/plain": "    threshold     tp    fp     tn    fn  Precision    Recall        F1\n0         0.0  17026     0      0     0   1.000000  1.000000  1.000000\n1         0.5  17025     0      0     1   1.000000  0.999941  0.999971\n2         1.0  17025     0      0     1   1.000000  0.999941  0.999971\n3         1.5  16137   857     15    17   0.949570  0.998948  0.973633\n4         2.0  15961   779     93   193   0.953465  0.988052  0.970451\n5         2.5  13942  2191    442   451   0.864191  0.968665  0.913451\n6         3.0  12832  1758    875  1561   0.879507  0.891545  0.885485\n7         3.5   7803  3889   3196  2138   0.667379  0.784931  0.721398\n8         4.0   4720  1872   5213  5221   0.716019  0.474801  0.570979\n9         4.5    753  1033  12060  3180   0.421613  0.191457  0.263333\n10        5.0     19    26  13067  3914   0.422222  0.004831  0.009553",
      "text/html": "<div>\n<style scoped>\n    .dataframe tbody tr th:only-of-type {\n        vertical-align: middle;\n    }\n\n    .dataframe tbody tr th {\n        vertical-align: top;\n    }\n\n    .dataframe thead th {\n        text-align: right;\n    }\n</style>\n<table border=\"1\" class=\"dataframe\">\n  <thead>\n    <tr style=\"text-align: right;\">\n      <th></th>\n      <th>threshold</th>\n      <th>tp</th>\n      <th>fp</th>\n      <th>tn</th>\n      <th>fn</th>\n      <th>Precision</th>\n      <th>Recall</th>\n      <th>F1</th>\n    </tr>\n  </thead>\n  <tbody>\n    <tr>\n      <th>0</th>\n      <td>0.0</td>\n      <td>17026</td>\n      <td>0</td>\n      <td>0</td>\n      <td>0</td>\n      <td>1.000000</td>\n      <td>1.000000</td>\n      <td>1.000000</td>\n    </tr>\n    <tr>\n      <th>1</th>\n      <td>0.5</td>\n      <td>17025</td>\n      <td>0</td>\n      <td>0</td>\n      <td>1</td>\n      <td>1.000000</td>\n      <td>0.999941</td>\n      <td>0.999971</td>\n    </tr>\n    <tr>\n      <th>2</th>\n      <td>1.0</td>\n      <td>17025</td>\n      <td>0</td>\n      <td>0</td>\n      <td>1</td>\n      <td>1.000000</td>\n      <td>0.999941</td>\n      <td>0.999971</td>\n    </tr>\n    <tr>\n      <th>3</th>\n      <td>1.5</td>\n      <td>16137</td>\n      <td>857</td>\n      <td>15</td>\n      <td>17</td>\n      <td>0.949570</td>\n      <td>0.998948</td>\n      <td>0.973633</td>\n    </tr>\n    <tr>\n      <th>4</th>\n      <td>2.0</td>\n      <td>15961</td>\n      <td>779</td>\n      <td>93</td>\n      <td>193</td>\n      <td>0.953465</td>\n      <td>0.988052</td>\n      <td>0.970451</td>\n    </tr>\n    <tr>\n      <th>5</th>\n      <td>2.5</td>\n      <td>13942</td>\n      <td>2191</td>\n      <td>442</td>\n      <td>451</td>\n      <td>0.864191</td>\n      <td>0.968665</td>\n      <td>0.913451</td>\n    </tr>\n    <tr>\n      <th>6</th>\n      <td>3.0</td>\n      <td>12832</td>\n      <td>1758</td>\n      <td>875</td>\n      <td>1561</td>\n      <td>0.879507</td>\n      <td>0.891545</td>\n      <td>0.885485</td>\n    </tr>\n    <tr>\n      <th>7</th>\n      <td>3.5</td>\n      <td>7803</td>\n      <td>3889</td>\n      <td>3196</td>\n      <td>2138</td>\n      <td>0.667379</td>\n      <td>0.784931</td>\n      <td>0.721398</td>\n    </tr>\n    <tr>\n      <th>8</th>\n      <td>4.0</td>\n      <td>4720</td>\n      <td>1872</td>\n      <td>5213</td>\n      <td>5221</td>\n      <td>0.716019</td>\n      <td>0.474801</td>\n      <td>0.570979</td>\n    </tr>\n    <tr>\n      <th>9</th>\n      <td>4.5</td>\n      <td>753</td>\n      <td>1033</td>\n      <td>12060</td>\n      <td>3180</td>\n      <td>0.421613</td>\n      <td>0.191457</td>\n      <td>0.263333</td>\n    </tr>\n    <tr>\n      <th>10</th>\n      <td>5.0</td>\n      <td>19</td>\n      <td>26</td>\n      <td>13067</td>\n      <td>3914</td>\n      <td>0.422222</td>\n      <td>0.004831</td>\n      <td>0.009553</td>\n    </tr>\n  </tbody>\n</table>\n</div>"
     },
     "execution_count": 59,
     "metadata": {},
     "output_type": "execute_result"
    }
   ]
  },
  {
   "cell_type": "code",
   "metadata": {
    "id": "DwOdS6XaMC6b",
    "executionInfo": {
     "status": "ok",
     "timestamp": 1620331675266,
     "user_tz": -330,
     "elapsed": 602,
     "user": {
      "displayName": "basani ashwath",
      "photoUrl": "https://lh3.googleusercontent.com/a-/AOh14Ghgk4K2h0RnshP1oV3Ubha9wCLhuHdXngdOiqjPkA=s64",
      "userId": "05253221695052091886"
     }
    }
   },
   "source": [],
   "execution_count": 59,
   "outputs": []
  },
  {
   "cell_type": "code",
   "metadata": {
    "id": "M8q_V3qZK3IY",
    "executionInfo": {
     "status": "ok",
     "timestamp": 1620331680640,
     "user_tz": -330,
     "elapsed": 835,
     "user": {
      "displayName": "basani ashwath",
      "photoUrl": "https://lh3.googleusercontent.com/a-/AOh14Ghgk4K2h0RnshP1oV3Ubha9wCLhuHdXngdOiqjPkA=s64",
      "userId": "05253221695052091886"
     }
    }
   },
   "source": [
    "sae_dict = {'F1':float(results[results.threshold==2.5]['F1']), 'RMSE': sae_rmse, 'precision': float(results[results.threshold==2.5]['Precision']), 'recall': float(results[results.threshold==2.5]['Recall'])}"
   ],
   "execution_count": 60,
   "outputs": []
  },
  {
   "cell_type": "code",
   "execution_count": 61,
   "outputs": [],
   "source": [
    "################################################################################################################################################################################################################\n",
    "################################################################################################################################################################################################################\n",
    "#                                                                                        Model4: SVD                                                                                                  #\n",
    "################################################################################################################################################################################################################\n",
    "################################################################################################################################################################################################################"
   ],
   "metadata": {
    "collapsed": false,
    "pycharm": {
     "name": "#%%\n"
    }
   }
  },
  {
   "cell_type": "code",
   "execution_count": 62,
   "outputs": [],
   "source": [
    "from models.svd import SVD\n",
    "from read_data import preprocessing_for_mf"
   ],
   "metadata": {
    "collapsed": false,
    "pycharm": {
     "name": "#%%\n"
    }
   }
  },
  {
   "cell_type": "code",
   "execution_count": 63,
   "outputs": [
    {
     "name": "stdout",
     "output_type": "stream",
     "text": [
      "load data finished\n",
      "total data  1000209\n"
     ]
    }
   ],
   "source": [
    "train_data, test_data, data = preprocessing_for_mf()"
   ],
   "metadata": {
    "collapsed": false,
    "pycharm": {
     "name": "#%%\n"
    }
   }
  },
  {
   "cell_type": "code",
   "execution_count": 64,
   "outputs": [],
   "source": [
    "f = 20\n",
    "svd = SVD(train_data, f)"
   ],
   "metadata": {
    "collapsed": false,
    "pycharm": {
     "name": "#%%\n"
    }
   }
  },
  {
   "cell_type": "code",
   "execution_count": 65,
   "outputs": [
    {
     "name": "stdout",
     "output_type": "stream",
     "text": [
      "train data size (800167, 3)\n"
     ]
    }
   ],
   "source": [
    "svd.train()"
   ],
   "metadata": {
    "collapsed": false,
    "pycharm": {
     "name": "#%%\n"
    }
   }
  },
  {
   "cell_type": "code",
   "execution_count": 66,
   "outputs": [
    {
     "name": "stdout",
     "output_type": "stream",
     "text": [
      "test data size (200042, 3)\n",
      "rmse of test data is 0.8792477689599741\n"
     ]
    }
   ],
   "source": [
    "svd_rmse = svd.test(test_data)"
   ],
   "metadata": {
    "collapsed": false,
    "pycharm": {
     "name": "#%%\n"
    }
   }
  },
  {
   "cell_type": "code",
   "execution_count": 67,
   "outputs": [],
   "source": [
    "predictions = svd.get_recommendations(test_data)"
   ],
   "metadata": {
    "collapsed": false,
    "pycharm": {
     "name": "#%%\n"
    }
   }
  },
  {
   "cell_type": "code",
   "execution_count": 68,
   "outputs": [],
   "source": [
    "# precision\n",
    "#Calculate TP,FP,TN,FN at every threshold level (0.0 - 5.0)\n",
    "test_data = np.array(test_data)\n",
    "final = []\n",
    "for threshold in np.arange(0, 5.5, 0.5):\n",
    "  tp=0\n",
    "  fn=0\n",
    "  fp=0\n",
    "  tn=0\n",
    "  temp = []\n",
    "  for i in range(test_data.shape[0]):\n",
    "    true_r = test_data[i, 2]\n",
    "    est = predictions[i]\n",
    "    if true_r>=threshold:\n",
    "      if est>=threshold:\n",
    "        tp = tp+1\n",
    "      else:\n",
    "        fn = fn+1\n",
    "    else:\n",
    "      if est>=threshold:\n",
    "        fp = fp+1\n",
    "      else:\n",
    "        tn = tn+1\n",
    "    if tp == 0:\n",
    "      precision = 0\n",
    "      recall = 0\n",
    "      f1 = 0\n",
    "    else:\n",
    "      precision = tp / (tp + fp)\n",
    "      recall = tp / (tp + fn)\n",
    "      f1 = 2 * (precision * recall) / (precision + recall)\n",
    "  temp = [threshold, tp,fp,tn ,fn, precision, recall, f1]\n",
    "  final.append(temp)\n",
    "results = pd.DataFrame(final)\n",
    "results.rename(columns={0:'threshold', 1:'tp', 2: 'fp', 3: 'tn', 4:'fn', 5: 'Precision', 6:'Recall', 7:'F1'}, inplace=True)"
   ],
   "metadata": {
    "collapsed": false,
    "pycharm": {
     "name": "#%%\n"
    }
   }
  },
  {
   "cell_type": "code",
   "execution_count": 69,
   "outputs": [
    {
     "data": {
      "text/plain": "    threshold      tp     fp      tn     fn  Precision    Recall        F1\n0         0.0  200042      0       0      0   1.000000  1.000000  1.000000\n1         0.5  200042      0       0      0   1.000000  1.000000  1.000000\n2         1.0  200042      0       0      0   1.000000  1.000000  1.000000\n3         1.5  188634  10368     832    208   0.947900  0.998899  0.972731\n4         2.0  186997   8538    2662   1845   0.956335  0.990230  0.972987\n5         2.5  163074  22591   10044   4333   0.878324  0.974117  0.923744\n6         3.0  148655  14039   18596  18752   0.913709  0.887986  0.900664\n7         3.5   90095  28026   56888  25033   0.762735  0.782564  0.772522\n8         4.0   50250   7857   77057  64878   0.864784  0.436471  0.580137\n9         4.5    9542   4429  150382  35689   0.682986  0.210962  0.322354\n10        5.0     845    167  154644  44386   0.834980  0.018682  0.036546",
      "text/html": "<div>\n<style scoped>\n    .dataframe tbody tr th:only-of-type {\n        vertical-align: middle;\n    }\n\n    .dataframe tbody tr th {\n        vertical-align: top;\n    }\n\n    .dataframe thead th {\n        text-align: right;\n    }\n</style>\n<table border=\"1\" class=\"dataframe\">\n  <thead>\n    <tr style=\"text-align: right;\">\n      <th></th>\n      <th>threshold</th>\n      <th>tp</th>\n      <th>fp</th>\n      <th>tn</th>\n      <th>fn</th>\n      <th>Precision</th>\n      <th>Recall</th>\n      <th>F1</th>\n    </tr>\n  </thead>\n  <tbody>\n    <tr>\n      <th>0</th>\n      <td>0.0</td>\n      <td>200042</td>\n      <td>0</td>\n      <td>0</td>\n      <td>0</td>\n      <td>1.000000</td>\n      <td>1.000000</td>\n      <td>1.000000</td>\n    </tr>\n    <tr>\n      <th>1</th>\n      <td>0.5</td>\n      <td>200042</td>\n      <td>0</td>\n      <td>0</td>\n      <td>0</td>\n      <td>1.000000</td>\n      <td>1.000000</td>\n      <td>1.000000</td>\n    </tr>\n    <tr>\n      <th>2</th>\n      <td>1.0</td>\n      <td>200042</td>\n      <td>0</td>\n      <td>0</td>\n      <td>0</td>\n      <td>1.000000</td>\n      <td>1.000000</td>\n      <td>1.000000</td>\n    </tr>\n    <tr>\n      <th>3</th>\n      <td>1.5</td>\n      <td>188634</td>\n      <td>10368</td>\n      <td>832</td>\n      <td>208</td>\n      <td>0.947900</td>\n      <td>0.998899</td>\n      <td>0.972731</td>\n    </tr>\n    <tr>\n      <th>4</th>\n      <td>2.0</td>\n      <td>186997</td>\n      <td>8538</td>\n      <td>2662</td>\n      <td>1845</td>\n      <td>0.956335</td>\n      <td>0.990230</td>\n      <td>0.972987</td>\n    </tr>\n    <tr>\n      <th>5</th>\n      <td>2.5</td>\n      <td>163074</td>\n      <td>22591</td>\n      <td>10044</td>\n      <td>4333</td>\n      <td>0.878324</td>\n      <td>0.974117</td>\n      <td>0.923744</td>\n    </tr>\n    <tr>\n      <th>6</th>\n      <td>3.0</td>\n      <td>148655</td>\n      <td>14039</td>\n      <td>18596</td>\n      <td>18752</td>\n      <td>0.913709</td>\n      <td>0.887986</td>\n      <td>0.900664</td>\n    </tr>\n    <tr>\n      <th>7</th>\n      <td>3.5</td>\n      <td>90095</td>\n      <td>28026</td>\n      <td>56888</td>\n      <td>25033</td>\n      <td>0.762735</td>\n      <td>0.782564</td>\n      <td>0.772522</td>\n    </tr>\n    <tr>\n      <th>8</th>\n      <td>4.0</td>\n      <td>50250</td>\n      <td>7857</td>\n      <td>77057</td>\n      <td>64878</td>\n      <td>0.864784</td>\n      <td>0.436471</td>\n      <td>0.580137</td>\n    </tr>\n    <tr>\n      <th>9</th>\n      <td>4.5</td>\n      <td>9542</td>\n      <td>4429</td>\n      <td>150382</td>\n      <td>35689</td>\n      <td>0.682986</td>\n      <td>0.210962</td>\n      <td>0.322354</td>\n    </tr>\n    <tr>\n      <th>10</th>\n      <td>5.0</td>\n      <td>845</td>\n      <td>167</td>\n      <td>154644</td>\n      <td>44386</td>\n      <td>0.834980</td>\n      <td>0.018682</td>\n      <td>0.036546</td>\n    </tr>\n  </tbody>\n</table>\n</div>"
     },
     "execution_count": 69,
     "metadata": {},
     "output_type": "execute_result"
    }
   ],
   "source": [
    "results"
   ],
   "metadata": {
    "collapsed": false,
    "pycharm": {
     "name": "#%%\n"
    }
   }
  },
  {
   "cell_type": "code",
   "execution_count": 69,
   "outputs": [],
   "source": [],
   "metadata": {
    "collapsed": false,
    "pycharm": {
     "name": "#%%\n"
    }
   }
  },
  {
   "cell_type": "code",
   "execution_count": 70,
   "outputs": [
    {
     "data": {
      "text/plain": "{'F1': 0.9237435990392895,\n 'RMSE': 0.8792477689599741,\n 'precision': 0.8783238628713005,\n 'recall': 0.9741169724085612}"
     },
     "execution_count": 70,
     "metadata": {},
     "output_type": "execute_result"
    }
   ],
   "source": [
    "svd_dict = {'F1':float(results[results.threshold==2.5]['F1']), 'RMSE': svd_rmse, 'precision': float(results[results.threshold==2.5]['Precision']), 'recall': float(results[results.threshold==2.5]['Recall'])}\n",
    "svd_dict"
   ],
   "metadata": {
    "collapsed": false,
    "pycharm": {
     "name": "#%%\n"
    }
   }
  },
  {
   "cell_type": "code",
   "execution_count": 71,
   "outputs": [],
   "source": [
    "################################################################################################################################################################################################################\n",
    "################################################################################################################################################################################################################\n",
    "#                                                                                        Model4: SVD                                                                                                  #\n",
    "################################################################################################################################################################################################################\n",
    "################################################################################################################################################################################################################"
   ],
   "metadata": {
    "collapsed": false,
    "pycharm": {
     "name": "#%%\n"
    }
   }
  },
  {
   "cell_type": "code",
   "execution_count": 72,
   "outputs": [],
   "source": [
    "from models.svdpp import SVDpp\n",
    "from read_data import preprocessing_for_mf"
   ],
   "metadata": {
    "collapsed": false,
    "pycharm": {
     "name": "#%%\n"
    }
   }
  },
  {
   "cell_type": "code",
   "execution_count": 73,
   "outputs": [
    {
     "name": "stdout",
     "output_type": "stream",
     "text": [
      "load data finished\n",
      "total data  1000209\n"
     ]
    }
   ],
   "source": [
    "train_data, test_data, data = preprocessing_for_mf()"
   ],
   "metadata": {
    "collapsed": false,
    "pycharm": {
     "name": "#%%\n"
    }
   }
  },
  {
   "cell_type": "code",
   "execution_count": 74,
   "outputs": [],
   "source": [
    "f = 20\n",
    "svdpp = SVDpp(train_data, f)"
   ],
   "metadata": {
    "collapsed": false,
    "pycharm": {
     "name": "#%%\n"
    }
   }
  },
  {
   "cell_type": "code",
   "execution_count": null,
   "outputs": [
    {
     "name": "stdout",
     "output_type": "stream",
     "text": [
      "train data size (800167, 3)\n",
      "step 1 is running\n",
      "rmse is 0.9490360914440855\n",
      "step 2 is running\n",
      "rmse is 0.9179856314806552\n",
      "step 3 is running\n",
      "rmse is 0.9137334319693238\n",
      "step 4 is running\n",
      "rmse is 0.9087190692056907\n",
      "step 5 is running\n",
      "rmse is 0.9026405190551372\n",
      "step 6 is running\n",
      "rmse is 0.8977446761192573\n",
      "step 7 is running\n"
     ]
    }
   ],
   "source": [
    "svdpp.train()"
   ],
   "metadata": {
    "collapsed": false,
    "pycharm": {
     "name": "#%%\n",
     "is_executing": true
    }
   }
  },
  {
   "cell_type": "code",
   "execution_count": null,
   "outputs": [],
   "source": [
    "svdpp_rmse = svd.test(test_data)"
   ],
   "metadata": {
    "collapsed": false,
    "pycharm": {
     "name": "#%%\n",
     "is_executing": true
    }
   }
  },
  {
   "cell_type": "code",
   "execution_count": null,
   "outputs": [],
   "source": [
    "predictions = svdpp.get_recommendations(test_data)"
   ],
   "metadata": {
    "collapsed": false,
    "pycharm": {
     "name": "#%%\n",
     "is_executing": true
    }
   }
  },
  {
   "cell_type": "code",
   "execution_count": null,
   "outputs": [],
   "source": [
    "# precision\n",
    "#Calculate TP,FP,TN,FN at every threshold level (0.0 - 5.0)\n",
    "test_data = np.array(test_data)\n",
    "final = []\n",
    "for threshold in np.arange(0, 5.5, 0.5):\n",
    "  tp=0\n",
    "  fn=0\n",
    "  fp=0\n",
    "  tn=0\n",
    "  temp = []\n",
    "  for i in range(test_data.shape[0]):\n",
    "    true_r = test_data[i, 2]\n",
    "    est = predictions[i]\n",
    "    if true_r>=threshold:\n",
    "      if est>=threshold:\n",
    "        tp = tp+1\n",
    "      else:\n",
    "        fn = fn+1\n",
    "    else:\n",
    "      if est>=threshold:\n",
    "        fp = fp+1\n",
    "      else:\n",
    "        tn = tn+1\n",
    "    if tp == 0:\n",
    "      precision = 0\n",
    "      recall = 0\n",
    "      f1 = 0\n",
    "    else:\n",
    "      precision = tp / (tp + fp)\n",
    "      recall = tp / (tp + fn)\n",
    "      f1 = 2 * (precision * recall) / (precision + recall)\n",
    "  temp = [threshold, tp,fp,tn ,fn, precision, recall, f1]\n",
    "  final.append(temp)\n",
    "results = pd.DataFrame(final)\n",
    "results.rename(columns={0:'threshold', 1:'tp', 2: 'fp', 3: 'tn', 4:'fn', 5: 'Precision', 6:'Recall', 7:'F1'}, inplace=True)"
   ],
   "metadata": {
    "collapsed": false,
    "pycharm": {
     "name": "#%%\n",
     "is_executing": true
    }
   }
  },
  {
   "cell_type": "code",
   "execution_count": null,
   "outputs": [],
   "source": [
    "results"
   ],
   "metadata": {
    "collapsed": false,
    "pycharm": {
     "name": "#%%\n",
     "is_executing": true
    }
   }
  },
  {
   "cell_type": "code",
   "execution_count": null,
   "outputs": [],
   "source": [],
   "metadata": {
    "collapsed": false,
    "pycharm": {
     "name": "#%%\n",
     "is_executing": true
    }
   }
  },
  {
   "cell_type": "code",
   "execution_count": null,
   "outputs": [],
   "source": [
    "svdpp_dict = {'F1':float(results[results.threshold==2.5]['F1']), 'RMSE': svdpp_rmse, 'precision': float(results[results.threshold==2.5]['Precision']), 'recall': float(results[results.threshold==2.5]['Recall'])}"
   ],
   "metadata": {
    "collapsed": false,
    "pycharm": {
     "name": "#%%\n",
     "is_executing": true
    }
   }
  },
  {
   "cell_type": "code",
   "metadata": {
    "id": "ViKCfG2Iw4cq",
    "executionInfo": {
     "status": "ok",
     "timestamp": 1620331682016,
     "user_tz": -330,
     "elapsed": 661,
     "user": {
      "displayName": "basani ashwath",
      "photoUrl": "https://lh3.googleusercontent.com/a-/AOh14Ghgk4K2h0RnshP1oV3Ubha9wCLhuHdXngdOiqjPkA=s64",
      "userId": "05253221695052091886"
     }
    },
    "pycharm": {
     "is_executing": true
    }
   },
   "source": [
    "################################################################################################################################################################################################################\n",
    "################################################################################################################################################################################################################\n",
    "#                                                                                             Model Comparisions                                                                                               #\n",
    "################################################################################################################################################################################################################\n",
    "################################################################################################################################################################################################################"
   ],
   "execution_count": null,
   "outputs": []
  },
  {
   "cell_type": "code",
   "metadata": {
    "colab": {
     "base_uri": "https://localhost:8080/"
    },
    "id": "fFwf1rv0N0Yc",
    "executionInfo": {
     "status": "ok",
     "timestamp": 1620331685636,
     "user_tz": -330,
     "elapsed": 754,
     "user": {
      "displayName": "basani ashwath",
      "photoUrl": "https://lh3.googleusercontent.com/a-/AOh14Ghgk4K2h0RnshP1oV3Ubha9wCLhuHdXngdOiqjPkA=s64",
      "userId": "05253221695052091886"
     }
    },
    "outputId": "c89b42bc-3836-4df9-8b20-0dd3156b3086",
    "pycharm": {
     "is_executing": true
    }
   },
   "source": [
    "emb_dict"
   ],
   "execution_count": null,
   "outputs": []
  },
  {
   "cell_type": "code",
   "metadata": {
    "colab": {
     "base_uri": "https://localhost:8080/"
    },
    "id": "Vi6MVnJHN7AR",
    "executionInfo": {
     "status": "ok",
     "timestamp": 1620331687339,
     "user_tz": -330,
     "elapsed": 1163,
     "user": {
      "displayName": "basani ashwath",
      "photoUrl": "https://lh3.googleusercontent.com/a-/AOh14Ghgk4K2h0RnshP1oV3Ubha9wCLhuHdXngdOiqjPkA=s64",
      "userId": "05253221695052091886"
     }
    },
    "outputId": "ce197e12-d2c9-4dae-8e53-9d831614b5b5",
    "pycharm": {
     "is_executing": true
    }
   },
   "source": [
    "rbm_dict"
   ],
   "execution_count": null,
   "outputs": []
  },
  {
   "cell_type": "code",
   "metadata": {
    "colab": {
     "base_uri": "https://localhost:8080/"
    },
    "id": "HD0sDjRTOY2k",
    "executionInfo": {
     "status": "ok",
     "timestamp": 1620331689481,
     "user_tz": -330,
     "elapsed": 1499,
     "user": {
      "displayName": "basani ashwath",
      "photoUrl": "https://lh3.googleusercontent.com/a-/AOh14Ghgk4K2h0RnshP1oV3Ubha9wCLhuHdXngdOiqjPkA=s64",
      "userId": "05253221695052091886"
     }
    },
    "outputId": "764df5e9-fabb-4d56-b033-0ab7f4be56d9",
    "pycharm": {
     "is_executing": true
    }
   },
   "source": [
    "sae_dict"
   ],
   "execution_count": null,
   "outputs": []
  },
  {
   "cell_type": "code",
   "execution_count": null,
   "outputs": [],
   "source": [
    "svd_dict"
   ],
   "metadata": {
    "collapsed": false,
    "pycharm": {
     "name": "#%%\n",
     "is_executing": true
    }
   }
  },
  {
   "cell_type": "code",
   "execution_count": null,
   "outputs": [],
   "source": [
    "svdpp_dict"
   ],
   "metadata": {
    "collapsed": false,
    "pycharm": {
     "name": "#%%\n",
     "is_executing": true
    }
   }
  },
  {
   "cell_type": "code",
   "metadata": {
    "id": "80ewEyMFltcw",
    "executionInfo": {
     "status": "ok",
     "timestamp": 1620331691776,
     "user_tz": -330,
     "elapsed": 733,
     "user": {
      "displayName": "basani ashwath",
      "photoUrl": "https://lh3.googleusercontent.com/a-/AOh14Ghgk4K2h0RnshP1oV3Ubha9wCLhuHdXngdOiqjPkA=s64",
      "userId": "05253221695052091886"
     }
    },
    "pycharm": {
     "is_executing": true
    }
   },
   "source": [
    "df_comp = pd.DataFrame(columns = list(sae_dict.keys()))"
   ],
   "execution_count": null,
   "outputs": []
  },
  {
   "cell_type": "code",
   "metadata": {
    "id": "evW02-wkNegx",
    "executionInfo": {
     "status": "ok",
     "timestamp": 1620331693215,
     "user_tz": -330,
     "elapsed": 780,
     "user": {
      "displayName": "basani ashwath",
      "photoUrl": "https://lh3.googleusercontent.com/a-/AOh14Ghgk4K2h0RnshP1oV3Ubha9wCLhuHdXngdOiqjPkA=s64",
      "userId": "05253221695052091886"
     }
    },
    "pycharm": {
     "is_executing": true
    }
   },
   "source": [
    "df_comp.loc[0] = [emb_dict[x] for x in df_comp.columns]\n",
    "df_comp.loc[1] = [sae_dict[x] for x in df_comp.columns]\n",
    "df_comp.loc[2] = [rbm_dict[x] for x in df_comp.columns]\n",
    "df_comp.loc[3] = [svd_dict[x] for x in df_comp.columns]\n",
    "df_comp.loc[4] = [svdpp_dict[x] for x in df_comp.columns]"
   ],
   "execution_count": null,
   "outputs": []
  },
  {
   "cell_type": "code",
   "metadata": {
    "colab": {
     "base_uri": "https://localhost:8080/",
     "height": 142
    },
    "id": "nxS7_x1GNr8j",
    "executionInfo": {
     "status": "ok",
     "timestamp": 1620331693795,
     "user_tz": -330,
     "elapsed": 683,
     "user": {
      "displayName": "basani ashwath",
      "photoUrl": "https://lh3.googleusercontent.com/a-/AOh14Ghgk4K2h0RnshP1oV3Ubha9wCLhuHdXngdOiqjPkA=s64",
      "userId": "05253221695052091886"
     }
    },
    "outputId": "645aa4c8-5608-4c04-bf04-62bb9e627bc4",
    "pycharm": {
     "is_executing": true
    }
   },
   "source": [
    "df_comp['Model'] = ['EmbeddingNet','Stacked AutoEncoder','Restricted Botlzmann Machine', 'SVD', 'SVD++']\n",
    "df_comp = df_comp[['Model','F1','RMSE','precision','recall']]\n",
    "df_comp"
   ],
   "execution_count": null,
   "outputs": []
  },
  {
   "cell_type": "markdown",
   "metadata": {
    "id": "Iwg1fRO4S-Nm",
    "pycharm": {
     "name": "#%% md\n"
    }
   },
   "source": [
    "##### По результатам Embedding Net дает лучшие предсказания\n",
    "\n",
    "\n",
    "\n"
   ]
  }
 ]
}