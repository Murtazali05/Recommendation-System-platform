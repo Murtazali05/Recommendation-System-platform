{
 "nbformat": 4,
 "nbformat_minor": 0,
 "metadata": {
  "kernelspec": {
   "display_name": "Python 3",
   "language": "python",
   "name": "python3"
  },
  "language_info": {
   "codemirror_mode": {
    "name": "ipython",
    "version": 3
   },
   "file_extension": ".py",
   "mimetype": "text/x-python",
   "name": "python",
   "nbconvert_exporter": "python",
   "pygments_lexer": "ipython3",
   "version": "3.6.4"
  },
  "colab": {
   "name": "0_data_exploration.ipynb",
   "provenance": [],
   "collapsed_sections": []
  }
 },
 "cells": [
  {
   "cell_type": "code",
   "metadata": {
    "id": "jUYDMvaiSRLw",
    "executionInfo": {
     "status": "ok",
     "timestamp": 1620398785050,
     "user_tz": -330,
     "elapsed": 864,
     "user": {
      "displayName": "basani ashwath",
      "photoUrl": "https://lh3.googleusercontent.com/a-/AOh14Ghgk4K2h0RnshP1oV3Ubha9wCLhuHdXngdOiqjPkA=s64",
      "userId": "05253221695052091886"
     }
    }
   },
   "source": [
    "import pandas as pd\n",
    "import numpy as np"
   ],
   "execution_count": 4,
   "outputs": []
  },
  {
   "cell_type": "code",
   "metadata": {
    "id": "egrc4kaBSRL_",
    "executionInfo": {
     "status": "ok",
     "timestamp": 1620398788522,
     "user_tz": -330,
     "elapsed": 2260,
     "user": {
      "displayName": "basani ashwath",
      "photoUrl": "https://lh3.googleusercontent.com/a-/AOh14Ghgk4K2h0RnshP1oV3Ubha9wCLhuHdXngdOiqjPkA=s64",
      "userId": "05253221695052091886"
     }
    }
   },
   "source": [
    "%matplotlib inline\n",
    "from matplotlib import pyplot as plt\n",
    "import seaborn as sns"
   ],
   "execution_count": 5,
   "outputs": []
  },
  {
   "cell_type": "code",
   "metadata": {
    "id": "2NLz-VmUSRMB",
    "executionInfo": {
     "status": "ok",
     "timestamp": 1620398790151,
     "user_tz": -330,
     "elapsed": 1009,
     "user": {
      "displayName": "basani ashwath",
      "photoUrl": "https://lh3.googleusercontent.com/a-/AOh14Ghgk4K2h0RnshP1oV3Ubha9wCLhuHdXngdOiqjPkA=s64",
      "userId": "05253221695052091886"
     }
    }
   },
   "source": [
    "sns.set(font_scale=2.5)"
   ],
   "execution_count": 6,
   "outputs": []
  },
  {
   "cell_type": "code",
   "metadata": {
    "colab": {
     "base_uri": "https://localhost:8080/",
     "height": 85
    },
    "id": "cB-cASqbSRMC",
    "executionInfo": {
     "status": "ok",
     "timestamp": 1620398795755,
     "user_tz": -330,
     "elapsed": 783,
     "user": {
      "displayName": "basani ashwath",
      "photoUrl": "https://lh3.googleusercontent.com/a-/AOh14Ghgk4K2h0RnshP1oV3Ubha9wCLhuHdXngdOiqjPkA=s64",
      "userId": "05253221695052091886"
     }
    },
    "outputId": "867fba4c-1670-435a-ef68-f96acf8cf663"
   },
   "source": [
    "# using a color-blind friendly palette with 10 colors\n",
    "color_blind_palette_10 = ['#cfcfcf', '#ffbc79', '#a2c8ec', '#898989', '#c85200',\n",
    "                          '#5f9ed1', '#595959', '#ababab', '#ff800e', '#006ba4']\n",
    "\n",
    "sns.palplot(color_blind_palette_10)"
   ],
   "execution_count": 7,
   "outputs": [
    {
     "output_type": "display_data",
     "data": {
      "image/png": "[encoded data removed]",
      "text/plain": [
       "<Figure size 720x72 with 1 Axes>"
      ]
     },
     "metadata": {
      "tags": []
     }
    }
   ]
  },
  {
   "cell_type": "markdown",
   "metadata": {
    "id": "uprGDLtCSRMF"
   },
   "source": [
    "# Обработка данных"
   ]
  },
  {
   "cell_type": "markdown",
   "metadata": {
    "id": "yGFnxQucSRMG"
   },
   "source": [
    "### Загрузка данных о фильмах:"
   ]
  },
  {
   "cell_type": "code",
   "metadata": {
    "id": "9Af-5CBASRMG",
    "executionInfo": {
     "status": "ok",
     "timestamp": 1620398802156,
     "user_tz": -330,
     "elapsed": 1462,
     "user": {
      "displayName": "basani ashwath",
      "photoUrl": "https://lh3.googleusercontent.com/a-/AOh14Ghgk4K2h0RnshP1oV3Ubha9wCLhuHdXngdOiqjPkA=s64",
      "userId": "05253221695052091886"
     }
    }
   },
   "source": [
    "movie_df = pd.read_csv('data/raw/u.item', sep='|', header=None, encoding='latin1', index_col=False,\n",
    "                   names=['movie_id',\n",
    "                          'movie_title',\n",
    "                          'release_date',\n",
    "                          'video_release_date',\n",
    "                          'imdb_url',\n",
    "                          'unknown',\n",
    "                          'action',\n",
    "                          'adventure',\n",
    "                          'animation',\n",
    "                          'children',\n",
    "                          'comedy',\n",
    "                          'crime',\n",
    "                          'documentary',\n",
    "                          'drama',\n",
    "                          'fantasy',\n",
    "                          'film_noir',\n",
    "                          'horror',\n",
    "                          'musical',\n",
    "                          'mystery'\n",
    "                          'romance',\n",
    "                          'sci_fi',\n",
    "                          'thriller',\n",
    "                          'war',\n",
    "                          'western'])\n",
    "\n",
    "movie_df.movie_id -= 1 # make this column zero-indexed"
   ],
   "execution_count": 8,
   "outputs": []
  },
  {
   "cell_type": "code",
   "metadata": {
    "colab": {
     "base_uri": "https://localhost:8080/",
     "height": 343
    },
    "id": "36Bpz2FQSRMI",
    "executionInfo": {
     "status": "ok",
     "timestamp": 1620398806534,
     "user_tz": -330,
     "elapsed": 941,
     "user": {
      "displayName": "basani ashwath",
      "photoUrl": "https://lh3.googleusercontent.com/a-/AOh14Ghgk4K2h0RnshP1oV3Ubha9wCLhuHdXngdOiqjPkA=s64",
      "userId": "05253221695052091886"
     }
    },
    "outputId": "107ce551-586f-463a-96ac-6062cff88a45"
   },
   "source": [
    "movie_df.head()"
   ],
   "execution_count": 9,
   "outputs": [
    {
     "output_type": "execute_result",
     "data": {
      "text/html": [
       "<div>\n",
       "<style scoped>\n",
       "    .dataframe tbody tr th:only-of-type {\n",
       "        vertical-align: middle;\n",
       "    }\n",
       "\n",
       "    .dataframe tbody tr th {\n",
       "        vertical-align: top;\n",
       "    }\n",
       "\n",
       "    .dataframe thead th {\n",
       "        text-align: right;\n",
       "    }\n",
       "</style>\n",
       "<table border=\"1\" class=\"dataframe\">\n",
       "  <thead>\n",
       "    <tr style=\"text-align: right;\">\n",
       "      <th></th>\n",
       "      <th>movie_id</th>\n",
       "      <th>movie_title</th>\n",
       "      <th>release_date</th>\n",
       "      <th>video_release_date</th>\n",
       "      <th>imdb_url</th>\n",
       "      <th>unknown</th>\n",
       "      <th>action</th>\n",
       "      <th>adventure</th>\n",
       "      <th>animation</th>\n",
       "      <th>children</th>\n",
       "      <th>comedy</th>\n",
       "      <th>crime</th>\n",
       "      <th>documentary</th>\n",
       "      <th>drama</th>\n",
       "      <th>fantasy</th>\n",
       "      <th>film_noir</th>\n",
       "      <th>horror</th>\n",
       "      <th>musical</th>\n",
       "      <th>mysteryromance</th>\n",
       "      <th>sci_fi</th>\n",
       "      <th>thriller</th>\n",
       "      <th>war</th>\n",
       "      <th>western</th>\n",
       "    </tr>\n",
       "  </thead>\n",
       "  <tbody>\n",
       "    <tr>\n",
       "      <th>0</th>\n",
       "      <td>0</td>\n",
       "      <td>Toy Story (1995)</td>\n",
       "      <td>01-Jan-1995</td>\n",
       "      <td>NaN</td>\n",
       "      <td>http://us.imdb.com/M/title-exact?Toy%20Story%2...</td>\n",
       "      <td>0</td>\n",
       "      <td>0</td>\n",
       "      <td>0</td>\n",
       "      <td>1</td>\n",
       "      <td>1</td>\n",
       "      <td>1</td>\n",
       "      <td>0</td>\n",
       "      <td>0</td>\n",
       "      <td>0</td>\n",
       "      <td>0</td>\n",
       "      <td>0</td>\n",
       "      <td>0</td>\n",
       "      <td>0</td>\n",
       "      <td>0</td>\n",
       "      <td>0</td>\n",
       "      <td>0</td>\n",
       "      <td>0</td>\n",
       "      <td>0</td>\n",
       "    </tr>\n",
       "    <tr>\n",
       "      <th>1</th>\n",
       "      <td>1</td>\n",
       "      <td>GoldenEye (1995)</td>\n",
       "      <td>01-Jan-1995</td>\n",
       "      <td>NaN</td>\n",
       "      <td>http://us.imdb.com/M/title-exact?GoldenEye%20(...</td>\n",
       "      <td>0</td>\n",
       "      <td>1</td>\n",
       "      <td>1</td>\n",
       "      <td>0</td>\n",
       "      <td>0</td>\n",
       "      <td>0</td>\n",
       "      <td>0</td>\n",
       "      <td>0</td>\n",
       "      <td>0</td>\n",
       "      <td>0</td>\n",
       "      <td>0</td>\n",
       "      <td>0</td>\n",
       "      <td>0</td>\n",
       "      <td>0</td>\n",
       "      <td>0</td>\n",
       "      <td>0</td>\n",
       "      <td>1</td>\n",
       "      <td>0</td>\n",
       "    </tr>\n",
       "    <tr>\n",
       "      <th>2</th>\n",
       "      <td>2</td>\n",
       "      <td>Four Rooms (1995)</td>\n",
       "      <td>01-Jan-1995</td>\n",
       "      <td>NaN</td>\n",
       "      <td>http://us.imdb.com/M/title-exact?Four%20Rooms%...</td>\n",
       "      <td>0</td>\n",
       "      <td>0</td>\n",
       "      <td>0</td>\n",
       "      <td>0</td>\n",
       "      <td>0</td>\n",
       "      <td>0</td>\n",
       "      <td>0</td>\n",
       "      <td>0</td>\n",
       "      <td>0</td>\n",
       "      <td>0</td>\n",
       "      <td>0</td>\n",
       "      <td>0</td>\n",
       "      <td>0</td>\n",
       "      <td>0</td>\n",
       "      <td>0</td>\n",
       "      <td>0</td>\n",
       "      <td>1</td>\n",
       "      <td>0</td>\n",
       "    </tr>\n",
       "    <tr>\n",
       "      <th>3</th>\n",
       "      <td>3</td>\n",
       "      <td>Get Shorty (1995)</td>\n",
       "      <td>01-Jan-1995</td>\n",
       "      <td>NaN</td>\n",
       "      <td>http://us.imdb.com/M/title-exact?Get%20Shorty%...</td>\n",
       "      <td>0</td>\n",
       "      <td>1</td>\n",
       "      <td>0</td>\n",
       "      <td>0</td>\n",
       "      <td>0</td>\n",
       "      <td>1</td>\n",
       "      <td>0</td>\n",
       "      <td>0</td>\n",
       "      <td>1</td>\n",
       "      <td>0</td>\n",
       "      <td>0</td>\n",
       "      <td>0</td>\n",
       "      <td>0</td>\n",
       "      <td>0</td>\n",
       "      <td>0</td>\n",
       "      <td>0</td>\n",
       "      <td>0</td>\n",
       "      <td>0</td>\n",
       "    </tr>\n",
       "    <tr>\n",
       "      <th>4</th>\n",
       "      <td>4</td>\n",
       "      <td>Copycat (1995)</td>\n",
       "      <td>01-Jan-1995</td>\n",
       "      <td>NaN</td>\n",
       "      <td>http://us.imdb.com/M/title-exact?Copycat%20(1995)</td>\n",
       "      <td>0</td>\n",
       "      <td>0</td>\n",
       "      <td>0</td>\n",
       "      <td>0</td>\n",
       "      <td>0</td>\n",
       "      <td>0</td>\n",
       "      <td>1</td>\n",
       "      <td>0</td>\n",
       "      <td>1</td>\n",
       "      <td>0</td>\n",
       "      <td>0</td>\n",
       "      <td>0</td>\n",
       "      <td>0</td>\n",
       "      <td>0</td>\n",
       "      <td>0</td>\n",
       "      <td>0</td>\n",
       "      <td>1</td>\n",
       "      <td>0</td>\n",
       "    </tr>\n",
       "  </tbody>\n",
       "</table>\n",
       "</div>"
      ],
      "text/plain": [
       "   movie_id        movie_title release_date  ...  thriller war  western\n",
       "0         0   Toy Story (1995)  01-Jan-1995  ...         0   0        0\n",
       "1         1   GoldenEye (1995)  01-Jan-1995  ...         0   1        0\n",
       "2         2  Four Rooms (1995)  01-Jan-1995  ...         0   1        0\n",
       "3         3  Get Shorty (1995)  01-Jan-1995  ...         0   0        0\n",
       "4         4     Copycat (1995)  01-Jan-1995  ...         0   1        0\n",
       "\n",
       "[5 rows x 23 columns]"
      ]
     },
     "metadata": {
      "tags": []
     },
     "execution_count": 9
    }
   ]
  },
  {
   "cell_type": "markdown",
   "metadata": {
    "id": "Rgv5YLy1SRMJ"
   },
   "source": [
    "### Загрузка рейтингов:"
   ]
  },
  {
   "cell_type": "code",
   "metadata": {
    "id": "InAacQMZSRMK",
    "executionInfo": {
     "status": "ok",
     "timestamp": 1620398876780,
     "user_tz": -330,
     "elapsed": 1070,
     "user": {
      "displayName": "basani ashwath",
      "photoUrl": "https://lh3.googleusercontent.com/a-/AOh14Ghgk4K2h0RnshP1oV3Ubha9wCLhuHdXngdOiqjPkA=s64",
      "userId": "05253221695052091886"
     }
    }
   },
   "source": [
    "rating_df = pd.read_csv('data/raw/u.data', sep='\\t', header=None, names=['user_id','movie_id','rating','timestamp'])\n",
    "rating_df.user_id -= 1 # make this column zero-indexed\n",
    "rating_df.movie_id -= 1 # make this column zero-indexed"
   ],
   "execution_count": 10,
   "outputs": []
  },
  {
   "cell_type": "code",
   "metadata": {
    "colab": {
     "base_uri": "https://localhost:8080/",
     "height": 204
    },
    "id": "MHmyC2dhSRMK",
    "executionInfo": {
     "status": "ok",
     "timestamp": 1620398877434,
     "user_tz": -330,
     "elapsed": 765,
     "user": {
      "displayName": "basani ashwath",
      "photoUrl": "https://lh3.googleusercontent.com/a-/AOh14Ghgk4K2h0RnshP1oV3Ubha9wCLhuHdXngdOiqjPkA=s64",
      "userId": "05253221695052091886"
     }
    },
    "outputId": "99ca316b-0879-4b96-c3d0-b6ca22e9810b"
   },
   "source": [
    "rating_df.head()"
   ],
   "execution_count": 11,
   "outputs": [
    {
     "output_type": "execute_result",
     "data": {
      "text/html": [
       "<div>\n",
       "<style scoped>\n",
       "    .dataframe tbody tr th:only-of-type {\n",
       "        vertical-align: middle;\n",
       "    }\n",
       "\n",
       "    .dataframe tbody tr th {\n",
       "        vertical-align: top;\n",
       "    }\n",
       "\n",
       "    .dataframe thead th {\n",
       "        text-align: right;\n",
       "    }\n",
       "</style>\n",
       "<table border=\"1\" class=\"dataframe\">\n",
       "  <thead>\n",
       "    <tr style=\"text-align: right;\">\n",
       "      <th></th>\n",
       "      <th>user_id</th>\n",
       "      <th>movie_id</th>\n",
       "      <th>rating</th>\n",
       "      <th>timestamp</th>\n",
       "    </tr>\n",
       "  </thead>\n",
       "  <tbody>\n",
       "    <tr>\n",
       "      <th>0</th>\n",
       "      <td>195</td>\n",
       "      <td>241</td>\n",
       "      <td>3</td>\n",
       "      <td>881250949</td>\n",
       "    </tr>\n",
       "    <tr>\n",
       "      <th>1</th>\n",
       "      <td>185</td>\n",
       "      <td>301</td>\n",
       "      <td>3</td>\n",
       "      <td>891717742</td>\n",
       "    </tr>\n",
       "    <tr>\n",
       "      <th>2</th>\n",
       "      <td>21</td>\n",
       "      <td>376</td>\n",
       "      <td>1</td>\n",
       "      <td>878887116</td>\n",
       "    </tr>\n",
       "    <tr>\n",
       "      <th>3</th>\n",
       "      <td>243</td>\n",
       "      <td>50</td>\n",
       "      <td>2</td>\n",
       "      <td>880606923</td>\n",
       "    </tr>\n",
       "    <tr>\n",
       "      <th>4</th>\n",
       "      <td>165</td>\n",
       "      <td>345</td>\n",
       "      <td>1</td>\n",
       "      <td>886397596</td>\n",
       "    </tr>\n",
       "  </tbody>\n",
       "</table>\n",
       "</div>"
      ],
      "text/plain": [
       "   user_id  movie_id  rating  timestamp\n",
       "0      195       241       3  881250949\n",
       "1      185       301       3  891717742\n",
       "2       21       376       1  878887116\n",
       "3      243        50       2  880606923\n",
       "4      165       345       1  886397596"
      ]
     },
     "metadata": {
      "tags": []
     },
     "execution_count": 11
    }
   ]
  },
  {
   "cell_type": "markdown",
   "metadata": {
    "id": "nOIHopo0SRML"
   },
   "source": [
    "# Будем используем только 10 фильмов с наибольшими рейтингами"
   ]
  },
  {
   "cell_type": "code",
   "metadata": {
    "id": "TWkozdBRSRMM",
    "executionInfo": {
     "status": "ok",
     "timestamp": 1620398954441,
     "user_tz": -330,
     "elapsed": 1030,
     "user": {
      "displayName": "basani ashwath",
      "photoUrl": "https://lh3.googleusercontent.com/a-/AOh14Ghgk4K2h0RnshP1oV3Ubha9wCLhuHdXngdOiqjPkA=s64",
      "userId": "05253221695052091886"
     }
    }
   },
   "source": [
    "movie_counts = rating_df.groupby('movie_id')['rating'].count().sort_values(ascending=False)"
   ],
   "execution_count": 12,
   "outputs": []
  },
  {
   "cell_type": "code",
   "metadata": {
    "id": "6G6woyv5SRMM",
    "executionInfo": {
     "status": "ok",
     "timestamp": 1620398956268,
     "user_tz": -330,
     "elapsed": 1563,
     "user": {
      "displayName": "basani ashwath",
      "photoUrl": "https://lh3.googleusercontent.com/a-/AOh14Ghgk4K2h0RnshP1oV3Ubha9wCLhuHdXngdOiqjPkA=s64",
      "userId": "05253221695052091886"
     }
    }
   },
   "source": [
    "n_movies = 10\n",
    "top_n_movies = rating_df.query('movie_id in {}'.format((movie_counts[:n_movies].index.values.tolist())))"
   ],
   "execution_count": 13,
   "outputs": []
  },
  {
   "cell_type": "code",
   "metadata": {
    "id": "ysvhsCnJSRMN",
    "executionInfo": {
     "status": "ok",
     "timestamp": 1620398956270,
     "user_tz": -330,
     "elapsed": 889,
     "user": {
      "displayName": "basani ashwath",
      "photoUrl": "https://lh3.googleusercontent.com/a-/AOh14Ghgk4K2h0RnshP1oV3Ubha9wCLhuHdXngdOiqjPkA=s64",
      "userId": "05253221695052091886"
     }
    }
   },
   "source": [
    "# add the movie title for ease of access when plotting\n",
    "# remove the timestamp column because we don't need it\n",
    "top_n_movies = top_n_movies.merge(movie_df[['movie_id','movie_title']], on='movie_id', how='left') \\\n",
    "                           .drop(columns=['timestamp'])"
   ],
   "execution_count": 14,
   "outputs": []
  },
  {
   "cell_type": "code",
   "metadata": {
    "id": "99LijbGGSRMO",
    "executionInfo": {
     "status": "ok",
     "timestamp": 1620398957300,
     "user_tz": -330,
     "elapsed": 1612,
     "user": {
      "displayName": "basani ashwath",
      "photoUrl": "https://lh3.googleusercontent.com/a-/AOh14Ghgk4K2h0RnshP1oV3Ubha9wCLhuHdXngdOiqjPkA=s64",
      "userId": "05253221695052091886"
     }
    }
   },
   "source": [
    "# remove the year from the title\n",
    "top_n_movies.movie_title = top_n_movies.movie_title.str.replace('\\s+\\(.+\\)', '').str.strip()"
   ],
   "execution_count": 15,
   "outputs": []
  },
  {
   "cell_type": "code",
   "metadata": {
    "colab": {
     "base_uri": "https://localhost:8080/",
     "height": 204
    },
    "id": "W9-lu4LtSRMO",
    "executionInfo": {
     "status": "ok",
     "timestamp": 1620398957838,
     "user_tz": -330,
     "elapsed": 1657,
     "user": {
      "displayName": "basani ashwath",
      "photoUrl": "https://lh3.googleusercontent.com/a-/AOh14Ghgk4K2h0RnshP1oV3Ubha9wCLhuHdXngdOiqjPkA=s64",
      "userId": "05253221695052091886"
     }
    },
    "outputId": "015739c6-ad51-4a17-fd56-741a9e9f2460"
   },
   "source": [
    "top_n_movies.head()"
   ],
   "execution_count": 16,
   "outputs": [
    {
     "output_type": "execute_result",
     "data": {
      "text/html": [
       "<div>\n",
       "<style scoped>\n",
       "    .dataframe tbody tr th:only-of-type {\n",
       "        vertical-align: middle;\n",
       "    }\n",
       "\n",
       "    .dataframe tbody tr th {\n",
       "        vertical-align: top;\n",
       "    }\n",
       "\n",
       "    .dataframe thead th {\n",
       "        text-align: right;\n",
       "    }\n",
       "</style>\n",
       "<table border=\"1\" class=\"dataframe\">\n",
       "  <thead>\n",
       "    <tr style=\"text-align: right;\">\n",
       "      <th></th>\n",
       "      <th>user_id</th>\n",
       "      <th>movie_id</th>\n",
       "      <th>rating</th>\n",
       "      <th>movie_title</th>\n",
       "    </tr>\n",
       "  </thead>\n",
       "  <tbody>\n",
       "    <tr>\n",
       "      <th>0</th>\n",
       "      <td>307</td>\n",
       "      <td>0</td>\n",
       "      <td>4</td>\n",
       "      <td>Toy Story</td>\n",
       "    </tr>\n",
       "    <tr>\n",
       "      <th>1</th>\n",
       "      <td>250</td>\n",
       "      <td>99</td>\n",
       "      <td>4</td>\n",
       "      <td>Fargo</td>\n",
       "    </tr>\n",
       "    <tr>\n",
       "      <th>2</th>\n",
       "      <td>24</td>\n",
       "      <td>180</td>\n",
       "      <td>5</td>\n",
       "      <td>Return of the Jedi</td>\n",
       "    </tr>\n",
       "    <tr>\n",
       "      <th>3</th>\n",
       "      <td>19</td>\n",
       "      <td>287</td>\n",
       "      <td>1</td>\n",
       "      <td>Scream</td>\n",
       "    </tr>\n",
       "    <tr>\n",
       "      <th>4</th>\n",
       "      <td>31</td>\n",
       "      <td>293</td>\n",
       "      <td>3</td>\n",
       "      <td>Liar Liar</td>\n",
       "    </tr>\n",
       "  </tbody>\n",
       "</table>\n",
       "</div>"
      ],
      "text/plain": [
       "   user_id  movie_id  rating         movie_title\n",
       "0      307         0       4           Toy Story\n",
       "1      250        99       4               Fargo\n",
       "2       24       180       5  Return of the Jedi\n",
       "3       19       287       1              Scream\n",
       "4       31       293       3           Liar Liar"
      ]
     },
     "metadata": {
      "tags": []
     },
     "execution_count": 16
    }
   ]
  },
  {
   "cell_type": "code",
   "metadata": {
    "id": "5EzHqtzRSRMP",
    "executionInfo": {
     "status": "ok",
     "timestamp": 1620398958697,
     "user_tz": -330,
     "elapsed": 1482,
     "user": {
      "displayName": "basani ashwath",
      "photoUrl": "https://lh3.googleusercontent.com/a-/AOh14Ghgk4K2h0RnshP1oV3Ubha9wCLhuHdXngdOiqjPkA=s64",
      "userId": "05253221695052091886"
     }
    }
   },
   "source": [
    "# save the output for use in other notebooks\n",
    "top_n_movies.to_csv('data/top-n-movies_user-ratings.csv')"
   ],
   "execution_count": 17,
   "outputs": []
  },
  {
   "cell_type": "markdown",
   "metadata": {
    "id": "8rvTEpV9SRMQ"
   },
   "source": [
    "### Top N movies"
   ]
  },
  {
   "cell_type": "code",
   "metadata": {
    "colab": {
     "base_uri": "https://localhost:8080/"
    },
    "id": "nE4MHCpgSRMR",
    "executionInfo": {
     "status": "ok",
     "timestamp": 1620398960170,
     "user_tz": -330,
     "elapsed": 1567,
     "user": {
      "displayName": "basani ashwath",
      "photoUrl": "https://lh3.googleusercontent.com/a-/AOh14Ghgk4K2h0RnshP1oV3Ubha9wCLhuHdXngdOiqjPkA=s64",
      "userId": "05253221695052091886"
     }
    },
    "outputId": "1d892a79-f30a-44c4-c9eb-b483192deea5"
   },
   "source": [
    "top_n_movies.movie_title.unique().tolist()"
   ],
   "execution_count": 18,
   "outputs": [
    {
     "output_type": "execute_result",
     "data": {
      "text/plain": [
       "['Toy Story',\n",
       " 'Fargo',\n",
       " 'Return of the Jedi',\n",
       " 'Scream',\n",
       " 'Liar Liar',\n",
       " 'Contact',\n",
       " 'English Patient, The',\n",
       " 'Star Wars',\n",
       " 'Independence Day',\n",
       " 'Air Force One']"
      ]
     },
     "metadata": {
      "tags": []
     },
     "execution_count": 18
    }
   ]
  },
  {
   "cell_type": "markdown",
   "metadata": {
    "id": "Mo07Kv1ISRMT"
   },
   "source": [
    "### Create a dictionary to map these movies to colors for consistency in plots"
   ]
  },
  {
   "cell_type": "code",
   "metadata": {
    "colab": {
     "base_uri": "https://localhost:8080/"
    },
    "id": "1zB8UMghSRMT",
    "executionInfo": {
     "status": "ok",
     "timestamp": 1620398960503,
     "user_tz": -330,
     "elapsed": 1124,
     "user": {
      "displayName": "basani ashwath",
      "photoUrl": "https://lh3.googleusercontent.com/a-/AOh14Ghgk4K2h0RnshP1oV3Ubha9wCLhuHdXngdOiqjPkA=s64",
      "userId": "05253221695052091886"
     }
    },
    "outputId": "eaef380a-30d3-43e2-9861-68ae818869f2"
   },
   "source": [
    "color_map = dict(zip(top_n_movies.movie_title.sort_values().unique().tolist(), color_blind_palette_10))\n",
    "color_map"
   ],
   "execution_count": 19,
   "outputs": [
    {
     "output_type": "execute_result",
     "data": {
      "text/plain": [
       "{'Air Force One': '#cfcfcf',\n",
       " 'Contact': '#ffbc79',\n",
       " 'English Patient, The': '#a2c8ec',\n",
       " 'Fargo': '#898989',\n",
       " 'Independence Day': '#c85200',\n",
       " 'Liar Liar': '#5f9ed1',\n",
       " 'Return of the Jedi': '#595959',\n",
       " 'Scream': '#ababab',\n",
       " 'Star Wars': '#ff800e',\n",
       " 'Toy Story': '#006ba4'}"
      ]
     },
     "metadata": {
      "tags": []
     },
     "execution_count": 19
    }
   ]
  },
  {
   "cell_type": "markdown",
   "metadata": {
    "id": "GHjt9hn2SRMU"
   },
   "source": [
    "### What are the actual rating distributions of the top N movies?"
   ]
  },
  {
   "cell_type": "code",
   "metadata": {
    "id": "rx_dfIPzSRMU",
    "executionInfo": {
     "status": "ok",
     "timestamp": 1620399314140,
     "user_tz": -330,
     "elapsed": 1018,
     "user": {
      "displayName": "basani ashwath",
      "photoUrl": "https://lh3.googleusercontent.com/a-/AOh14Ghgk4K2h0RnshP1oV3Ubha9wCLhuHdXngdOiqjPkA=s64",
      "userId": "05253221695052091886"
     }
    }
   },
   "source": [
    "rating_counts_by_movie = top_n_movies.groupby(['movie_id','movie_title','rating'], as_index=False).size()\n"
   ],
   "execution_count": 34,
   "outputs": []
  },
  {
   "cell_type": "code",
   "metadata": {
    "id": "6nWi-d9NUR_y",
    "executionInfo": {
     "status": "ok",
     "timestamp": 1620399396587,
     "user_tz": -330,
     "elapsed": 1253,
     "user": {
      "displayName": "basani ashwath",
      "photoUrl": "https://lh3.googleusercontent.com/a-/AOh14Ghgk4K2h0RnshP1oV3Ubha9wCLhuHdXngdOiqjPkA=s64",
      "userId": "05253221695052091886"
     }
    }
   },
   "source": [
    "rating_counts_by_movie.rename(columns={'size':'count'},inplace=True)"
   ],
   "execution_count": 39,
   "outputs": []
  },
  {
   "cell_type": "code",
   "metadata": {
    "colab": {
     "base_uri": "https://localhost:8080/",
     "height": 204
    },
    "id": "-WoqD5ESSRMV",
    "executionInfo": {
     "status": "ok",
     "timestamp": 1620399397527,
     "user_tz": -330,
     "elapsed": 754,
     "user": {
      "displayName": "basani ashwath",
      "photoUrl": "https://lh3.googleusercontent.com/a-/AOh14Ghgk4K2h0RnshP1oV3Ubha9wCLhuHdXngdOiqjPkA=s64",
      "userId": "05253221695052091886"
     }
    },
    "outputId": "50d1976d-c679-4789-beac-acf0c9b7f8f4"
   },
   "source": [
    "rating_counts_by_movie.head()"
   ],
   "execution_count": 40,
   "outputs": [
    {
     "output_type": "execute_result",
     "data": {
      "text/html": [
       "<div>\n",
       "<style scoped>\n",
       "    .dataframe tbody tr th:only-of-type {\n",
       "        vertical-align: middle;\n",
       "    }\n",
       "\n",
       "    .dataframe tbody tr th {\n",
       "        vertical-align: top;\n",
       "    }\n",
       "\n",
       "    .dataframe thead th {\n",
       "        text-align: right;\n",
       "    }\n",
       "</style>\n",
       "<table border=\"1\" class=\"dataframe\">\n",
       "  <thead>\n",
       "    <tr style=\"text-align: right;\">\n",
       "      <th></th>\n",
       "      <th>movie_id</th>\n",
       "      <th>movie_title</th>\n",
       "      <th>rating</th>\n",
       "      <th>count</th>\n",
       "    </tr>\n",
       "  </thead>\n",
       "  <tbody>\n",
       "    <tr>\n",
       "      <th>0</th>\n",
       "      <td>0</td>\n",
       "      <td>Toy Story</td>\n",
       "      <td>1</td>\n",
       "      <td>8</td>\n",
       "    </tr>\n",
       "    <tr>\n",
       "      <th>1</th>\n",
       "      <td>0</td>\n",
       "      <td>Toy Story</td>\n",
       "      <td>2</td>\n",
       "      <td>27</td>\n",
       "    </tr>\n",
       "    <tr>\n",
       "      <th>2</th>\n",
       "      <td>0</td>\n",
       "      <td>Toy Story</td>\n",
       "      <td>3</td>\n",
       "      <td>96</td>\n",
       "    </tr>\n",
       "    <tr>\n",
       "      <th>3</th>\n",
       "      <td>0</td>\n",
       "      <td>Toy Story</td>\n",
       "      <td>4</td>\n",
       "      <td>202</td>\n",
       "    </tr>\n",
       "    <tr>\n",
       "      <th>4</th>\n",
       "      <td>0</td>\n",
       "      <td>Toy Story</td>\n",
       "      <td>5</td>\n",
       "      <td>119</td>\n",
       "    </tr>\n",
       "  </tbody>\n",
       "</table>\n",
       "</div>"
      ],
      "text/plain": [
       "   movie_id movie_title  rating  count\n",
       "0         0   Toy Story       1      8\n",
       "1         0   Toy Story       2     27\n",
       "2         0   Toy Story       3     96\n",
       "3         0   Toy Story       4    202\n",
       "4         0   Toy Story       5    119"
      ]
     },
     "metadata": {
      "tags": []
     },
     "execution_count": 40
    }
   ]
  },
  {
   "cell_type": "code",
   "metadata": {
    "colab": {
     "base_uri": "https://localhost:8080/",
     "height": 836
    },
    "id": "AnczA8-hSRMW",
    "executionInfo": {
     "status": "ok",
     "timestamp": 1620399403497,
     "user_tz": -330,
     "elapsed": 2824,
     "user": {
      "displayName": "basani ashwath",
      "photoUrl": "https://lh3.googleusercontent.com/a-/AOh14Ghgk4K2h0RnshP1oV3Ubha9wCLhuHdXngdOiqjPkA=s64",
      "userId": "05253221695052091886"
     }
    },
    "outputId": "11213119-aab0-4bf6-dcbd-a00d48baa024"
   },
   "source": [
    "sns.set_palette(color_blind_palette_10)\n",
    "\n",
    "rating_v_count_ax = sns.factorplot(data=rating_counts_by_movie, x='rating', y='count',\n",
    "                                   hue='movie_title', hue_order=color_map.keys(),\n",
    "                                   size=10, aspect=1.5, kind='bar', legend=False)\n",
    "\n",
    "plt.title('Rating Histogram for the 10 Movies with the Most Ratings')\n",
    "plt.xlabel('Rating')\n",
    "plt.ylabel('Number of Ratings')\n",
    "\n",
    "plt.legend(title='')\n",
    "\n",
    "plt.show()"
   ],
   "execution_count": 41,
   "outputs": [
    {
     "output_type": "stream",
     "text": [
      "/usr/local/lib/python3.7/dist-packages/seaborn/categorical.py:3714: UserWarning: The `factorplot` function has been renamed to `catplot`. The original name will be removed in a future release. Please update your code. Note that the default `kind` in `factorplot` (`'point'`) has changed `'strip'` in `catplot`.\n",
      "  warnings.warn(msg)\n",
      "/usr/local/lib/python3.7/dist-packages/seaborn/categorical.py:3720: UserWarning: The `size` parameter has been renamed to `height`; please update your code.\n",
      "  warnings.warn(msg, UserWarning)\n"
     ],
     "name": "stderr"
    },
    {
     "output_type": "display_data",
     "data": {
      "image/png": "[encoded data removed]",
      "text/plain": [
       "<Figure size 1080x720 with 1 Axes>"
      ]
     },
     "metadata": {
      "tags": []
     }
    }
   ]
  },
  {
   "cell_type": "code",
   "metadata": {
    "id": "bcD_7RV7SRMX",
    "executionInfo": {
     "status": "ok",
     "timestamp": 1620399410414,
     "user_tz": -330,
     "elapsed": 1306,
     "user": {
      "displayName": "basani ashwath",
      "photoUrl": "https://lh3.googleusercontent.com/a-/AOh14Ghgk4K2h0RnshP1oV3Ubha9wCLhuHdXngdOiqjPkA=s64",
      "userId": "05253221695052091886"
     }
    }
   },
   "source": [
    "rating_v_count_ax.savefig('output/images/rating_distributions.png', transparent=False)"
   ],
   "execution_count": 42,
   "outputs": []
  },
  {
   "cell_type": "markdown",
   "metadata": {
    "id": "q17rVM-mSRMX"
   },
   "source": [
    "## Меняем рейтинги на бинарные значения 1 - \"like\", 0 - \"dislike\":"
   ]
  },
  {
   "cell_type": "code",
   "metadata": {
    "id": "D7IoblDJSRMY",
    "executionInfo": {
     "status": "ok",
     "timestamp": 1620399413588,
     "user_tz": -330,
     "elapsed": 1161,
     "user": {
      "displayName": "basani ashwath",
      "photoUrl": "https://lh3.googleusercontent.com/a-/AOh14Ghgk4K2h0RnshP1oV3Ubha9wCLhuHdXngdOiqjPkA=s64",
      "userId": "05253221695052091886"
     }
    }
   },
   "source": [
    "# movie ratings above this threshold will be counted as a \"like\"\n",
    "reward_threshold = 4"
   ],
   "execution_count": 43,
   "outputs": []
  },
  {
   "cell_type": "code",
   "metadata": {
    "colab": {
     "base_uri": "https://localhost:8080/",
     "height": 235
    },
    "id": "T543fuUPSRMY",
    "executionInfo": {
     "status": "ok",
     "timestamp": 1620399413937,
     "user_tz": -330,
     "elapsed": 918,
     "user": {
      "displayName": "basani ashwath",
      "photoUrl": "https://lh3.googleusercontent.com/a-/AOh14Ghgk4K2h0RnshP1oV3Ubha9wCLhuHdXngdOiqjPkA=s64",
      "userId": "05253221695052091886"
     }
    },
    "outputId": "6599985e-34ca-42d2-cbba-09ff6c6b98d2"
   },
   "source": [
    "rating_counts_by_movie.eval('liked = rating > @reward_threshold') \\\n",
    "                      .groupby(['movie_title','liked']) \\\n",
    "                      .sum().head()"
   ],
   "execution_count": 44,
   "outputs": [
    {
     "output_type": "execute_result",
     "data": {
      "text/html": [
       "<div>\n",
       "<style scoped>\n",
       "    .dataframe tbody tr th:only-of-type {\n",
       "        vertical-align: middle;\n",
       "    }\n",
       "\n",
       "    .dataframe tbody tr th {\n",
       "        vertical-align: top;\n",
       "    }\n",
       "\n",
       "    .dataframe thead th {\n",
       "        text-align: right;\n",
       "    }\n",
       "</style>\n",
       "<table border=\"1\" class=\"dataframe\">\n",
       "  <thead>\n",
       "    <tr style=\"text-align: right;\">\n",
       "      <th></th>\n",
       "      <th></th>\n",
       "      <th>movie_id</th>\n",
       "      <th>rating</th>\n",
       "      <th>count</th>\n",
       "    </tr>\n",
       "    <tr>\n",
       "      <th>movie_title</th>\n",
       "      <th>liked</th>\n",
       "      <th></th>\n",
       "      <th></th>\n",
       "      <th></th>\n",
       "    </tr>\n",
       "  </thead>\n",
       "  <tbody>\n",
       "    <tr>\n",
       "      <th rowspan=\"2\" valign=\"top\">Air Force One</th>\n",
       "      <th>False</th>\n",
       "      <td>1196</td>\n",
       "      <td>10</td>\n",
       "      <td>346</td>\n",
       "    </tr>\n",
       "    <tr>\n",
       "      <th>True</th>\n",
       "      <td>299</td>\n",
       "      <td>5</td>\n",
       "      <td>85</td>\n",
       "    </tr>\n",
       "    <tr>\n",
       "      <th rowspan=\"2\" valign=\"top\">Contact</th>\n",
       "      <th>False</th>\n",
       "      <td>1028</td>\n",
       "      <td>10</td>\n",
       "      <td>377</td>\n",
       "    </tr>\n",
       "    <tr>\n",
       "      <th>True</th>\n",
       "      <td>257</td>\n",
       "      <td>5</td>\n",
       "      <td>132</td>\n",
       "    </tr>\n",
       "    <tr>\n",
       "      <th>English Patient, The</th>\n",
       "      <th>False</th>\n",
       "      <td>1140</td>\n",
       "      <td>10</td>\n",
       "      <td>350</td>\n",
       "    </tr>\n",
       "  </tbody>\n",
       "</table>\n",
       "</div>"
      ],
      "text/plain": [
       "                            movie_id  rating  count\n",
       "movie_title          liked                         \n",
       "Air Force One        False      1196      10    346\n",
       "                     True        299       5     85\n",
       "Contact              False      1028      10    377\n",
       "                     True        257       5    132\n",
       "English Patient, The False      1140      10    350"
      ]
     },
     "metadata": {
      "tags": []
     },
     "execution_count": 44
    }
   ]
  },
  {
   "cell_type": "code",
   "metadata": {
    "colab": {
     "base_uri": "https://localhost:8080/",
     "height": 204
    },
    "id": "jRudGchTSRMZ",
    "executionInfo": {
     "status": "ok",
     "timestamp": 1620399418981,
     "user_tz": -330,
     "elapsed": 861,
     "user": {
      "displayName": "basani ashwath",
      "photoUrl": "https://lh3.googleusercontent.com/a-/AOh14Ghgk4K2h0RnshP1oV3Ubha9wCLhuHdXngdOiqjPkA=s64",
      "userId": "05253221695052091886"
     }
    },
    "outputId": "53d24d09-716e-4178-d4bc-dbe93efa4269"
   },
   "source": [
    "rating_counts_by_movie.eval('liked = rating > @reward_threshold') \\\n",
    "                      .groupby(['movie_title','liked'], as_index=False) \\\n",
    "                      .sum().head()"
   ],
   "execution_count": 45,
   "outputs": [
    {
     "output_type": "execute_result",
     "data": {
      "text/html": [
       "<div>\n",
       "<style scoped>\n",
       "    .dataframe tbody tr th:only-of-type {\n",
       "        vertical-align: middle;\n",
       "    }\n",
       "\n",
       "    .dataframe tbody tr th {\n",
       "        vertical-align: top;\n",
       "    }\n",
       "\n",
       "    .dataframe thead th {\n",
       "        text-align: right;\n",
       "    }\n",
       "</style>\n",
       "<table border=\"1\" class=\"dataframe\">\n",
       "  <thead>\n",
       "    <tr style=\"text-align: right;\">\n",
       "      <th></th>\n",
       "      <th>movie_title</th>\n",
       "      <th>liked</th>\n",
       "      <th>movie_id</th>\n",
       "      <th>rating</th>\n",
       "      <th>count</th>\n",
       "    </tr>\n",
       "  </thead>\n",
       "  <tbody>\n",
       "    <tr>\n",
       "      <th>0</th>\n",
       "      <td>Air Force One</td>\n",
       "      <td>False</td>\n",
       "      <td>1196</td>\n",
       "      <td>10</td>\n",
       "      <td>346</td>\n",
       "    </tr>\n",
       "    <tr>\n",
       "      <th>1</th>\n",
       "      <td>Air Force One</td>\n",
       "      <td>True</td>\n",
       "      <td>299</td>\n",
       "      <td>5</td>\n",
       "      <td>85</td>\n",
       "    </tr>\n",
       "    <tr>\n",
       "      <th>2</th>\n",
       "      <td>Contact</td>\n",
       "      <td>False</td>\n",
       "      <td>1028</td>\n",
       "      <td>10</td>\n",
       "      <td>377</td>\n",
       "    </tr>\n",
       "    <tr>\n",
       "      <th>3</th>\n",
       "      <td>Contact</td>\n",
       "      <td>True</td>\n",
       "      <td>257</td>\n",
       "      <td>5</td>\n",
       "      <td>132</td>\n",
       "    </tr>\n",
       "    <tr>\n",
       "      <th>4</th>\n",
       "      <td>English Patient, The</td>\n",
       "      <td>False</td>\n",
       "      <td>1140</td>\n",
       "      <td>10</td>\n",
       "      <td>350</td>\n",
       "    </tr>\n",
       "  </tbody>\n",
       "</table>\n",
       "</div>"
      ],
      "text/plain": [
       "            movie_title  liked  movie_id  rating  count\n",
       "0         Air Force One  False      1196      10    346\n",
       "1         Air Force One   True       299       5     85\n",
       "2               Contact  False      1028      10    377\n",
       "3               Contact   True       257       5    132\n",
       "4  English Patient, The  False      1140      10    350"
      ]
     },
     "metadata": {
      "tags": []
     },
     "execution_count": 45
    }
   ]
  },
  {
   "cell_type": "code",
   "metadata": {
    "id": "pqgniu8_SRMa",
    "executionInfo": {
     "status": "ok",
     "timestamp": 1620399422488,
     "user_tz": -330,
     "elapsed": 1363,
     "user": {
      "displayName": "basani ashwath",
      "photoUrl": "https://lh3.googleusercontent.com/a-/AOh14Ghgk4K2h0RnshP1oV3Ubha9wCLhuHdXngdOiqjPkA=s64",
      "userId": "05253221695052091886"
     }
    }
   },
   "source": [
    "total_reward_counts = rating_counts_by_movie.eval('liked = rating > @reward_threshold') \\\n",
    "    .groupby(['movie_id','movie_title','liked'])['count'] \\\n",
    "    .sum() \\\n",
    "    .unstack('liked') \\\n",
    "    .reset_index() \\\n",
    "    .rename(columns={False:'disliked', True:'liked'}) \\\n",
    "    .eval('total = disliked + liked') \\\n",
    "    .eval('like_pct = 100 * liked / total')"
   ],
   "execution_count": 46,
   "outputs": []
  },
  {
   "cell_type": "code",
   "metadata": {
    "colab": {
     "base_uri": "https://localhost:8080/",
     "height": 359
    },
    "id": "bpmoIfLtSRMb",
    "executionInfo": {
     "status": "ok",
     "timestamp": 1620399422492,
     "user_tz": -330,
     "elapsed": 782,
     "user": {
      "displayName": "basani ashwath",
      "photoUrl": "https://lh3.googleusercontent.com/a-/AOh14Ghgk4K2h0RnshP1oV3Ubha9wCLhuHdXngdOiqjPkA=s64",
      "userId": "05253221695052091886"
     }
    },
    "outputId": "0cff2782-6613-4e3c-ca24-eaee9878257e"
   },
   "source": [
    "total_reward_counts.sort_values('like_pct', ascending=False, inplace=True)\n",
    "total_reward_counts.head(10)"
   ],
   "execution_count": 47,
   "outputs": [
    {
     "output_type": "execute_result",
     "data": {
      "text/html": [
       "<div>\n",
       "<style scoped>\n",
       "    .dataframe tbody tr th:only-of-type {\n",
       "        vertical-align: middle;\n",
       "    }\n",
       "\n",
       "    .dataframe tbody tr th {\n",
       "        vertical-align: top;\n",
       "    }\n",
       "\n",
       "    .dataframe thead th {\n",
       "        text-align: right;\n",
       "    }\n",
       "</style>\n",
       "<table border=\"1\" class=\"dataframe\">\n",
       "  <thead>\n",
       "    <tr style=\"text-align: right;\">\n",
       "      <th>liked</th>\n",
       "      <th>movie_id</th>\n",
       "      <th>movie_title</th>\n",
       "      <th>disliked</th>\n",
       "      <th>liked</th>\n",
       "      <th>total</th>\n",
       "      <th>like_pct</th>\n",
       "    </tr>\n",
       "  </thead>\n",
       "  <tbody>\n",
       "    <tr>\n",
       "      <th>1</th>\n",
       "      <td>49</td>\n",
       "      <td>Star Wars</td>\n",
       "      <td>258</td>\n",
       "      <td>325</td>\n",
       "      <td>583</td>\n",
       "      <td>55.746141</td>\n",
       "    </tr>\n",
       "    <tr>\n",
       "      <th>2</th>\n",
       "      <td>99</td>\n",
       "      <td>Fargo</td>\n",
       "      <td>281</td>\n",
       "      <td>227</td>\n",
       "      <td>508</td>\n",
       "      <td>44.685039</td>\n",
       "    </tr>\n",
       "    <tr>\n",
       "      <th>4</th>\n",
       "      <td>180</td>\n",
       "      <td>Return of the Jedi</td>\n",
       "      <td>336</td>\n",
       "      <td>171</td>\n",
       "      <td>507</td>\n",
       "      <td>33.727811</td>\n",
       "    </tr>\n",
       "    <tr>\n",
       "      <th>6</th>\n",
       "      <td>285</td>\n",
       "      <td>English Patient, The</td>\n",
       "      <td>350</td>\n",
       "      <td>131</td>\n",
       "      <td>481</td>\n",
       "      <td>27.234927</td>\n",
       "    </tr>\n",
       "    <tr>\n",
       "      <th>0</th>\n",
       "      <td>0</td>\n",
       "      <td>Toy Story</td>\n",
       "      <td>333</td>\n",
       "      <td>119</td>\n",
       "      <td>452</td>\n",
       "      <td>26.327434</td>\n",
       "    </tr>\n",
       "    <tr>\n",
       "      <th>5</th>\n",
       "      <td>257</td>\n",
       "      <td>Contact</td>\n",
       "      <td>377</td>\n",
       "      <td>132</td>\n",
       "      <td>509</td>\n",
       "      <td>25.933202</td>\n",
       "    </tr>\n",
       "    <tr>\n",
       "      <th>9</th>\n",
       "      <td>299</td>\n",
       "      <td>Air Force One</td>\n",
       "      <td>346</td>\n",
       "      <td>85</td>\n",
       "      <td>431</td>\n",
       "      <td>19.721578</td>\n",
       "    </tr>\n",
       "    <tr>\n",
       "      <th>7</th>\n",
       "      <td>287</td>\n",
       "      <td>Scream</td>\n",
       "      <td>393</td>\n",
       "      <td>85</td>\n",
       "      <td>478</td>\n",
       "      <td>17.782427</td>\n",
       "    </tr>\n",
       "    <tr>\n",
       "      <th>3</th>\n",
       "      <td>120</td>\n",
       "      <td>Independence Day</td>\n",
       "      <td>353</td>\n",
       "      <td>76</td>\n",
       "      <td>429</td>\n",
       "      <td>17.715618</td>\n",
       "    </tr>\n",
       "    <tr>\n",
       "      <th>8</th>\n",
       "      <td>293</td>\n",
       "      <td>Liar Liar</td>\n",
       "      <td>439</td>\n",
       "      <td>46</td>\n",
       "      <td>485</td>\n",
       "      <td>9.484536</td>\n",
       "    </tr>\n",
       "  </tbody>\n",
       "</table>\n",
       "</div>"
      ],
      "text/plain": [
       "liked  movie_id           movie_title  disliked  liked  total   like_pct\n",
       "1            49             Star Wars       258    325    583  55.746141\n",
       "2            99                 Fargo       281    227    508  44.685039\n",
       "4           180    Return of the Jedi       336    171    507  33.727811\n",
       "6           285  English Patient, The       350    131    481  27.234927\n",
       "0             0             Toy Story       333    119    452  26.327434\n",
       "5           257               Contact       377    132    509  25.933202\n",
       "9           299         Air Force One       346     85    431  19.721578\n",
       "7           287                Scream       393     85    478  17.782427\n",
       "3           120      Independence Day       353     76    429  17.715618\n",
       "8           293             Liar Liar       439     46    485   9.484536"
      ]
     },
     "metadata": {
      "tags": []
     },
     "execution_count": 47
    }
   ]
  },
  {
   "cell_type": "code",
   "metadata": {
    "colab": {
     "base_uri": "https://localhost:8080/",
     "height": 836
    },
    "id": "O4Axc7eZSRMc",
    "executionInfo": {
     "status": "ok",
     "timestamp": 1620399426672,
     "user_tz": -330,
     "elapsed": 1916,
     "user": {
      "displayName": "basani ashwath",
      "photoUrl": "https://lh3.googleusercontent.com/a-/AOh14Ghgk4K2h0RnshP1oV3Ubha9wCLhuHdXngdOiqjPkA=s64",
      "userId": "05253221695052091886"
     }
    },
    "outputId": "f6dd8fec-138b-4156-ae9a-ad8ac7606ded"
   },
   "source": [
    "\n",
    "like_probability_ax = sns.factorplot(size=10, aspect=1.5, x='like_pct', y='movie_title', kind='bar',\n",
    "                                     palette=total_reward_counts['movie_title'].apply(lambda x: color_map[x]),\n",
    "                                     data=total_reward_counts)\n",
    "\n",
    "plt.title('The 10 Movies with the Most Ratings')\n",
    "like_probability_ax.set_axis_labels('Probability of Being \"Liked\" (%)','')\n",
    "\n",
    "plt.show()"
   ],
   "execution_count": 48,
   "outputs": [
    {
     "output_type": "stream",
     "text": [
      "/usr/local/lib/python3.7/dist-packages/seaborn/categorical.py:3714: UserWarning: The `factorplot` function has been renamed to `catplot`. The original name will be removed in a future release. Please update your code. Note that the default `kind` in `factorplot` (`'point'`) has changed `'strip'` in `catplot`.\n",
      "  warnings.warn(msg)\n",
      "/usr/local/lib/python3.7/dist-packages/seaborn/categorical.py:3720: UserWarning: The `size` parameter has been renamed to `height`; please update your code.\n",
      "  warnings.warn(msg, UserWarning)\n"
     ],
     "name": "stderr"
    },
    {
     "output_type": "display_data",
     "data": {
      "image/png": "[encoded data removed]",
      "text/plain": [
       "<Figure size 1080x720 with 1 Axes>"
      ]
     },
     "metadata": {
      "tags": []
     }
    }
   ]
  },
  {
   "cell_type": "code",
   "metadata": {
    "id": "I2344eGSSRMd",
    "executionInfo": {
     "status": "ok",
     "timestamp": 1620399434699,
     "user_tz": -330,
     "elapsed": 1268,
     "user": {
      "displayName": "basani ashwath",
      "photoUrl": "https://lh3.googleusercontent.com/a-/AOh14Ghgk4K2h0RnshP1oV3Ubha9wCLhuHdXngdOiqjPkA=s64",
      "userId": "05253221695052091886"
     }
    }
   },
   "source": [
    "like_probability_ax.savefig('output/images/like_probabilities.png', transparent=False)"
   ],
   "execution_count": 49,
   "outputs": []
  },
  {
   "cell_type": "code",
   "metadata": {
    "id": "0FJStZGpSRMe"
   },
   "source": [
    ""
   ],
   "execution_count": null,
   "outputs": []
  }
 ]
}