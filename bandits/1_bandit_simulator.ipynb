{
 "nbformat": 4,
 "nbformat_minor": 0,
 "metadata": {
  "kernelspec": {
   "display_name": "Python 3",
   "language": "python",
   "name": "python3"
  },
  "language_info": {
   "codemirror_mode": {
    "name": "ipython",
    "version": 3
   },
   "file_extension": ".py",
   "mimetype": "text/x-python",
   "name": "python",
   "nbconvert_exporter": "python",
   "pygments_lexer": "ipython3",
   "version": "3.6.4"
  },
  "colab": {
   "name": "1_bandit_simulator.ipynb",
   "provenance": [],
   "collapsed_sections": []
  }
 },
 "cells": [
  {
   "cell_type": "code",
   "metadata": {
    "id": "paNAMYbZVXWc",
    "executionInfo": {
     "status": "ok",
     "timestamp": 1620399536764,
     "user_tz": -330,
     "elapsed": 7792,
     "user": {
      "displayName": "basani ashwath",
      "photoUrl": "https://lh3.googleusercontent.com/a-/AOh14Ghgk4K2h0RnshP1oV3Ubha9wCLhuHdXngdOiqjPkA=s64",
      "userId": "05253221695052091886"
     }
    }
   },
   "source": [
    "import numpy as np\n",
    "import pandas as pd\n",
    "\n",
    "from Replayers import ABTestReplayer, EpsilonGreedyReplayer, ThompsonSamplingReplayer"
   ],
   "execution_count": 4,
   "outputs": []
  },
  {
   "cell_type": "markdown",
   "metadata": {
    "id": "bbjrD4D6VXWs"
   },
   "source": [
    "# Загрузка данных"
   ]
  },
  {
   "cell_type": "code",
   "metadata": {
    "colab": {
     "base_uri": "https://localhost:8080/",
     "height": 204
    },
    "id": "hHvrYj7lVXWu",
    "executionInfo": {
     "status": "ok",
     "timestamp": 1620399540486,
     "user_tz": -330,
     "elapsed": 2334,
     "user": {
      "displayName": "basani ashwath",
      "photoUrl": "https://lh3.googleusercontent.com/a-/AOh14Ghgk4K2h0RnshP1oV3Ubha9wCLhuHdXngdOiqjPkA=s64",
      "userId": "05253221695052091886"
     }
    },
    "outputId": "96d58a6b-6b22-46ef-810f-e4b1ca92d1f8"
   },
   "source": [
    "rating_df = pd.read_csv('data/top-n-movies_user-ratings.csv').drop(columns='Unnamed: 0')\n",
    "rating_df.head()"
   ],
   "execution_count": 5,
   "outputs": [
    {
     "output_type": "execute_result",
     "data": {
      "text/html": [
       "<div>\n",
       "<style scoped>\n",
       "    .dataframe tbody tr th:only-of-type {\n",
       "        vertical-align: middle;\n",
       "    }\n",
       "\n",
       "    .dataframe tbody tr th {\n",
       "        vertical-align: top;\n",
       "    }\n",
       "\n",
       "    .dataframe thead th {\n",
       "        text-align: right;\n",
       "    }\n",
       "</style>\n",
       "<table border=\"1\" class=\"dataframe\">\n",
       "  <thead>\n",
       "    <tr style=\"text-align: right;\">\n",
       "      <th></th>\n",
       "      <th>user_id</th>\n",
       "      <th>movie_id</th>\n",
       "      <th>rating</th>\n",
       "      <th>movie_title</th>\n",
       "    </tr>\n",
       "  </thead>\n",
       "  <tbody>\n",
       "    <tr>\n",
       "      <th>0</th>\n",
       "      <td>307</td>\n",
       "      <td>0</td>\n",
       "      <td>4</td>\n",
       "      <td>Toy Story</td>\n",
       "    </tr>\n",
       "    <tr>\n",
       "      <th>1</th>\n",
       "      <td>250</td>\n",
       "      <td>99</td>\n",
       "      <td>4</td>\n",
       "      <td>Fargo</td>\n",
       "    </tr>\n",
       "    <tr>\n",
       "      <th>2</th>\n",
       "      <td>24</td>\n",
       "      <td>180</td>\n",
       "      <td>5</td>\n",
       "      <td>Return of the Jedi</td>\n",
       "    </tr>\n",
       "    <tr>\n",
       "      <th>3</th>\n",
       "      <td>19</td>\n",
       "      <td>287</td>\n",
       "      <td>1</td>\n",
       "      <td>Scream</td>\n",
       "    </tr>\n",
       "    <tr>\n",
       "      <th>4</th>\n",
       "      <td>31</td>\n",
       "      <td>293</td>\n",
       "      <td>3</td>\n",
       "      <td>Liar Liar</td>\n",
       "    </tr>\n",
       "  </tbody>\n",
       "</table>\n",
       "</div>"
      ],
      "text/plain": [
       "   user_id  movie_id  rating         movie_title\n",
       "0      307         0       4           Toy Story\n",
       "1      250        99       4               Fargo\n",
       "2       24       180       5  Return of the Jedi\n",
       "3       19       287       1              Scream\n",
       "4       31       293       3           Liar Liar"
      ]
     },
     "metadata": {
      "tags": []
     },
     "execution_count": 5
    }
   ]
  },
  {
   "cell_type": "markdown",
   "metadata": {
    "id": "SBcOl7P-VXWw"
   },
   "source": [
    "## ratings в бинарные значения"
   ]
  },
  {
   "cell_type": "code",
   "metadata": {
    "colab": {
     "base_uri": "https://localhost:8080/",
     "height": 204
    },
    "id": "gl29mMITVXWx",
    "executionInfo": {
     "status": "ok",
     "timestamp": 1620399545361,
     "user_tz": -330,
     "elapsed": 1295,
     "user": {
      "displayName": "basani ashwath",
      "photoUrl": "https://lh3.googleusercontent.com/a-/AOh14Ghgk4K2h0RnshP1oV3Ubha9wCLhuHdXngdOiqjPkA=s64",
      "userId": "05253221695052091886"
     }
    },
    "outputId": "40899d68-f41f-4bb0-e240-c3a8904cb762"
   },
   "source": [
    "reward_threshold = 4\n",
    "rating_df['reward'] = rating_df.eval('rating > @reward_threshold').astype(int)\n",
    "rating_df.head()"
   ],
   "execution_count": 6,
   "outputs": [
    {
     "output_type": "execute_result",
     "data": {
      "text/html": [
       "<div>\n",
       "<style scoped>\n",
       "    .dataframe tbody tr th:only-of-type {\n",
       "        vertical-align: middle;\n",
       "    }\n",
       "\n",
       "    .dataframe tbody tr th {\n",
       "        vertical-align: top;\n",
       "    }\n",
       "\n",
       "    .dataframe thead th {\n",
       "        text-align: right;\n",
       "    }\n",
       "</style>\n",
       "<table border=\"1\" class=\"dataframe\">\n",
       "  <thead>\n",
       "    <tr style=\"text-align: right;\">\n",
       "      <th></th>\n",
       "      <th>user_id</th>\n",
       "      <th>movie_id</th>\n",
       "      <th>rating</th>\n",
       "      <th>movie_title</th>\n",
       "      <th>reward</th>\n",
       "    </tr>\n",
       "  </thead>\n",
       "  <tbody>\n",
       "    <tr>\n",
       "      <th>0</th>\n",
       "      <td>307</td>\n",
       "      <td>0</td>\n",
       "      <td>4</td>\n",
       "      <td>Toy Story</td>\n",
       "      <td>0</td>\n",
       "    </tr>\n",
       "    <tr>\n",
       "      <th>1</th>\n",
       "      <td>250</td>\n",
       "      <td>99</td>\n",
       "      <td>4</td>\n",
       "      <td>Fargo</td>\n",
       "      <td>0</td>\n",
       "    </tr>\n",
       "    <tr>\n",
       "      <th>2</th>\n",
       "      <td>24</td>\n",
       "      <td>180</td>\n",
       "      <td>5</td>\n",
       "      <td>Return of the Jedi</td>\n",
       "      <td>1</td>\n",
       "    </tr>\n",
       "    <tr>\n",
       "      <th>3</th>\n",
       "      <td>19</td>\n",
       "      <td>287</td>\n",
       "      <td>1</td>\n",
       "      <td>Scream</td>\n",
       "      <td>0</td>\n",
       "    </tr>\n",
       "    <tr>\n",
       "      <th>4</th>\n",
       "      <td>31</td>\n",
       "      <td>293</td>\n",
       "      <td>3</td>\n",
       "      <td>Liar Liar</td>\n",
       "      <td>0</td>\n",
       "    </tr>\n",
       "  </tbody>\n",
       "</table>\n",
       "</div>"
      ],
      "text/plain": [
       "   user_id  movie_id  rating         movie_title  reward\n",
       "0      307         0       4           Toy Story       0\n",
       "1      250        99       4               Fargo       0\n",
       "2       24       180       5  Return of the Jedi       1\n",
       "3       19       287       1              Scream       0\n",
       "4       31       293       3           Liar Liar       0"
      ]
     },
     "metadata": {
      "tags": []
     },
     "execution_count": 6
    }
   ]
  },
  {
   "cell_type": "markdown",
   "metadata": {
    "id": "XclyV2PJVXWy"
   },
   "source": [
    "# Устанавливаем параметры"
   ]
  },
  {
   "cell_type": "code",
   "metadata": {
    "id": "PuHZrAuHVXWz",
    "executionInfo": {
     "status": "ok",
     "timestamp": 1620399547631,
     "user_tz": -330,
     "elapsed": 1503,
     "user": {
      "displayName": "basani ashwath",
      "photoUrl": "https://lh3.googleusercontent.com/a-/AOh14Ghgk4K2h0RnshP1oV3Ubha9wCLhuHdXngdOiqjPkA=s64",
      "userId": "05253221695052091886"
     }
    }
   },
   "source": [
    "n_visits = 20000\n",
    "n_iterations = 20\n",
    "\n",
    "reward_history = rating_df\n",
    "item_col_name = 'movie_id'\n",
    "visitor_col_name = 'user_id'\n",
    "reward_col_name = 'reward'"
   ],
   "execution_count": 7,
   "outputs": []
  },
  {
   "cell_type": "markdown",
   "metadata": {
    "id": "aFmyObtyVXW0"
   },
   "source": [
    "# A/B Test Simulations"
   ]
  },
  {
   "cell_type": "markdown",
   "metadata": {
    "id": "1aePzvmGVXW0"
   },
   "source": [
    "## Test period = 1,000 visits\n"
   ]
  },
  {
   "cell_type": "code",
   "metadata": {
    "colab": {
     "base_uri": "https://localhost:8080/"
    },
    "id": "afEfQzHLVXW1",
    "executionInfo": {
     "status": "ok",
     "timestamp": 1620401213067,
     "user_tz": -330,
     "elapsed": 1662444,
     "user": {
      "displayName": "basani ashwath",
      "photoUrl": "https://lh3.googleusercontent.com/a-/AOh14Ghgk4K2h0RnshP1oV3Ubha9wCLhuHdXngdOiqjPkA=s64",
      "userId": "05253221695052091886"
     }
    },
    "outputId": "fc72175c-b894-4cb5-9f25-0d511073f412"
   },
   "source": [
    "n_test_visits = 1000\n",
    "ab_1k_results = ABTestReplayer(n_visits, n_test_visits, reward_history,\n",
    "                               item_col_name, visitor_col_name, reward_col_name,\n",
    "                               n_iterations=n_iterations).replay()"
   ],
   "execution_count": 8,
   "outputs": [
    {
     "output_type": "stream",
     "text": [
      "100%|██████████| 20/20 [27:41<00:00, 83.08s/it]\n"
     ],
     "name": "stderr"
    }
   ]
  },
  {
   "cell_type": "code",
   "metadata": {
    "colab": {
     "base_uri": "https://localhost:8080/",
     "height": 204
    },
    "id": "GLB-6_lPVXW2",
    "executionInfo": {
     "status": "ok",
     "timestamp": 1620401214727,
     "user_tz": -330,
     "elapsed": 1661770,
     "user": {
      "displayName": "basani ashwath",
      "photoUrl": "https://lh3.googleusercontent.com/a-/AOh14Ghgk4K2h0RnshP1oV3Ubha9wCLhuHdXngdOiqjPkA=s64",
      "userId": "05253221695052091886"
     }
    },
    "outputId": "5058a693-0936-413b-df68-d83d83f03e95"
   },
   "source": [
    "ab_1k_results_df = pd.DataFrame(ab_1k_results)\n",
    "ab_1k_results_df.head()"
   ],
   "execution_count": 9,
   "outputs": [
    {
     "output_type": "execute_result",
     "data": {
      "text/html": [
       "<div>\n",
       "<style scoped>\n",
       "    .dataframe tbody tr th:only-of-type {\n",
       "        vertical-align: middle;\n",
       "    }\n",
       "\n",
       "    .dataframe tbody tr th {\n",
       "        vertical-align: top;\n",
       "    }\n",
       "\n",
       "    .dataframe thead th {\n",
       "        text-align: right;\n",
       "    }\n",
       "</style>\n",
       "<table border=\"1\" class=\"dataframe\">\n",
       "  <thead>\n",
       "    <tr style=\"text-align: right;\">\n",
       "      <th></th>\n",
       "      <th>iteration</th>\n",
       "      <th>visit</th>\n",
       "      <th>item_id</th>\n",
       "      <th>visitor_id</th>\n",
       "      <th>reward</th>\n",
       "      <th>total_reward</th>\n",
       "      <th>fraction_relevant</th>\n",
       "    </tr>\n",
       "  </thead>\n",
       "  <tbody>\n",
       "    <tr>\n",
       "      <th>0</th>\n",
       "      <td>0</td>\n",
       "      <td>0</td>\n",
       "      <td>120</td>\n",
       "      <td>12</td>\n",
       "      <td>1</td>\n",
       "      <td>1</td>\n",
       "      <td>1.000000</td>\n",
       "    </tr>\n",
       "    <tr>\n",
       "      <th>1</th>\n",
       "      <td>0</td>\n",
       "      <td>1</td>\n",
       "      <td>299</td>\n",
       "      <td>783</td>\n",
       "      <td>0</td>\n",
       "      <td>1</td>\n",
       "      <td>0.500000</td>\n",
       "    </tr>\n",
       "    <tr>\n",
       "      <th>2</th>\n",
       "      <td>0</td>\n",
       "      <td>2</td>\n",
       "      <td>49</td>\n",
       "      <td>649</td>\n",
       "      <td>1</td>\n",
       "      <td>2</td>\n",
       "      <td>0.666667</td>\n",
       "    </tr>\n",
       "    <tr>\n",
       "      <th>3</th>\n",
       "      <td>0</td>\n",
       "      <td>3</td>\n",
       "      <td>49</td>\n",
       "      <td>837</td>\n",
       "      <td>1</td>\n",
       "      <td>3</td>\n",
       "      <td>0.750000</td>\n",
       "    </tr>\n",
       "    <tr>\n",
       "      <th>4</th>\n",
       "      <td>0</td>\n",
       "      <td>4</td>\n",
       "      <td>49</td>\n",
       "      <td>483</td>\n",
       "      <td>1</td>\n",
       "      <td>4</td>\n",
       "      <td>0.800000</td>\n",
       "    </tr>\n",
       "  </tbody>\n",
       "</table>\n",
       "</div>"
      ],
      "text/plain": [
       "   iteration  visit  item_id  ...  reward  total_reward  fraction_relevant\n",
       "0          0      0      120  ...       1             1           1.000000\n",
       "1          0      1      299  ...       0             1           0.500000\n",
       "2          0      2       49  ...       1             2           0.666667\n",
       "3          0      3       49  ...       1             3           0.750000\n",
       "4          0      4       49  ...       1             4           0.800000\n",
       "\n",
       "[5 rows x 7 columns]"
      ]
     },
     "metadata": {
      "tags": []
     },
     "execution_count": 9
    }
   ]
  },
  {
   "cell_type": "markdown",
   "metadata": {
    "id": "DhVQhTv8VXW3"
   },
   "source": [
    "### Save the output"
   ]
  },
  {
   "cell_type": "code",
   "metadata": {
    "id": "hw86PgqiVXW4",
    "executionInfo": {
     "status": "ok",
     "timestamp": 1620401218394,
     "user_tz": -330,
     "elapsed": 1662369,
     "user": {
      "displayName": "basani ashwath",
      "photoUrl": "https://lh3.googleusercontent.com/a-/AOh14Ghgk4K2h0RnshP1oV3Ubha9wCLhuHdXngdOiqjPkA=s64",
      "userId": "05253221695052091886"
     }
    }
   },
   "source": [
    "ab_1k_results_df.to_csv('output/ab_test_1k.csv')"
   ],
   "execution_count": 10,
   "outputs": []
  },
  {
   "cell_type": "markdown",
   "metadata": {
    "id": "QvlUSSG2VXW4"
   },
   "source": [
    "## Test period = 5,000 visits"
   ]
  },
  {
   "cell_type": "code",
   "metadata": {
    "colab": {
     "base_uri": "https://localhost:8080/"
    },
    "id": "rXAlSSbqVXW5",
    "executionInfo": {
     "status": "ok",
     "timestamp": 1620402919743,
     "user_tz": -330,
     "elapsed": 3361636,
     "user": {
      "displayName": "basani ashwath",
      "photoUrl": "https://lh3.googleusercontent.com/a-/AOh14Ghgk4K2h0RnshP1oV3Ubha9wCLhuHdXngdOiqjPkA=s64",
      "userId": "05253221695052091886"
     }
    },
    "outputId": "c070e300-cb4e-482f-f8c6-949b2c24b41d"
   },
   "source": [
    "n_test_visits = 5000\n",
    "ab_5k_results = ABTestReplayer(n_visits, n_test_visits, reward_history,\n",
    "                               item_col_name, visitor_col_name, reward_col_name,\n",
    "                               n_iterations=n_iterations).replay()"
   ],
   "execution_count": 11,
   "outputs": [
    {
     "output_type": "stream",
     "text": [
      "100%|██████████| 20/20 [28:21<00:00, 85.08s/it]\n"
     ],
     "name": "stderr"
    }
   ]
  },
  {
   "cell_type": "code",
   "metadata": {
    "colab": {
     "base_uri": "https://localhost:8080/",
     "height": 204
    },
    "id": "WQO5hiwlVXW6",
    "executionInfo": {
     "status": "ok",
     "timestamp": 1620402921804,
     "user_tz": -330,
     "elapsed": 3361890,
     "user": {
      "displayName": "basani ashwath",
      "photoUrl": "https://lh3.googleusercontent.com/a-/AOh14Ghgk4K2h0RnshP1oV3Ubha9wCLhuHdXngdOiqjPkA=s64",
      "userId": "05253221695052091886"
     }
    },
    "outputId": "eb65c601-60fe-45a2-c488-fd34739a8859"
   },
   "source": [
    "ab_5k_results_df = pd.DataFrame(ab_5k_results)\n",
    "ab_5k_results_df.head()"
   ],
   "execution_count": 12,
   "outputs": [
    {
     "output_type": "execute_result",
     "data": {
      "text/html": [
       "<div>\n",
       "<style scoped>\n",
       "    .dataframe tbody tr th:only-of-type {\n",
       "        vertical-align: middle;\n",
       "    }\n",
       "\n",
       "    .dataframe tbody tr th {\n",
       "        vertical-align: top;\n",
       "    }\n",
       "\n",
       "    .dataframe thead th {\n",
       "        text-align: right;\n",
       "    }\n",
       "</style>\n",
       "<table border=\"1\" class=\"dataframe\">\n",
       "  <thead>\n",
       "    <tr style=\"text-align: right;\">\n",
       "      <th></th>\n",
       "      <th>iteration</th>\n",
       "      <th>visit</th>\n",
       "      <th>item_id</th>\n",
       "      <th>visitor_id</th>\n",
       "      <th>reward</th>\n",
       "      <th>total_reward</th>\n",
       "      <th>fraction_relevant</th>\n",
       "    </tr>\n",
       "  </thead>\n",
       "  <tbody>\n",
       "    <tr>\n",
       "      <th>0</th>\n",
       "      <td>0</td>\n",
       "      <td>0</td>\n",
       "      <td>120</td>\n",
       "      <td>12</td>\n",
       "      <td>1</td>\n",
       "      <td>1</td>\n",
       "      <td>1.000000</td>\n",
       "    </tr>\n",
       "    <tr>\n",
       "      <th>1</th>\n",
       "      <td>0</td>\n",
       "      <td>1</td>\n",
       "      <td>299</td>\n",
       "      <td>783</td>\n",
       "      <td>0</td>\n",
       "      <td>1</td>\n",
       "      <td>0.500000</td>\n",
       "    </tr>\n",
       "    <tr>\n",
       "      <th>2</th>\n",
       "      <td>0</td>\n",
       "      <td>2</td>\n",
       "      <td>49</td>\n",
       "      <td>649</td>\n",
       "      <td>1</td>\n",
       "      <td>2</td>\n",
       "      <td>0.666667</td>\n",
       "    </tr>\n",
       "    <tr>\n",
       "      <th>3</th>\n",
       "      <td>0</td>\n",
       "      <td>3</td>\n",
       "      <td>49</td>\n",
       "      <td>837</td>\n",
       "      <td>1</td>\n",
       "      <td>3</td>\n",
       "      <td>0.750000</td>\n",
       "    </tr>\n",
       "    <tr>\n",
       "      <th>4</th>\n",
       "      <td>0</td>\n",
       "      <td>4</td>\n",
       "      <td>49</td>\n",
       "      <td>483</td>\n",
       "      <td>1</td>\n",
       "      <td>4</td>\n",
       "      <td>0.800000</td>\n",
       "    </tr>\n",
       "  </tbody>\n",
       "</table>\n",
       "</div>"
      ],
      "text/plain": [
       "   iteration  visit  item_id  ...  reward  total_reward  fraction_relevant\n",
       "0          0      0      120  ...       1             1           1.000000\n",
       "1          0      1      299  ...       0             1           0.500000\n",
       "2          0      2       49  ...       1             2           0.666667\n",
       "3          0      3       49  ...       1             3           0.750000\n",
       "4          0      4       49  ...       1             4           0.800000\n",
       "\n",
       "[5 rows x 7 columns]"
      ]
     },
     "metadata": {
      "tags": []
     },
     "execution_count": 12
    }
   ]
  },
  {
   "cell_type": "markdown",
   "metadata": {
    "id": "Rld8qpqdVXW7"
   },
   "source": [
    "### Save the output"
   ]
  },
  {
   "cell_type": "code",
   "metadata": {
    "id": "17UcJZAHVXW7",
    "executionInfo": {
     "status": "ok",
     "timestamp": 1620402924392,
     "user_tz": -330,
     "elapsed": 3361680,
     "user": {
      "displayName": "basani ashwath",
      "photoUrl": "https://lh3.googleusercontent.com/a-/AOh14Ghgk4K2h0RnshP1oV3Ubha9wCLhuHdXngdOiqjPkA=s64",
      "userId": "05253221695052091886"
     }
    }
   },
   "source": [
    "ab_5k_results_df.to_csv('output/ab_test_5k.csv')"
   ],
   "execution_count": 13,
   "outputs": []
  },
  {
   "cell_type": "markdown",
   "metadata": {
    "id": "1qs_NAuLVXW8"
   },
   "source": [
    "# $\\epsilon$-Greedy Simulations"
   ]
  },
  {
   "cell_type": "markdown",
   "metadata": {
    "id": "EArwMZbCVXW8"
   },
   "source": [
    "## $\\epsilon$ = 0.05\n"
   ]
  },
  {
   "cell_type": "code",
   "metadata": {
    "colab": {
     "base_uri": "https://localhost:8080/"
    },
    "id": "YAJ4W-ALVXW9",
    "executionInfo": {
     "status": "ok",
     "timestamp": 1620404582161,
     "user_tz": -330,
     "elapsed": 3224429,
     "user": {
      "displayName": "basani ashwath",
      "photoUrl": "https://lh3.googleusercontent.com/a-/AOh14Ghgk4K2h0RnshP1oV3Ubha9wCLhuHdXngdOiqjPkA=s64",
      "userId": "05253221695052091886"
     }
    },
    "outputId": "facd4121-c82f-4f90-d089-b6231fc61304"
   },
   "source": [
    "epsilon = 0.05\n",
    "epsilon_05_results = EpsilonGreedyReplayer(epsilon, n_visits, reward_history,\n",
    "                                           item_col_name, visitor_col_name, reward_col_name,\n",
    "                                           n_iterations=n_iterations).replay()"
   ],
   "execution_count": 14,
   "outputs": [
    {
     "output_type": "stream",
     "text": [
      "100%|██████████| 20/20 [27:37<00:00, 82.89s/it]\n"
     ],
     "name": "stderr"
    }
   ]
  },
  {
   "cell_type": "code",
   "metadata": {
    "colab": {
     "base_uri": "https://localhost:8080/",
     "height": 204
    },
    "id": "FGQ56UB1VXW-",
    "executionInfo": {
     "status": "ok",
     "timestamp": 1620404583798,
     "user_tz": -330,
     "elapsed": 3225294,
     "user": {
      "displayName": "basani ashwath",
      "photoUrl": "https://lh3.googleusercontent.com/a-/AOh14Ghgk4K2h0RnshP1oV3Ubha9wCLhuHdXngdOiqjPkA=s64",
      "userId": "05253221695052091886"
     }
    },
    "outputId": "92ee0ef1-b8cb-495e-b958-78b079be68a2"
   },
   "source": [
    "epsilon_05_results_df = pd.DataFrame(epsilon_05_results)\n",
    "epsilon_05_results_df.head()"
   ],
   "execution_count": 15,
   "outputs": [
    {
     "output_type": "execute_result",
     "data": {
      "text/html": [
       "<div>\n",
       "<style scoped>\n",
       "    .dataframe tbody tr th:only-of-type {\n",
       "        vertical-align: middle;\n",
       "    }\n",
       "\n",
       "    .dataframe tbody tr th {\n",
       "        vertical-align: top;\n",
       "    }\n",
       "\n",
       "    .dataframe thead th {\n",
       "        text-align: right;\n",
       "    }\n",
       "</style>\n",
       "<table border=\"1\" class=\"dataframe\">\n",
       "  <thead>\n",
       "    <tr style=\"text-align: right;\">\n",
       "      <th></th>\n",
       "      <th>iteration</th>\n",
       "      <th>visit</th>\n",
       "      <th>item_id</th>\n",
       "      <th>visitor_id</th>\n",
       "      <th>reward</th>\n",
       "      <th>total_reward</th>\n",
       "      <th>fraction_relevant</th>\n",
       "    </tr>\n",
       "  </thead>\n",
       "  <tbody>\n",
       "    <tr>\n",
       "      <th>0</th>\n",
       "      <td>0</td>\n",
       "      <td>0</td>\n",
       "      <td>0</td>\n",
       "      <td>12</td>\n",
       "      <td>0</td>\n",
       "      <td>0</td>\n",
       "      <td>0.0</td>\n",
       "    </tr>\n",
       "    <tr>\n",
       "      <th>1</th>\n",
       "      <td>0</td>\n",
       "      <td>1</td>\n",
       "      <td>257</td>\n",
       "      <td>58</td>\n",
       "      <td>0</td>\n",
       "      <td>0</td>\n",
       "      <td>0.0</td>\n",
       "    </tr>\n",
       "    <tr>\n",
       "      <th>2</th>\n",
       "      <td>0</td>\n",
       "      <td>2</td>\n",
       "      <td>0</td>\n",
       "      <td>222</td>\n",
       "      <td>0</td>\n",
       "      <td>0</td>\n",
       "      <td>0.0</td>\n",
       "    </tr>\n",
       "    <tr>\n",
       "      <th>3</th>\n",
       "      <td>0</td>\n",
       "      <td>3</td>\n",
       "      <td>0</td>\n",
       "      <td>830</td>\n",
       "      <td>0</td>\n",
       "      <td>0</td>\n",
       "      <td>0.0</td>\n",
       "    </tr>\n",
       "    <tr>\n",
       "      <th>4</th>\n",
       "      <td>0</td>\n",
       "      <td>4</td>\n",
       "      <td>0</td>\n",
       "      <td>313</td>\n",
       "      <td>1</td>\n",
       "      <td>1</td>\n",
       "      <td>0.2</td>\n",
       "    </tr>\n",
       "  </tbody>\n",
       "</table>\n",
       "</div>"
      ],
      "text/plain": [
       "   iteration  visit  item_id  ...  reward  total_reward  fraction_relevant\n",
       "0          0      0        0  ...       0             0                0.0\n",
       "1          0      1      257  ...       0             0                0.0\n",
       "2          0      2        0  ...       0             0                0.0\n",
       "3          0      3        0  ...       0             0                0.0\n",
       "4          0      4        0  ...       1             1                0.2\n",
       "\n",
       "[5 rows x 7 columns]"
      ]
     },
     "metadata": {
      "tags": []
     },
     "execution_count": 15
    }
   ]
  },
  {
   "cell_type": "markdown",
   "metadata": {
    "id": "qH2Ec88zVXW_"
   },
   "source": [
    "### Save the output"
   ]
  },
  {
   "cell_type": "code",
   "metadata": {
    "id": "dHp1_32oVXW_",
    "executionInfo": {
     "status": "ok",
     "timestamp": 1620404586595,
     "user_tz": -330,
     "elapsed": 2139908,
     "user": {
      "displayName": "basani ashwath",
      "photoUrl": "https://lh3.googleusercontent.com/a-/AOh14Ghgk4K2h0RnshP1oV3Ubha9wCLhuHdXngdOiqjPkA=s64",
      "userId": "05253221695052091886"
     }
    }
   },
   "source": [
    "epsilon_05_results_df.to_csv('output/epsilon_greedy_05.csv')"
   ],
   "execution_count": 16,
   "outputs": []
  },
  {
   "cell_type": "markdown",
   "metadata": {
    "id": "i2dmYOguVXXA"
   },
   "source": [
    "## $\\epsilon$ = 0.10"
   ]
  },
  {
   "cell_type": "code",
   "metadata": {
    "colab": {
     "base_uri": "https://localhost:8080/"
    },
    "id": "4EX-iJgYVXXB",
    "executionInfo": {
     "status": "ok",
     "timestamp": 1620406278706,
     "user_tz": -330,
     "elapsed": 3830748,
     "user": {
      "displayName": "basani ashwath",
      "photoUrl": "https://lh3.googleusercontent.com/a-/AOh14Ghgk4K2h0RnshP1oV3Ubha9wCLhuHdXngdOiqjPkA=s64",
      "userId": "05253221695052091886"
     }
    },
    "outputId": "62a853b3-5125-485d-9044-2b8642b4ec75"
   },
   "source": [
    "epsilon = 0.10\n",
    "epsilon_10_results = EpsilonGreedyReplayer(epsilon, n_visits, reward_history,\n",
    "                                           item_col_name, visitor_col_name, reward_col_name,\n",
    "                                           n_iterations=n_iterations).replay()"
   ],
   "execution_count": 17,
   "outputs": [
    {
     "output_type": "stream",
     "text": [
      "100%|██████████| 20/20 [28:11<00:00, 84.58s/it]\n"
     ],
     "name": "stderr"
    }
   ]
  },
  {
   "cell_type": "code",
   "metadata": {
    "colab": {
     "base_uri": "https://localhost:8080/",
     "height": 204
    },
    "id": "hEl_amG3VXXB",
    "executionInfo": {
     "status": "ok",
     "timestamp": 1620406279455,
     "user_tz": -330,
     "elapsed": 3830145,
     "user": {
      "displayName": "basani ashwath",
      "photoUrl": "https://lh3.googleusercontent.com/a-/AOh14Ghgk4K2h0RnshP1oV3Ubha9wCLhuHdXngdOiqjPkA=s64",
      "userId": "05253221695052091886"
     }
    },
    "outputId": "351ce978-62af-46a2-ff02-fdabd8c49caf"
   },
   "source": [
    "epsilon_10_results_df = pd.DataFrame(epsilon_10_results)\n",
    "epsilon_10_results_df.head()"
   ],
   "execution_count": 18,
   "outputs": [
    {
     "output_type": "execute_result",
     "data": {
      "text/html": [
       "<div>\n",
       "<style scoped>\n",
       "    .dataframe tbody tr th:only-of-type {\n",
       "        vertical-align: middle;\n",
       "    }\n",
       "\n",
       "    .dataframe tbody tr th {\n",
       "        vertical-align: top;\n",
       "    }\n",
       "\n",
       "    .dataframe thead th {\n",
       "        text-align: right;\n",
       "    }\n",
       "</style>\n",
       "<table border=\"1\" class=\"dataframe\">\n",
       "  <thead>\n",
       "    <tr style=\"text-align: right;\">\n",
       "      <th></th>\n",
       "      <th>iteration</th>\n",
       "      <th>visit</th>\n",
       "      <th>item_id</th>\n",
       "      <th>visitor_id</th>\n",
       "      <th>reward</th>\n",
       "      <th>total_reward</th>\n",
       "      <th>fraction_relevant</th>\n",
       "    </tr>\n",
       "  </thead>\n",
       "  <tbody>\n",
       "    <tr>\n",
       "      <th>0</th>\n",
       "      <td>0</td>\n",
       "      <td>0</td>\n",
       "      <td>0</td>\n",
       "      <td>12</td>\n",
       "      <td>0</td>\n",
       "      <td>0</td>\n",
       "      <td>0.0</td>\n",
       "    </tr>\n",
       "    <tr>\n",
       "      <th>1</th>\n",
       "      <td>0</td>\n",
       "      <td>1</td>\n",
       "      <td>257</td>\n",
       "      <td>58</td>\n",
       "      <td>0</td>\n",
       "      <td>0</td>\n",
       "      <td>0.0</td>\n",
       "    </tr>\n",
       "    <tr>\n",
       "      <th>2</th>\n",
       "      <td>0</td>\n",
       "      <td>2</td>\n",
       "      <td>0</td>\n",
       "      <td>222</td>\n",
       "      <td>0</td>\n",
       "      <td>0</td>\n",
       "      <td>0.0</td>\n",
       "    </tr>\n",
       "    <tr>\n",
       "      <th>3</th>\n",
       "      <td>0</td>\n",
       "      <td>3</td>\n",
       "      <td>0</td>\n",
       "      <td>830</td>\n",
       "      <td>0</td>\n",
       "      <td>0</td>\n",
       "      <td>0.0</td>\n",
       "    </tr>\n",
       "    <tr>\n",
       "      <th>4</th>\n",
       "      <td>0</td>\n",
       "      <td>4</td>\n",
       "      <td>0</td>\n",
       "      <td>313</td>\n",
       "      <td>1</td>\n",
       "      <td>1</td>\n",
       "      <td>0.2</td>\n",
       "    </tr>\n",
       "  </tbody>\n",
       "</table>\n",
       "</div>"
      ],
      "text/plain": [
       "   iteration  visit  item_id  ...  reward  total_reward  fraction_relevant\n",
       "0          0      0        0  ...       0             0                0.0\n",
       "1          0      1      257  ...       0             0                0.0\n",
       "2          0      2        0  ...       0             0                0.0\n",
       "3          0      3        0  ...       0             0                0.0\n",
       "4          0      4        0  ...       1             1                0.2\n",
       "\n",
       "[5 rows x 7 columns]"
      ]
     },
     "metadata": {
      "tags": []
     },
     "execution_count": 18
    }
   ]
  },
  {
   "cell_type": "markdown",
   "metadata": {
    "id": "-R8pTLRJVXXC"
   },
   "source": [
    "### Save the output"
   ]
  },
  {
   "cell_type": "code",
   "metadata": {
    "id": "m7inlZ4MVXXD",
    "executionInfo": {
     "status": "ok",
     "timestamp": 1620406283200,
     "user_tz": -330,
     "elapsed": 3832430,
     "user": {
      "displayName": "basani ashwath",
      "photoUrl": "https://lh3.googleusercontent.com/a-/AOh14Ghgk4K2h0RnshP1oV3Ubha9wCLhuHdXngdOiqjPkA=s64",
      "userId": "05253221695052091886"
     }
    }
   },
   "source": [
    "epsilon_10_results_df.to_csv('output/epsilon_greedy_10.csv')"
   ],
   "execution_count": 19,
   "outputs": []
  },
  {
   "cell_type": "markdown",
   "metadata": {
    "id": "5hY_8i8LVXXD"
   },
   "source": [
    "# Thompson Sampling Simulations"
   ]
  },
  {
   "cell_type": "code",
   "metadata": {
    "colab": {
     "base_uri": "https://localhost:8080/"
    },
    "id": "lN5cI_8eVXXE",
    "executionInfo": {
     "status": "ok",
     "timestamp": 1620407933991,
     "user_tz": -330,
     "elapsed": 5480282,
     "user": {
      "displayName": "basani ashwath",
      "photoUrl": "https://lh3.googleusercontent.com/a-/AOh14Ghgk4K2h0RnshP1oV3Ubha9wCLhuHdXngdOiqjPkA=s64",
      "userId": "05253221695052091886"
     }
    },
    "outputId": "8fa176ed-6813-4510-87d3-9c821d2fc255"
   },
   "source": [
    "thompson_results = ThompsonSamplingReplayer(n_visits, reward_history,\n",
    "                                            item_col_name, visitor_col_name, reward_col_name,\n",
    "                                            n_iterations=n_iterations).replay()"
   ],
   "execution_count": 20,
   "outputs": [
    {
     "output_type": "stream",
     "text": [
      "100%|██████████| 20/20 [27:30<00:00, 82.53s/it]\n"
     ],
     "name": "stderr"
    }
   ]
  },
  {
   "cell_type": "code",
   "metadata": {
    "colab": {
     "base_uri": "https://localhost:8080/",
     "height": 204
    },
    "id": "34zzB_B3VXXF",
    "executionInfo": {
     "status": "ok",
     "timestamp": 1620407935223,
     "user_tz": -330,
     "elapsed": 5481186,
     "user": {
      "displayName": "basani ashwath",
      "photoUrl": "https://lh3.googleusercontent.com/a-/AOh14Ghgk4K2h0RnshP1oV3Ubha9wCLhuHdXngdOiqjPkA=s64",
      "userId": "05253221695052091886"
     }
    },
    "outputId": "47409443-181c-4b67-db86-fce3dc1b6077"
   },
   "source": [
    "thompson_results_df = pd.DataFrame(thompson_results)\n",
    "thompson_results_df.head()"
   ],
   "execution_count": 21,
   "outputs": [
    {
     "output_type": "execute_result",
     "data": {
      "text/html": [
       "<div>\n",
       "<style scoped>\n",
       "    .dataframe tbody tr th:only-of-type {\n",
       "        vertical-align: middle;\n",
       "    }\n",
       "\n",
       "    .dataframe tbody tr th {\n",
       "        vertical-align: top;\n",
       "    }\n",
       "\n",
       "    .dataframe thead th {\n",
       "        text-align: right;\n",
       "    }\n",
       "</style>\n",
       "<table border=\"1\" class=\"dataframe\">\n",
       "  <thead>\n",
       "    <tr style=\"text-align: right;\">\n",
       "      <th></th>\n",
       "      <th>iteration</th>\n",
       "      <th>visit</th>\n",
       "      <th>item_id</th>\n",
       "      <th>visitor_id</th>\n",
       "      <th>reward</th>\n",
       "      <th>total_reward</th>\n",
       "      <th>fraction_relevant</th>\n",
       "    </tr>\n",
       "  </thead>\n",
       "  <tbody>\n",
       "    <tr>\n",
       "      <th>0</th>\n",
       "      <td>0</td>\n",
       "      <td>0</td>\n",
       "      <td>299</td>\n",
       "      <td>12</td>\n",
       "      <td>0</td>\n",
       "      <td>0</td>\n",
       "      <td>0.000000</td>\n",
       "    </tr>\n",
       "    <tr>\n",
       "      <th>1</th>\n",
       "      <td>0</td>\n",
       "      <td>1</td>\n",
       "      <td>49</td>\n",
       "      <td>333</td>\n",
       "      <td>1</td>\n",
       "      <td>1</td>\n",
       "      <td>0.500000</td>\n",
       "    </tr>\n",
       "    <tr>\n",
       "      <th>2</th>\n",
       "      <td>0</td>\n",
       "      <td>2</td>\n",
       "      <td>49</td>\n",
       "      <td>693</td>\n",
       "      <td>1</td>\n",
       "      <td>2</td>\n",
       "      <td>0.666667</td>\n",
       "    </tr>\n",
       "    <tr>\n",
       "      <th>3</th>\n",
       "      <td>0</td>\n",
       "      <td>3</td>\n",
       "      <td>49</td>\n",
       "      <td>479</td>\n",
       "      <td>0</td>\n",
       "      <td>2</td>\n",
       "      <td>0.500000</td>\n",
       "    </tr>\n",
       "    <tr>\n",
       "      <th>4</th>\n",
       "      <td>0</td>\n",
       "      <td>4</td>\n",
       "      <td>120</td>\n",
       "      <td>525</td>\n",
       "      <td>0</td>\n",
       "      <td>2</td>\n",
       "      <td>0.400000</td>\n",
       "    </tr>\n",
       "  </tbody>\n",
       "</table>\n",
       "</div>"
      ],
      "text/plain": [
       "   iteration  visit  item_id  ...  reward  total_reward  fraction_relevant\n",
       "0          0      0      299  ...       0             0           0.000000\n",
       "1          0      1       49  ...       1             1           0.500000\n",
       "2          0      2       49  ...       1             2           0.666667\n",
       "3          0      3       49  ...       0             2           0.500000\n",
       "4          0      4      120  ...       0             2           0.400000\n",
       "\n",
       "[5 rows x 7 columns]"
      ]
     },
     "metadata": {
      "tags": []
     },
     "execution_count": 21
    }
   ]
  },
  {
   "cell_type": "markdown",
   "metadata": {
    "id": "J09cihivVXXF"
   },
   "source": [
    "### Save the output"
   ]
  },
  {
   "cell_type": "code",
   "metadata": {
    "id": "RXYLRd8aVXXG",
    "executionInfo": {
     "status": "ok",
     "timestamp": 1620407937799,
     "user_tz": -330,
     "elapsed": 5483354,
     "user": {
      "displayName": "basani ashwath",
      "photoUrl": "https://lh3.googleusercontent.com/a-/AOh14Ghgk4K2h0RnshP1oV3Ubha9wCLhuHdXngdOiqjPkA=s64",
      "userId": "05253221695052091886"
     }
    }
   },
   "source": [
    "thompson_results_df.to_csv('output/thompson_sampling.csv')"
   ],
   "execution_count": 22,
   "outputs": []
  },
  {
   "cell_type": "markdown",
   "metadata": {
    "id": "a1aX08lRVXXG"
   },
   "source": [
    "# Compare the results"
   ]
  },
  {
   "cell_type": "markdown",
   "metadata": {
    "id": "twLCg6k4VXXH"
   },
   "source": [
    "## Average the results across all runs"
   ]
  },
  {
   "cell_type": "code",
   "metadata": {
    "id": "S1FZArcMVXXH",
    "executionInfo": {
     "status": "ok",
     "timestamp": 1620407940155,
     "user_tz": -330,
     "elapsed": 860,
     "user": {
      "displayName": "basani ashwath",
      "photoUrl": "https://lh3.googleusercontent.com/a-/AOh14Ghgk4K2h0RnshP1oV3Ubha9wCLhuHdXngdOiqjPkA=s64",
      "userId": "05253221695052091886"
     }
    }
   },
   "source": [
    "ab_1k_avg_results_df = ab_1k_results_df.groupby('visit', as_index=False).mean()\n",
    "\n",
    "ab_5k_avg_results_df = ab_5k_results_df.groupby('visit', as_index=False).mean()\n",
    "\n",
    "epsilon_05_avg_results_df = epsilon_05_results_df.groupby('visit', as_index=False).mean()\n",
    "\n",
    "epsilon_10_avg_results_df = epsilon_10_results_df.groupby('visit', as_index=False).mean()\n",
    "\n",
    "thompson_avg_results_df = thompson_results_df.groupby('visit', as_index=False).mean()"
   ],
   "execution_count": 23,
   "outputs": []
  },
  {
   "cell_type": "markdown",
   "metadata": {
    "id": "2PVFLnZYVXXI"
   },
   "source": [
    "## Plot the output"
   ]
  },
  {
   "cell_type": "code",
   "metadata": {
    "id": "JtTSjVAtVXXI",
    "executionInfo": {
     "status": "ok",
     "timestamp": 1620407941453,
     "user_tz": -330,
     "elapsed": 2129,
     "user": {
      "displayName": "basani ashwath",
      "photoUrl": "https://lh3.googleusercontent.com/a-/AOh14Ghgk4K2h0RnshP1oV3Ubha9wCLhuHdXngdOiqjPkA=s64",
      "userId": "05253221695052091886"
     }
    }
   },
   "source": [
    "%matplotlib inline\n",
    "from matplotlib import pyplot as plt\n",
    "import seaborn as sns"
   ],
   "execution_count": 24,
   "outputs": []
  },
  {
   "cell_type": "code",
   "metadata": {
    "id": "36v927u_VXXJ",
    "executionInfo": {
     "status": "ok",
     "timestamp": 1620407941467,
     "user_tz": -330,
     "elapsed": 2135,
     "user": {
      "displayName": "basani ashwath",
      "photoUrl": "https://lh3.googleusercontent.com/a-/AOh14Ghgk4K2h0RnshP1oV3Ubha9wCLhuHdXngdOiqjPkA=s64",
      "userId": "05253221695052091886"
     }
    }
   },
   "source": [
    "sns.set(font_scale=2.5)"
   ],
   "execution_count": 25,
   "outputs": []
  },
  {
   "cell_type": "code",
   "metadata": {
    "colab": {
     "base_uri": "https://localhost:8080/",
     "height": 85
    },
    "id": "HM5W3bsZVXXJ",
    "executionInfo": {
     "status": "ok",
     "timestamp": 1620407941471,
     "user_tz": -330,
     "elapsed": 2105,
     "user": {
      "displayName": "basani ashwath",
      "photoUrl": "https://lh3.googleusercontent.com/a-/AOh14Ghgk4K2h0RnshP1oV3Ubha9wCLhuHdXngdOiqjPkA=s64",
      "userId": "05253221695052091886"
     }
    },
    "outputId": "3dd61bca-6750-4cb2-948e-2f98323d4c56"
   },
   "source": [
    "# using a color-blind friendly palette with 10 colors\n",
    "color_blind_palette_10 = ['#cfcfcf', '#ffbc79', '#a2c8ec', '#898989', '#c85200',\n",
    "                          '#5f9ed1', '#595959', '#ababab', '#ff800e', '#006ba4']\n",
    "\n",
    "sns.palplot(color_blind_palette_10)"
   ],
   "execution_count": 26,
   "outputs": [
    {
     "output_type": "display_data",
     "data": {
      "image/png": "[encoded data removed]",
      "text/plain": [
       "<Figure size 720x72 with 1 Axes>"
      ]
     },
     "metadata": {
      "tags": []
     }
    }
   ]
  },
  {
   "cell_type": "code",
   "metadata": {
    "colab": {
     "base_uri": "https://localhost:8080/",
     "height": 686
    },
    "id": "UsyKhFX0VXXK",
    "executionInfo": {
     "status": "ok",
     "timestamp": 1620407943395,
     "user_tz": -330,
     "elapsed": 3991,
     "user": {
      "displayName": "basani ashwath",
      "photoUrl": "https://lh3.googleusercontent.com/a-/AOh14Ghgk4K2h0RnshP1oV3Ubha9wCLhuHdXngdOiqjPkA=s64",
      "userId": "05253221695052091886"
     }
    },
    "outputId": "0551483e-d1f6-4678-d82d-3efe85b77f25"
   },
   "source": [
    "fig, ax = plt.subplots(figsize=(12,10))\n",
    "\n",
    "for (avg_results_df, style) in [(ab_1k_avg_results_df, 'r-'),\n",
    "                                (ab_5k_avg_results_df, 'r--'),\n",
    "                                (epsilon_05_avg_results_df, 'b-'),\n",
    "                                (epsilon_10_avg_results_df, 'b--'),\n",
    "                                (thompson_avg_results_df, 'tab:brown')]:\n",
    "    \n",
    "    ax.plot(avg_results_df.visit, avg_results_df.fraction_relevant, style, linewidth=3.5)\n",
    "\n",
    "# add a line for the optimal value -- 0.5575 for Star Wars (from exploration noteboook)\n",
    "ax.axhline(y=0.5575, color='k', linestyle=':', linewidth=2.5)\n",
    "\n",
    "ax.set_title('Percentage of Liked Recommendations')\n",
    "ax.set_xlabel('Recommendation #')\n",
    "ax.set_ylabel('% of Recs Liked')\n",
    "\n",
    "ax.set_xticks(range(0,22000,5000))\n",
    "ax.set_ylim(0.2, 0.6)\n",
    "ax.set_yticks(np.arange(0.2, 0.7, 0.1))\n",
    "\n",
    "# rescale the y-axis tick labels to show them as a percentage\n",
    "ax.set_yticklabels((ax.get_yticks()*100).astype(int))\n",
    "\n",
    "ax.legend(['A/B Test (1k Recs)',\n",
    "           'A/B Test (5k Recs)',\n",
    "           '$\\epsilon$ = 0.05',\n",
    "           '$\\epsilon$ = 0.10',\n",
    "           'Thompson Sampling',\n",
    "           'Optimal (Star Wars)'\n",
    "          ],\n",
    "          loc='lower right'\n",
    "         )\n",
    "\n",
    "plt.tight_layout()\n",
    "plt.show()"
   ],
   "execution_count": 27,
   "outputs": [
    {
     "output_type": "display_data",
     "data": {
      "image/png": "[encoded data removed]",
      "text/plain": [
       "<Figure size 864x720 with 1 Axes>"
      ]
     },
     "metadata": {
      "tags": []
     }
    }
   ]
  },
  {
   "cell_type": "code",
   "metadata": {
    "id": "KQoer6VYw0TI",
    "executionInfo": {
     "status": "ok",
     "timestamp": 1620408118704,
     "user_tz": -330,
     "elapsed": 1996,
     "user": {
      "displayName": "basani ashwath",
      "photoUrl": "https://lh3.googleusercontent.com/a-/AOh14Ghgk4K2h0RnshP1oV3Ubha9wCLhuHdXngdOiqjPkA=s64",
      "userId": "05253221695052091886"
     }
    }
   },
   "source": [
    ""
   ],
   "execution_count": 27,
   "outputs": []
  }
 ]
}