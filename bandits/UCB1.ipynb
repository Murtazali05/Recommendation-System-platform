{
 "nbformat": 4,
 "nbformat_minor": 0,
 "metadata": {
  "colab": {
   "name": "UCB1.ipynb",
   "provenance": [],
   "mount_file_id": "1z1bJb8TFU3D2KtIw0zbbhl2CXl4FneGo",
   "authorship_tag": "ABX9TyOZuGmoi/h1dfdL0SPMuMzf"
  },
  "kernelspec": {
   "name": "python3",
   "display_name": "Python 3"
  },
  "language_info": {
   "name": "python"
  }
 },
 "cells": [
  {
   "cell_type": "code",
   "metadata": {
    "id": "PQqAxp5D8o8u",
    "executionInfo": {
     "status": "ok",
     "timestamp": 1620332133447,
     "user_tz": -330,
     "elapsed": 4209,
     "user": {
      "displayName": "basani ashwath",
      "photoUrl": "https://lh3.googleusercontent.com/a-/AOh14Ghgk4K2h0RnshP1oV3Ubha9wCLhuHdXngdOiqjPkA=s64",
      "userId": "05253221695052091886"
     }
    }
   },
   "source": [
    "import sys\n",
    "import numpy as np\n",
    "import pandas as pd\n",
    "import sys\n",
    "import time\n",
    "import matplotlib.pyplot as plt \n",
    "from bandits.utils import score\n",
    "import argparse\n",
    "from bandits.scripts.create_movielens_dataset import get_ratings_1m"
   ],
   "execution_count": 5,
   "outputs": []
  },
  {
   "cell_type": "code",
   "metadata": {
    "id": "bR5evl3z-bB1",
    "executionInfo": {
     "status": "ok",
     "timestamp": 1620332246448,
     "user_tz": -330,
     "elapsed": 1451,
     "user": {
      "displayName": "basani ashwath",
      "photoUrl": "https://lh3.googleusercontent.com/a-/AOh14Ghgk4K2h0RnshP1oV3Ubha9wCLhuHdXngdOiqjPkA=s64",
      "userId": "05253221695052091886"
     }
    }
   },
   "source": [
    "def ucb1_policy(df, t, ucb_scale=2.0,bayesian=False,n=5):\n",
    "\t'''\n",
    "\tApplies UCB1 policy to generate movie recommendations\n",
    "\targs:\n",
    "\t\tdf: dataframe. Dataset to apply UCB policy to.\n",
    "\t\tucb_scale: float. Most implementations use 2.0.\n",
    "\t\tt: int. represents the current time step.\n",
    "\t'''\n",
    "\tscores = df[['movieId', 'liked']].groupby('movieId').agg({'liked': ['mean', 'count', 'std']})\n",
    "\tscores.columns = ['mean', 'count', 'std']\n",
    "\tif bayesian == 'TRUE':\n",
    "\t\tscores['ucb'] = scores['mean'] + (ucb_scale * scores['std'] / np.sqrt(scores['count']))\n",
    "\telse:\n",
    "\t\tscores['ucb'] = scores['mean'] + np.sqrt(\n",
    "\t\t\t\t(\n",
    "\t\t\t\t\t(2 * np.log10(t)) /\n",
    "\t\t\t\t\tscores['count']\n",
    "\t\t\t\t)\n",
    "\t\t\t)\n",
    "\tscores['movieId'] = scores.index\n",
    "\tscores = scores.sort_values('ucb', ascending=False)\n",
    "\trecs = scores.loc[scores.index[0:n], 'movieId'].values\n",
    "\treturn recs"
   ],
   "execution_count": 6,
   "outputs": []
  },
  {
   "cell_type": "code",
   "metadata": {
    "id": "MBUaS-ldIa04",
    "executionInfo": {
     "status": "ok",
     "timestamp": 1620332247026,
     "user_tz": -330,
     "elapsed": 2013,
     "user": {
      "displayName": "basani ashwath",
      "photoUrl": "https://lh3.googleusercontent.com/a-/AOh14Ghgk4K2h0RnshP1oV3Ubha9wCLhuHdXngdOiqjPkA=s64",
      "userId": "05253221695052091886"
     }
    }
   },
   "source": [
    ""
   ],
   "execution_count": 6,
   "outputs": []
  },
  {
   "cell_type": "code",
   "metadata": {
    "colab": {
     "base_uri": "https://localhost:8080/"
    },
    "id": "3-ixNX5h-gd2",
    "executionInfo": {
     "status": "ok",
     "timestamp": 1620332254931,
     "user_tz": -330,
     "elapsed": 8746,
     "user": {
      "displayName": "basani ashwath",
      "photoUrl": "https://lh3.googleusercontent.com/a-/AOh14Ghgk4K2h0RnshP1oV3Ubha9wCLhuHdXngdOiqjPkA=s64",
      "userId": "05253221695052091886"
     }
    },
    "outputId": "55be9229-c267-450a-f3f5-7c5767ee1034"
   },
   "source": [
    "df = get_ratings_1m()\n",
    "print(df.shape)\n",
    "print(len(df.movieId.unique()))"
   ],
   "execution_count": 7,
   "outputs": [
    {
     "output_type": "stream",
     "text": [
      "reading movielens 1m data\n",
      "preparing ratings log\n",
      "(305373, 14)\n",
      "207\n"
     ],
     "name": "stdout"
    }
   ]
  },
  {
   "cell_type": "code",
   "metadata": {
    "colab": {
     "base_uri": "https://localhost:8080/",
     "height": 235
    },
    "id": "UuBOk1P_IbtX",
    "executionInfo": {
     "status": "ok",
     "timestamp": 1620332254961,
     "user_tz": -330,
     "elapsed": 7992,
     "user": {
      "displayName": "basani ashwath",
      "photoUrl": "https://lh3.googleusercontent.com/a-/AOh14Ghgk4K2h0RnshP1oV3Ubha9wCLhuHdXngdOiqjPkA=s64",
      "userId": "05253221695052091886"
     }
    },
    "outputId": "c14eed1d-de69-4654-d7f8-3adacf5b78c2"
   },
   "source": [
    "df.head()"
   ],
   "execution_count": 8,
   "outputs": [
    {
     "output_type": "execute_result",
     "data": {
      "text/html": [
       "<div>\n",
       "<style scoped>\n",
       "    .dataframe tbody tr th:only-of-type {\n",
       "        vertical-align: middle;\n",
       "    }\n",
       "\n",
       "    .dataframe tbody tr th {\n",
       "        vertical-align: top;\n",
       "    }\n",
       "\n",
       "    .dataframe thead th {\n",
       "        text-align: right;\n",
       "    }\n",
       "</style>\n",
       "<table border=\"1\" class=\"dataframe\">\n",
       "  <thead>\n",
       "    <tr style=\"text-align: right;\">\n",
       "      <th></th>\n",
       "      <th>userId</th>\n",
       "      <th>movieId</th>\n",
       "      <th>rating</th>\n",
       "      <th>ts</th>\n",
       "      <th>movieId_movie</th>\n",
       "      <th>title</th>\n",
       "      <th>genres</th>\n",
       "      <th>userId_movie</th>\n",
       "      <th>gender</th>\n",
       "      <th>age</th>\n",
       "      <th>occupation</th>\n",
       "      <th>zip</th>\n",
       "      <th>t</th>\n",
       "      <th>liked</th>\n",
       "    </tr>\n",
       "    <tr>\n",
       "      <th>t</th>\n",
       "      <th></th>\n",
       "      <th></th>\n",
       "      <th></th>\n",
       "      <th></th>\n",
       "      <th></th>\n",
       "      <th></th>\n",
       "      <th></th>\n",
       "      <th></th>\n",
       "      <th></th>\n",
       "      <th></th>\n",
       "      <th></th>\n",
       "      <th></th>\n",
       "      <th></th>\n",
       "      <th></th>\n",
       "    </tr>\n",
       "  </thead>\n",
       "  <tbody>\n",
       "    <tr>\n",
       "      <th>0</th>\n",
       "      <td>2263</td>\n",
       "      <td>2804</td>\n",
       "      <td>4</td>\n",
       "      <td>974584028</td>\n",
       "      <td>2873.0</td>\n",
       "      <td>Lulu on the Bridge (1998)</td>\n",
       "      <td>Drama|Mystery|Romance</td>\n",
       "      <td>2264.0</td>\n",
       "      <td>F</td>\n",
       "      <td>45.0</td>\n",
       "      <td>7.0</td>\n",
       "      <td>37877</td>\n",
       "      <td>0</td>\n",
       "      <td>0</td>\n",
       "    </tr>\n",
       "    <tr>\n",
       "      <th>1</th>\n",
       "      <td>5970</td>\n",
       "      <td>1198</td>\n",
       "      <td>4</td>\n",
       "      <td>956958482</td>\n",
       "      <td>1216.0</td>\n",
       "      <td>Big Blue, The (Le Grand Bleu) (1988)</td>\n",
       "      <td>Adventure|Romance</td>\n",
       "      <td>5971.0</td>\n",
       "      <td>M</td>\n",
       "      <td>35.0</td>\n",
       "      <td>7.0</td>\n",
       "      <td>49504</td>\n",
       "      <td>1</td>\n",
       "      <td>0</td>\n",
       "    </tr>\n",
       "    <tr>\n",
       "      <th>2</th>\n",
       "      <td>5075</td>\n",
       "      <td>1206</td>\n",
       "      <td>5</td>\n",
       "      <td>962421893</td>\n",
       "      <td>1224.0</td>\n",
       "      <td>Henry V (1989)</td>\n",
       "      <td>Drama|War</td>\n",
       "      <td>5076.0</td>\n",
       "      <td>M</td>\n",
       "      <td>25.0</td>\n",
       "      <td>3.0</td>\n",
       "      <td>19147</td>\n",
       "      <td>2</td>\n",
       "      <td>1</td>\n",
       "    </tr>\n",
       "    <tr>\n",
       "      <th>3</th>\n",
       "      <td>5807</td>\n",
       "      <td>110</td>\n",
       "      <td>5</td>\n",
       "      <td>957985363</td>\n",
       "      <td>112.0</td>\n",
       "      <td>Rumble in the Bronx (1995)</td>\n",
       "      <td>Action|Adventure|Crime</td>\n",
       "      <td>5808.0</td>\n",
       "      <td>F</td>\n",
       "      <td>25.0</td>\n",
       "      <td>7.0</td>\n",
       "      <td>37206</td>\n",
       "      <td>3</td>\n",
       "      <td>1</td>\n",
       "    </tr>\n",
       "    <tr>\n",
       "      <th>4</th>\n",
       "      <td>3399</td>\n",
       "      <td>349</td>\n",
       "      <td>3</td>\n",
       "      <td>967478431</td>\n",
       "      <td>353.0</td>\n",
       "      <td>Crow, The (1994)</td>\n",
       "      <td>Action|Romance|Thriller</td>\n",
       "      <td>3400.0</td>\n",
       "      <td>M</td>\n",
       "      <td>25.0</td>\n",
       "      <td>14.0</td>\n",
       "      <td>08742</td>\n",
       "      <td>4</td>\n",
       "      <td>0</td>\n",
       "    </tr>\n",
       "  </tbody>\n",
       "</table>\n",
       "</div>"
      ],
      "text/plain": [
       "   userId  movieId  rating         ts  ...  occupation    zip  t  liked\n",
       "t                                      ...                             \n",
       "0    2263     2804       4  974584028  ...         7.0  37877  0      0\n",
       "1    5970     1198       4  956958482  ...         7.0  49504  1      0\n",
       "2    5075     1206       5  962421893  ...         3.0  19147  2      1\n",
       "3    5807      110       5  957985363  ...         7.0  37206  3      1\n",
       "4    3399      349       3  967478431  ...        14.0  08742  4      0\n",
       "\n",
       "[5 rows x 14 columns]"
      ]
     },
     "metadata": {
      "tags": []
     },
     "execution_count": 8
    }
   ]
  },
  {
   "cell_type": "code",
   "metadata": {
    "colab": {
     "base_uri": "https://localhost:8080/",
     "height": 235
    },
    "id": "cvjedsLoCDm0",
    "executionInfo": {
     "status": "ok",
     "timestamp": 1620332254963,
     "user_tz": -330,
     "elapsed": 5703,
     "user": {
      "displayName": "basani ashwath",
      "photoUrl": "https://lh3.googleusercontent.com/a-/AOh14Ghgk4K2h0RnshP1oV3Ubha9wCLhuHdXngdOiqjPkA=s64",
      "userId": "05253221695052091886"
     }
    },
    "outputId": "ebb6f626-2e5c-42aa-aa53-9f74dbe9deb4"
   },
   "source": [
    "# import pdb;pdb.set_trace()\n",
    "history = df.groupby('movieId').first()\n",
    "history['movieId'] = history.index\n",
    "history['t'] = 0\n",
    "history.index = history['t']\n",
    "history['liked'] = 1\n",
    "history = history[df.columns] # reorder columns to match logged data\n",
    "history2 = history.copy()\n",
    "history2['liked'] = 0\n",
    "history = history.append(history).append(history2).append(history2).append(history)\n",
    "history['scoring_round'] = 0\n",
    "history.head()"
   ],
   "execution_count": 9,
   "outputs": [
    {
     "output_type": "execute_result",
     "data": {
      "text/html": [
       "<div>\n",
       "<style scoped>\n",
       "    .dataframe tbody tr th:only-of-type {\n",
       "        vertical-align: middle;\n",
       "    }\n",
       "\n",
       "    .dataframe tbody tr th {\n",
       "        vertical-align: top;\n",
       "    }\n",
       "\n",
       "    .dataframe thead th {\n",
       "        text-align: right;\n",
       "    }\n",
       "</style>\n",
       "<table border=\"1\" class=\"dataframe\">\n",
       "  <thead>\n",
       "    <tr style=\"text-align: right;\">\n",
       "      <th></th>\n",
       "      <th>userId</th>\n",
       "      <th>movieId</th>\n",
       "      <th>rating</th>\n",
       "      <th>ts</th>\n",
       "      <th>movieId_movie</th>\n",
       "      <th>title</th>\n",
       "      <th>genres</th>\n",
       "      <th>userId_movie</th>\n",
       "      <th>gender</th>\n",
       "      <th>age</th>\n",
       "      <th>occupation</th>\n",
       "      <th>zip</th>\n",
       "      <th>t</th>\n",
       "      <th>liked</th>\n",
       "      <th>scoring_round</th>\n",
       "    </tr>\n",
       "    <tr>\n",
       "      <th>t</th>\n",
       "      <th></th>\n",
       "      <th></th>\n",
       "      <th></th>\n",
       "      <th></th>\n",
       "      <th></th>\n",
       "      <th></th>\n",
       "      <th></th>\n",
       "      <th></th>\n",
       "      <th></th>\n",
       "      <th></th>\n",
       "      <th></th>\n",
       "      <th></th>\n",
       "      <th></th>\n",
       "      <th></th>\n",
       "      <th></th>\n",
       "    </tr>\n",
       "  </thead>\n",
       "  <tbody>\n",
       "    <tr>\n",
       "      <th>0</th>\n",
       "      <td>3380</td>\n",
       "      <td>1</td>\n",
       "      <td>4</td>\n",
       "      <td>967673541</td>\n",
       "      <td>2.0</td>\n",
       "      <td>Jumanji (1995)</td>\n",
       "      <td>Adventure|Children's|Fantasy</td>\n",
       "      <td>3381.0</td>\n",
       "      <td>M</td>\n",
       "      <td>25.0</td>\n",
       "      <td>0.0</td>\n",
       "      <td>96671</td>\n",
       "      <td>0</td>\n",
       "      <td>1</td>\n",
       "      <td>0</td>\n",
       "    </tr>\n",
       "    <tr>\n",
       "      <th>0</th>\n",
       "      <td>2068</td>\n",
       "      <td>11</td>\n",
       "      <td>5</td>\n",
       "      <td>974658261</td>\n",
       "      <td>12.0</td>\n",
       "      <td>Dracula: Dead and Loving It (1995)</td>\n",
       "      <td>Comedy|Horror</td>\n",
       "      <td>2069.0</td>\n",
       "      <td>M</td>\n",
       "      <td>56.0</td>\n",
       "      <td>15.0</td>\n",
       "      <td>79068</td>\n",
       "      <td>0</td>\n",
       "      <td>1</td>\n",
       "      <td>0</td>\n",
       "    </tr>\n",
       "    <tr>\n",
       "      <th>0</th>\n",
       "      <td>1465</td>\n",
       "      <td>21</td>\n",
       "      <td>2</td>\n",
       "      <td>974762676</td>\n",
       "      <td>22.0</td>\n",
       "      <td>Copycat (1995)</td>\n",
       "      <td>Crime|Drama|Thriller</td>\n",
       "      <td>1466.0</td>\n",
       "      <td>M</td>\n",
       "      <td>18.0</td>\n",
       "      <td>4.0</td>\n",
       "      <td>29201</td>\n",
       "      <td>0</td>\n",
       "      <td>1</td>\n",
       "      <td>0</td>\n",
       "    </tr>\n",
       "    <tr>\n",
       "      <th>0</th>\n",
       "      <td>765</td>\n",
       "      <td>32</td>\n",
       "      <td>4</td>\n",
       "      <td>975450508</td>\n",
       "      <td>33.0</td>\n",
       "      <td>Wings of Courage (1995)</td>\n",
       "      <td>Adventure|Romance</td>\n",
       "      <td>766.0</td>\n",
       "      <td>F</td>\n",
       "      <td>25.0</td>\n",
       "      <td>7.0</td>\n",
       "      <td>95128</td>\n",
       "      <td>0</td>\n",
       "      <td>1</td>\n",
       "      <td>0</td>\n",
       "    </tr>\n",
       "    <tr>\n",
       "      <th>0</th>\n",
       "      <td>5650</td>\n",
       "      <td>34</td>\n",
       "      <td>3</td>\n",
       "      <td>958864240</td>\n",
       "      <td>35.0</td>\n",
       "      <td>Carrington (1995)</td>\n",
       "      <td>Drama|Romance</td>\n",
       "      <td>5651.0</td>\n",
       "      <td>F</td>\n",
       "      <td>25.0</td>\n",
       "      <td>6.0</td>\n",
       "      <td>74105</td>\n",
       "      <td>0</td>\n",
       "      <td>1</td>\n",
       "      <td>0</td>\n",
       "    </tr>\n",
       "  </tbody>\n",
       "</table>\n",
       "</div>"
      ],
      "text/plain": [
       "   userId  movieId  rating         ts  ...    zip  t liked  scoring_round\n",
       "t                                      ...                               \n",
       "0    3380        1       4  967673541  ...  96671  0     1              0\n",
       "0    2068       11       5  974658261  ...  79068  0     1              0\n",
       "0    1465       21       2  974762676  ...  29201  0     1              0\n",
       "0     765       32       4  975450508  ...  95128  0     1              0\n",
       "0    5650       34       3  958864240  ...  74105  0     1              0\n",
       "\n",
       "[5 rows x 15 columns]"
      ]
     },
     "metadata": {
      "tags": []
     },
     "execution_count": 9
    }
   ]
  },
  {
   "cell_type": "code",
   "metadata": {
    "id": "yfGbBISUDFJe",
    "executionInfo": {
     "status": "ok",
     "timestamp": 1620332254966,
     "user_tz": -330,
     "elapsed": 3483,
     "user": {
      "displayName": "basani ashwath",
      "photoUrl": "https://lh3.googleusercontent.com/a-/AOh14Ghgk4K2h0RnshP1oV3Ubha9wCLhuHdXngdOiqjPkA=s64",
      "userId": "05253221695052091886"
     }
    }
   },
   "source": [
    "# to speed this up, retrain the bandit every batch_size time steps\n",
    "\n",
    "# this lets us measure batch_size actions against a slate of recommendations rather than generating\n",
    "#      recs at each time step. this becomes necessary to reach a useful sample size with replay evaluation\n",
    "ucb_history = pd.DataFrame(data=None, columns = ['mean', 'count', 'std', 'ucb', 'movieId', 'iter']) # for post-analysis of ucbs over iterations\n",
    "batch_size = 10\n",
    "rewards = []\n",
    "ucb_checkpoints = []\n",
    "max_time = df.shape[0] # total number of ratings to evaluate using the bandit\n",
    "i = 1\n"
   ],
   "execution_count": 10,
   "outputs": []
  },
  {
   "cell_type": "code",
   "metadata": {
    "colab": {
     "base_uri": "https://localhost:8080/"
    },
    "id": "jeO22HIMDPBo",
    "executionInfo": {
     "status": "ok",
     "timestamp": 1620332697112,
     "user_tz": -330,
     "elapsed": 444197,
     "user": {
      "displayName": "basani ashwath",
      "photoUrl": "https://lh3.googleusercontent.com/a-/AOh14Ghgk4K2h0RnshP1oV3Ubha9wCLhuHdXngdOiqjPkA=s64",
      "userId": "05253221695052091886"
     }
    },
    "outputId": "fe4aff9b-ad94-4733-ff9a-cefb76ff1ef6"
   },
   "source": [
    "start = time.time()\n",
    "for t in range(1, max_time//batch_size): #df.t:\n",
    "\tt = t * batch_size\n",
    "\tif t % 100000 == 0:\n",
    "\t\tprint(t)\n",
    "\trecs = ucb1_policy(df=history.loc[history.t<=t,], t = t/batch_size, ucb_scale=1.96) #is this the correct t? or raw t.. \n",
    "\thistory, action_score = score(history, df, t, batch_size, recs)\n",
    "\tif action_score is not None:\n",
    "\t\taction_score = action_score.liked.tolist()\n",
    "\t\trewards.extend(action_score)\n",
    "\n",
    "end = time.time()\n",
    "print('finished in {} seconds'.format(end - start))\n"
   ],
   "execution_count": 11,
   "outputs": [
    {
     "output_type": "stream",
     "text": [
      "100000\n",
      "200000\n"
     ],
     "name": "stdout"
    },
    {
     "output_type": "stream",
     "text": [
      "/content/drive/MyDrive/Freelancing/recommendation_system/bandits/bandits/utils.py:10: SettingWithCopyWarning: \n",
      "A value is trying to be set on a copy of a slice from a DataFrame.\n",
      "Try using .loc[row_indexer,col_indexer] = value instead\n",
      "\n",
      "See the caveats in the documentation: https://pandas.pydata.org/pandas-docs/stable/user_guide/indexing.html#returning-a-view-versus-a-copy\n",
      "  actions['scoring_round'] = t\n"
     ],
     "name": "stderr"
    },
    {
     "output_type": "stream",
     "text": [
      "300000\n",
      "finished in 442.2199242115021 seconds\n"
     ],
     "name": "stdout"
    }
   ]
  },
  {
   "cell_type": "code",
   "metadata": {
    "id": "qvt5i2iwDaVh",
    "executionInfo": {
     "status": "ok",
     "timestamp": 1620332719665,
     "user_tz": -330,
     "elapsed": 768,
     "user": {
      "displayName": "basani ashwath",
      "photoUrl": "https://lh3.googleusercontent.com/a-/AOh14Ghgk4K2h0RnshP1oV3Ubha9wCLhuHdXngdOiqjPkA=s64",
      "userId": "05253221695052091886"
     }
    }
   },
   "source": [
    "algorithm_version = 'ucb1_'\n",
    "n=10\n",
    "ucb_scale=1.96\n",
    "min_review_count=1000\n",
    "\n",
    "\n",
    "filename = algorithm_version + str(batch_size) + '_' + str(n) + '_' + str(ucb_scale) + '_' + str(min_review_count)\n",
    "full_filename =filename"
   ],
   "execution_count": 15,
   "outputs": []
  },
  {
   "cell_type": "code",
   "metadata": {
    "id": "9o0WOo5pHBXM",
    "executionInfo": {
     "status": "ok",
     "timestamp": 1620332722293,
     "user_tz": -330,
     "elapsed": 1473,
     "user": {
      "displayName": "basani ashwath",
      "photoUrl": "https://lh3.googleusercontent.com/a-/AOh14Ghgk4K2h0RnshP1oV3Ubha9wCLhuHdXngdOiqjPkA=s64",
      "userId": "05253221695052091886"
     }
    }
   },
   "source": [
    "with open(full_filename + '_raw.csv','w') as file:\n",
    "\tfile.write(str(rewards))"
   ],
   "execution_count": 16,
   "outputs": []
  },
  {
   "cell_type": "code",
   "metadata": {
    "colab": {
     "base_uri": "https://localhost:8080/",
     "height": 282
    },
    "id": "D1fnEzJ1HWqj",
    "executionInfo": {
     "status": "ok",
     "timestamp": 1620332722300,
     "user_tz": -330,
     "elapsed": 1190,
     "user": {
      "displayName": "basani ashwath",
      "photoUrl": "https://lh3.googleusercontent.com/a-/AOh14Ghgk4K2h0RnshP1oV3Ubha9wCLhuHdXngdOiqjPkA=s64",
      "userId": "05253221695052091886"
     }
    },
    "outputId": "e907d2f3-084d-4496-f169-c2c11d928c35"
   },
   "source": [
    "cumulative_avg = np.cumsum(rewards) / np.linspace(1, len(rewards), len(rewards))\n",
    "plt.plot(pd.Series(rewards).rolling(200).mean(), label='epsilon')\n",
    "plt.plot(cumulative_avg, label='epsilon')"
   ],
   "execution_count": 17,
   "outputs": [
    {
     "output_type": "execute_result",
     "data": {
      "text/plain": [
       "[<matplotlib.lines.Line2D at 0x7f9e1fb2ed10>]"
      ]
     },
     "metadata": {
      "tags": []
     },
     "execution_count": 17
    },
    {
     "output_type": "display_data",
     "data": {
      "image/png": "[encoded data removed]",
      "text/plain": [
       "<Figure size 432x288 with 1 Axes>"
      ]
     },
     "metadata": {
      "tags": [],
      "needs_background": "light"
     }
    }
   ]
  },
  {
   "cell_type": "code",
   "metadata": {
    "id": "3qIQRBBtHbnX"
   },
   "source": [
    ""
   ],
   "execution_count": null,
   "outputs": []
  },
  {
   "cell_type": "code",
   "metadata": {
    "id": "bpDabjZRHn-P",
    "executionInfo": {
     "status": "ok",
     "timestamp": 1620332728637,
     "user_tz": -330,
     "elapsed": 1118,
     "user": {
      "displayName": "basani ashwath",
      "photoUrl": "https://lh3.googleusercontent.com/a-/AOh14Ghgk4K2h0RnshP1oV3Ubha9wCLhuHdXngdOiqjPkA=s64",
      "userId": "05253221695052091886"
     }
    }
   },
   "source": [
    "def replay_score(history, df, t, batch_size, recs):\n",
    "    # reward if rec matches logged data, ignore otherwise\n",
    "    actions = df[t:t+batch_size]\n",
    "    actions = actions.loc[actions['movieId'].isin(recs)]\n",
    "    actions['scoring_round'] = t\n",
    "    # add row to history if recs match logging policy\n",
    "    history = history.append(actions)\n",
    "    action_liked = actions[['movieId', 'liked']]\n",
    "    return history, action_liked"
   ],
   "execution_count": 18,
   "outputs": []
  },
  {
   "cell_type": "code",
   "metadata": {
    "id": "khHSS3XhVQak",
    "executionInfo": {
     "status": "ok",
     "timestamp": 1620333036487,
     "user_tz": -330,
     "elapsed": 289071,
     "user": {
      "displayName": "basani ashwath",
      "photoUrl": "https://lh3.googleusercontent.com/a-/AOh14Ghgk4K2h0RnshP1oV3Ubha9wCLhuHdXngdOiqjPkA=s64",
      "userId": "05253221695052091886"
     }
    }
   },
   "source": [
    "# simulation params: slate size, batch size (number of events per training iteration)\n",
    "slate_size = 5\n",
    "batch_size = 10\n",
    "\n",
    "\n",
    "# initialize empty history \n",
    "# (the algorithm should be able to see all events and outcomes prior to the current timestep, but no current or future outcomes)\n",
    "history = pd.DataFrame(data=None, columns=df.columns)\n",
    "history = history.astype({'movieId': 'int32', 'liked': 'float'})\n",
    "\n",
    "# initialize empty list for storing scores from each step\n",
    "rewards = []\n",
    "\n",
    "for t in range(df.shape[0]//batch_size):\n",
    "    t = t * batch_size\n",
    "    # generate recommendations from a random policy\n",
    "    recs = np.random.choice(df.movieId.unique(), size=(slate_size), replace=False)\n",
    "    # send recommendations and dataset to a scoring function so the model can learn & adjust its policy in the next iteration\n",
    "    history, action_score = replay_score(history, df, t, batch_size, recs)\n",
    "    if action_score is not None:\n",
    "        action_score = action_score.liked.tolist()\n",
    "        rewards.extend(action_score)"
   ],
   "execution_count": 20,
   "outputs": []
  },
  {
   "cell_type": "code",
   "metadata": {
    "id": "VsdF1ajQW1RQ",
    "executionInfo": {
     "status": "ok",
     "timestamp": 1620334457735,
     "user_tz": -330,
     "elapsed": 791,
     "user": {
      "displayName": "basani ashwath",
      "photoUrl": "https://lh3.googleusercontent.com/a-/AOh14Ghgk4K2h0RnshP1oV3Ubha9wCLhuHdXngdOiqjPkA=s64",
      "userId": "05253221695052091886"
     }
    }
   },
   "source": [
    ""
   ],
   "execution_count": 28,
   "outputs": []
  },
  {
   "cell_type": "code",
   "metadata": {
    "colab": {
     "base_uri": "https://localhost:8080/",
     "height": 282
    },
    "id": "9waJw6nrYfAN",
    "executionInfo": {
     "status": "ok",
     "timestamp": 1620334463806,
     "user_tz": -330,
     "elapsed": 914,
     "user": {
      "displayName": "basani ashwath",
      "photoUrl": "https://lh3.googleusercontent.com/a-/AOh14Ghgk4K2h0RnshP1oV3Ubha9wCLhuHdXngdOiqjPkA=s64",
      "userId": "05253221695052091886"
     }
    },
    "outputId": "52aa96db-49b6-4fe9-cfe4-94a3bc8ab756"
   },
   "source": [
    "cumulative_rewards = np.cumsum(rewards)/ np.linspace(1, len(rewards), len(rewards))\n",
    "trailing_ctr = np.asarray(pd.Series(rewards).rolling(50).mean())\n",
    "plt.plot(trailing_ctr,label='epsilon')\n",
    "plt.plot(cumulative_rewards,label='epsilon')"
   ],
   "execution_count": 30,
   "outputs": [
    {
     "output_type": "execute_result",
     "data": {
      "text/plain": [
       "[<matplotlib.lines.Line2D at 0x7f9e189e1690>]"
      ]
     },
     "metadata": {
      "tags": []
     },
     "execution_count": 30
    },
    {
     "output_type": "display_data",
     "data": {
      "image/png": "[encoded data removed]",
      "text/plain": [
       "<Figure size 432x288 with 1 Axes>"
      ]
     },
     "metadata": {
      "tags": [],
      "needs_background": "light"
     }
    }
   ]
  },
  {
   "cell_type": "code",
   "metadata": {
    "colab": {
     "base_uri": "https://localhost:8080/"
    },
    "id": "F8sNQuwlbUfN",
    "executionInfo": {
     "status": "ok",
     "timestamp": 1620334407430,
     "user_tz": -330,
     "elapsed": 830,
     "user": {
      "displayName": "basani ashwath",
      "photoUrl": "https://lh3.googleusercontent.com/a-/AOh14Ghgk4K2h0RnshP1oV3Ubha9wCLhuHdXngdOiqjPkA=s64",
      "userId": "05253221695052091886"
     }
    },
    "outputId": "8bd2e3c6-eb09-46dc-e819-735dea39569f"
   },
   "source": [
    "trailing_ctr.shape"
   ],
   "execution_count": 27,
   "outputs": [
    {
     "output_type": "execute_result",
     "data": {
      "text/plain": [
       "(7222,)"
      ]
     },
     "metadata": {
      "tags": []
     },
     "execution_count": 27
    }
   ]
  },
  {
   "cell_type": "code",
   "metadata": {
    "id": "0Ft3gysRba8c"
   },
   "source": [
    ""
   ],
   "execution_count": null,
   "outputs": []
  }
 ]
}