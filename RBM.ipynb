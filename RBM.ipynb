{
 "nbformat": 4,
 "nbformat_minor": 0,
 "metadata": {
  "colab": {
   "name": "RBM.ipynb",
   "provenance": [],
   "collapsed_sections": [],
   "authorship_tag": "ABX9TyPEdvJu+DuX03oc6CllPFlo",
   "include_colab_link": true
  },
  "kernelspec": {
   "name": "python3",
   "language": "python",
   "display_name": "Python 3"
  }
 },
 "cells": [
  {
   "cell_type": "markdown",
   "metadata": {
    "id": "cDQYrAYloiyG"
   },
   "source": [
    "# **Restricted Bolzman machine**"
   ]
  },
  {
   "cell_type": "code",
   "metadata": {
    "id": "oc92XmTDwFbS"
   },
   "source": [
    "#Importing the libraries\n",
    "import pickle\n",
    "\n",
    "from pathlib import Path\n",
    "\n",
    "import pandas as pd\n",
    "import torch.utils.data\n",
    "from sklearn.model_selection import train_test_split\n",
    "\n",
    "from models.rbm import RBM\n",
    "from read_data import read_data, create_tabular_data\n"
   ],
   "execution_count": 1,
   "outputs": []
  },
  {
   "cell_type": "code",
   "metadata": {
    "id": "GisJ00XTyVJM"
   },
   "source": [
    "users = pd.read_csv(\"ml-1m/users.dat\", sep=\"::\", header=None, engine=\"python\", encoding=\"latin-1\")\n",
    "ratings, movies = read_data(Path('ml-1m'))"
   ],
   "execution_count": 2,
   "outputs": []
  },
  {
   "cell_type": "code",
   "metadata": {
    "id": "OTyF6CaE1Smw"
   },
   "source": [
    "nb_users = len(users)\n",
    "nb_movies = len(movies)"
   ],
   "execution_count": 3,
   "outputs": []
  },
  {
   "cell_type": "code",
   "metadata": {
    "colab": {
     "base_uri": "https://localhost:8080/"
    },
    "id": "fik2WOnv1USx",
    "outputId": "58cfda2c-d2d4-4311-ce10-dc994859679f"
   },
   "source": [
    "nb_movies, nb_users"
   ],
   "execution_count": 4,
   "outputs": [
    {
     "data": {
      "text/plain": "(3883, 6040)"
     },
     "execution_count": 4,
     "metadata": {},
     "output_type": "execute_result"
    }
   ]
  },
  {
   "cell_type": "code",
   "metadata": {
    "id": "KgeGAvn54ZV6"
   },
   "source": [
    "df = create_tabular_data(ratings, users, movies)\n",
    "train_set, test_set = train_test_split(df, test_size=0.2)"
   ],
   "execution_count": 5,
   "outputs": []
  },
  {
   "cell_type": "code",
   "metadata": {
    "id": "ID6joy3P4g37"
   },
   "source": [
    "train_set = torch.FloatTensor(train_set.to_numpy())\n",
    "test_set = torch.FloatTensor(test_set.to_numpy())"
   ],
   "execution_count": 6,
   "outputs": []
  },
  {
   "cell_type": "code",
   "metadata": {
    "id": "FqPNZuU94jQl"
   },
   "source": [
    "# Converting the ratings into binary ratings 1(liked) and 0(disliked)\n",
    "train_set[train_set==0] = -1\n",
    "train_set[train_set==1] = 0\n",
    "train_set[train_set==2] = 0\n",
    "train_set[train_set>=3] = 1\n",
    "test_set[test_set==0] = -1\n",
    "test_set[test_set==1] = 0\n",
    "test_set[test_set==2] = 0\n",
    "test_set[test_set>=3] = 1\n"
   ],
   "execution_count": 7,
   "outputs": []
  },
  {
   "cell_type": "code",
   "metadata": {
    "id": "QI100UCz4pJA"
   },
   "source": [
    "nv = len(train_set[0])\n",
    "nh = 100\n",
    "nb_epochs = 10\n",
    "batch_size = 500"
   ],
   "execution_count": 8,
   "outputs": []
  },
  {
   "cell_type": "code",
   "metadata": {
    "id": "Z-QtFUmq4uey"
   },
   "source": [
    "rbm = RBM(nv,nh)\n",
    "rbm.train_model(nb_epochs, batch_size, train_set)"
   ],
   "execution_count": 9,
   "outputs": [
    {
     "name": "stdout",
     "output_type": "stream",
     "text": [
      "epoch: 1 loss: tensor(0.2581)\n",
      "epoch: 2 loss: tensor(0.2233)\n",
      "epoch: 3 loss: tensor(0.2296)\n",
      "epoch: 4 loss: tensor(0.2304)\n",
      "epoch: 5 loss: tensor(0.2303)\n",
      "epoch: 6 loss: tensor(0.2309)\n",
      "epoch: 7 loss: tensor(0.2315)\n",
      "epoch: 8 loss: tensor(0.2298)\n",
      "epoch: 9 loss: tensor(0.2310)\n",
      "epoch: 10 loss: tensor(0.2314)\n"
     ]
    }
   ]
  },
  {
   "cell_type": "code",
   "metadata": {
    "id": "8fZ1xW_e49cV"
   },
   "source": [
    "import copy\n",
    "best_weights = copy.deepcopy(rbm.state_dict())\n",
    "with open('RBM.weights', 'wb') as file:\n",
    "    pickle.dump(best_weights, file)"
   ],
   "execution_count": 10,
   "outputs": []
  },
  {
   "cell_type": "code",
   "metadata": {
    "id": "XvdevU-s4_9G"
   },
   "source": [
    "rbm.test(train_set, test_set)"
   ],
   "execution_count": 11,
   "outputs": [
    {
     "name": "stdout",
     "output_type": "stream",
     "text": [
      " loss: tensor(0.1977)\n"
     ]
    }
   ]
  },
  {
   "cell_type": "code",
   "metadata": {
    "id": "_8_0hyS05BiL",
    "pycharm": {
     "name": "#%%\n"
    }
   },
   "source": [
    "rec = rbm.predict_recommendations(test_set)\n",
    "rec[:50]"
   ],
   "execution_count": 12,
   "outputs": [
    {
     "name": "stdout",
     "output_type": "stream",
     "text": [
      "predicting recommendations for user: 92\n"
     ]
    },
    {
     "name": "stderr",
     "output_type": "stream",
     "text": [
      "C:\\Users\\murtu\\PycharmProjects\\Recommendation-System-platform\\models\\rbm.py:85: UserWarning: Boolean Series key will be reindexed to match DataFrame index.\n",
      "  rec_df = out_df[out_df['ground_truth'] == -1][out_df['predicted_ratings'] == 1].sort_values(\n"
     ]
    },
    {
     "data": {
      "text/plain": "[2619, 2609, 2616, 2, 2613]"
     },
     "execution_count": 12,
     "metadata": {},
     "output_type": "execute_result"
    }
   ]
  }
 ]
}