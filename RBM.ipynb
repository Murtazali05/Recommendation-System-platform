{
  "nbformat": 4,
  "nbformat_minor": 0,
  "metadata": {
    "colab": {
      "name": "RBM.ipynb",
      "provenance": [],
      "collapsed_sections": [],
      "authorship_tag": "ABX9TyPEdvJu+DuX03oc6CllPFlo",
      "include_colab_link": true
    },
    "kernelspec": {
      "name": "python3",
      "display_name": "Python 3"
    }
  },
  "cells": [
    {
      "cell_type": "markdown",
      "metadata": {
        "id": "view-in-github",
        "colab_type": "text"
      },
      "source": [
        "<a href=\"https://colab.research.google.com/github/Murtazali05/Recommendation-System-platform/blob/main/RBM.ipynb\" target=\"_parent\"><img src=\"https://colab.research.google.com/assets/colab-badge.svg\" alt=\"Open In Colab\"/></a>"
      ]
    },
    {
      "cell_type": "markdown",
      "metadata": {
        "id": "cDQYrAYloiyG"
      },
      "source": [
        "# **Restricted Bolzman machine**"
      ]
    },
    {
      "cell_type": "code",
      "metadata": {
        "id": "BhcJVQgDGHWU",
        "colab": {
          "base_uri": "https://localhost:8080/"
        },
        "outputId": "dfbc6028-2c0a-4994-c58a-91f9df54616e"
      },
      "source": [
        "from google.colab import drive\n",
        "drive.mount('/content/drive')"
      ],
      "execution_count": 1,
      "outputs": [
        {
          "output_type": "stream",
          "text": [
            "Mounted at /content/drive\n"
          ],
          "name": "stdout"
        }
      ]
    },
    {
      "cell_type": "code",
      "metadata": {
        "colab": {
          "base_uri": "https://localhost:8080/"
        },
        "id": "lUiS9G1nvUqC",
        "outputId": "0f49945d-cd0c-4af8-9cf0-6c1379aefd55"
      },
      "source": [
        "% cd /content/drive/MyDrive/Colab\\ Notebooks/Recommendation-System"
      ],
      "execution_count": 2,
      "outputs": [
        {
          "output_type": "stream",
          "text": [
            "/content/drive/MyDrive/Colab Notebooks/Recommendation-System\n"
          ],
          "name": "stdout"
        }
      ]
    },
    {
      "cell_type": "code",
      "metadata": {
        "id": "oc92XmTDwFbS"
      },
      "source": [
        "#Importing the libraries\n",
        "\n",
        "import numpy as np\n",
        "import pandas as pd\n",
        "import torch\n",
        "import torch.nn as nn\n",
        "import torch.nn.parallel\n",
        "import torch.optim as optim\n",
        "import torch.utils.data\n",
        "from torch.autograd import Variable"
      ],
      "execution_count": 3,
      "outputs": []
    },
    {
      "cell_type": "code",
      "metadata": {
        "id": "GisJ00XTyVJM"
      },
      "source": [
        "from read_data import read_data, create_dataset,create_tabular_data"
      ],
      "execution_count": 4,
      "outputs": []
    },
    {
      "cell_type": "code",
      "metadata": {
        "id": "sJUlFbXcyWuF"
      },
      "source": [
        "users = pd.read_csv(\"ml-1m/users.dat\",sep = \"::\", header = None, engine = \"python\",encoding =\"latin-1\")"
      ],
      "execution_count": 5,
      "outputs": []
    },
    {
      "cell_type": "code",
      "metadata": {
        "id": "nV1UivWXyebc"
      },
      "source": [
        "from pathlib import Path\n",
        "ratings, movies = read_data(Path('ml-1m'))"
      ],
      "execution_count": 6,
      "outputs": []
    },
    {
      "cell_type": "code",
      "metadata": {
        "id": "OTyF6CaE1Smw"
      },
      "source": [
        "nb_users = len(users)\n",
        "nb_movies = len(movies)"
      ],
      "execution_count": 7,
      "outputs": []
    },
    {
      "cell_type": "code",
      "metadata": {
        "colab": {
          "base_uri": "https://localhost:8080/"
        },
        "id": "fik2WOnv1USx",
        "outputId": "58cfda2c-d2d4-4311-ce10-dc994859679f"
      },
      "source": [
        "nb_movies"
      ],
      "execution_count": 9,
      "outputs": [
        {
          "output_type": "execute_result",
          "data": {
            "text/plain": [
              "3883"
            ]
          },
          "metadata": {
            "tags": []
          },
          "execution_count": 9
        }
      ]
    },
    {
      "cell_type": "code",
      "metadata": {
        "colab": {
          "base_uri": "https://localhost:8080/"
        },
        "id": "DJpyni5p2otR",
        "outputId": "1bc0d7b3-2bec-4af9-aadf-98727e654131"
      },
      "source": [
        "nb_users"
      ],
      "execution_count": 10,
      "outputs": [
        {
          "output_type": "execute_result",
          "data": {
            "text/plain": [
              "6040"
            ]
          },
          "metadata": {
            "tags": []
          },
          "execution_count": 10
        }
      ]
    },
    {
      "cell_type": "code",
      "metadata": {
        "id": "KgeGAvn54ZV6"
      },
      "source": [
        "df = create_tabular_data(ratings, users, movies) "
      ],
      "execution_count": null,
      "outputs": []
    },
    {
      "cell_type": "code",
      "metadata": {
        "id": "xQNBgqu44dty"
      },
      "source": [
        "from sklearn.model_selection import train_test_split\n",
        "train_set, test_set = train_test_split(df, test_size=0.2)"
      ],
      "execution_count": null,
      "outputs": []
    },
    {
      "cell_type": "code",
      "metadata": {
        "id": "ID6joy3P4g37"
      },
      "source": [
        "train_set = torch.FloatTensor(train_set.to_numpy())\n",
        "test_set = torch.FloatTensor(test_set.to_numpy())"
      ],
      "execution_count": null,
      "outputs": []
    },
    {
      "cell_type": "code",
      "metadata": {
        "id": "FqPNZuU94jQl"
      },
      "source": [
        "\n",
        "# Converting the ratings into binary ratings 1(liked) and 0(disliked)\n",
        "train_set[train_set==0] = -1\n",
        "train_set[train_set==1] = 0\n",
        "train_set[train_set==2] = 0\n",
        "train_set[train_set>=3] = 1\n",
        "test_set[test_set==0] = -1\n",
        "test_set[test_set==1] = 0\n",
        "test_set[test_set==2] = 0\n",
        "test_set[test_set>=3] = 1\n"
      ],
      "execution_count": null,
      "outputs": []
    },
    {
      "cell_type": "code",
      "metadata": {
        "id": "6KB0e-em4lBf"
      },
      "source": [
        "from rbm import RBM"
      ],
      "execution_count": null,
      "outputs": []
    },
    {
      "cell_type": "code",
      "metadata": {
        "id": "v7YnVEIE4lrN"
      },
      "source": [
        "# from torch import nn\n",
        "# # Creating the architecture of neural network\n",
        "# class RBM(nn.Module):\n",
        "\n",
        "#     def __init__(self,nv,nh):\n",
        "#         super().__init__()\n",
        "#         self.W = torch.randn(nh,nv)\n",
        "#         self.a = torch.randn(1,nh)\n",
        "#         self.b = torch.randn(1,nv)\n",
        "        \n",
        "#     def sample_h(self,x):\n",
        "#         wx = torch.mm(x,self.W.t())\n",
        "#         activation = wx+self.a.expand_as(wx)\n",
        "#         p_h_given_v = torch.sigmoid(activation)\n",
        "#         return p_h_given_v, torch.bernoulli(p_h_given_v)\n",
        "#     def sample_v(self,y):\n",
        "#         wy = torch.mm(y,self.W)\n",
        "#         activation = wy+self.b.expand_as(wy)\n",
        "#         p_v_given_h = torch.sigmoid(activation)\n",
        "#         return p_v_given_h, torch.bernoulli(p_v_given_h)\n",
        "#     def train(self, v0, vk, ph0, phk):\n",
        "#         self.W += (torch.mm(v0.t(),ph0) - torch.mm(vk.t(),phk)).t()\n",
        "#         self.b += torch.sum((v0-vk), 0)\n",
        "#         self.a += torch.sum((ph0-phk), 0)\n",
        "        "
      ],
      "execution_count": null,
      "outputs": []
    },
    {
      "cell_type": "code",
      "metadata": {
        "id": "QI100UCz4pJA"
      },
      "source": [
        "  \n",
        "nv = len(train_set[0])\n",
        "nh = 100\n",
        "batch_size = 500\n",
        "\n"
      ],
      "execution_count": null,
      "outputs": []
    },
    {
      "cell_type": "code",
      "metadata": {
        "id": "Z-QtFUmq4uey"
      },
      "source": [
        "rbm = RBM(nv,nh)\n",
        "\n"
      ],
      "execution_count": null,
      "outputs": []
    },
    {
      "cell_type": "code",
      "metadata": {
        "id": "GaVU1vgY4wWX"
      },
      "source": [
        "\n",
        "#Training the RBM\n",
        "nb_epochs = 10\n",
        "nb_users = train_set.shape[0]\n",
        "for epoch in range(1, nb_epochs+1):\n",
        "    # import pdb;pdb.set_trace()\n",
        "    train_loss = 0\n",
        "    s = float(0)\n",
        "    for id_user in range(0,nb_users-batch_size,batch_size):\n",
        "        vk = train_set[id_user:id_user+batch_size]\n",
        "        v0 = train_set[id_user:id_user+batch_size]\n",
        "        ph0,_=rbm.sample_h(v0)\n",
        "        for k in range(10):\n",
        "            _, hk = rbm.sample_h(vk)   \n",
        "            _, vk = rbm.sample_v(hk)\n",
        "            vk[v0<0] = v0[v0<0]\n",
        "        phk,_= rbm.sample_h(vk)\n",
        "        rbm.train(v0,vk,ph0,phk)\n",
        "        train_loss += torch.mean(torch.abs(v0[v0>=0]-vk[v0>=0]))\n",
        "        s += 1.\n",
        "        # print(train_loss)\n",
        "        \n",
        "        \n",
        "    print('epoch: '+str(epoch)+' loss: '+str(train_loss/s))\n",
        "        "
      ],
      "execution_count": null,
      "outputs": []
    },
    {
      "cell_type": "code",
      "metadata": {
        "id": "8fZ1xW_e49cV"
      },
      "source": [
        "import copy\n",
        "best_weights = copy.deepcopy(rbm.state_dict())\n"
      ],
      "execution_count": null,
      "outputs": []
    },
    {
      "cell_type": "code",
      "metadata": {
        "id": "XvdevU-s4_9G"
      },
      "source": [
        "# import pickle\n",
        "# with open('RBM.weights', 'wb') as file:\n",
        "#     pickle.dump(best_weights, file)"
      ],
      "execution_count": null,
      "outputs": []
    },
    {
      "cell_type": "code",
      "metadata": {
        "id": "_8_0hyS05BiL"
      },
      "source": [
        "import pickle\n",
        "fh = open('RBM.weights','rb')\n",
        "weights = pickle.load(fh)\n",
        "rbm.load_state_dict(weights)\n",
        "fh.close()"
      ],
      "execution_count": null,
      "outputs": []
    },
    {
      "cell_type": "code",
      "metadata": {
        "id": "LXNuNU3I5DKz"
      },
      "source": [
        "rbm.load_state_dict(weights)\n"
      ],
      "execution_count": null,
      "outputs": []
    },
    {
      "cell_type": "code",
      "metadata": {
        "id": "VcBMVlyD5FAg"
      },
      "source": [
        "\n",
        "#Testing the RBM\n",
        "\n",
        "test_loss = 0\n",
        "s = float(0)\n",
        "nb_users = test_set.shape[1]\n",
        "for id_user in range(nb_users):\n",
        "    \n",
        "    v = train_set[id_user:id_user+1]\n",
        "    vt = test_set[id_user:id_user+1]\n",
        "    if len(vt[vt>=0]) > 0:\n",
        "        _, h = rbm.sample_h(v)   \n",
        "        _, v = rbm.sample_v(h)\n",
        "        test_loss += torch.mean(torch.abs(vt[vt>=0]-v[vt>=0]))\n",
        "        s += 1.\n",
        "print(' loss: '+str(test_loss/s))\n",
        "            "
      ],
      "execution_count": null,
      "outputs": []
    },
    {
      "cell_type": "code",
      "metadata": {
        "id": "6OCUYrQT5Gkx"
      },
      "source": [
        "import random"
      ],
      "execution_count": null,
      "outputs": []
    },
    {
      "cell_type": "code",
      "metadata": {
        "id": "CKSZUQoR5IJl"
      },
      "source": [
        "id_user=random.randint(0,test_set.shape[0])\n",
        "v = train_set[id_user:id_user+1]\n",
        "vt = test_set[id_user:id_user+1]\n",
        "\n",
        "_, h = rbm.sample_h(v)   \n",
        "_, v = rbm.sample_v(h)\n"
      ],
      "execution_count": null,
      "outputs": []
    },
    {
      "cell_type": "code",
      "metadata": {
        "id": "3yhainLS5KID"
      },
      "source": [
        "id_user"
      ],
      "execution_count": null,
      "outputs": []
    },
    {
      "cell_type": "code",
      "metadata": {
        "id": "ZQvl9YdJ5KtP"
      },
      "source": [
        "prediction_df = pd.DataFrame(v.numpy().reshape(-1,1),columns=['movie_id'])"
      ],
      "execution_count": null,
      "outputs": []
    },
    {
      "cell_type": "code",
      "metadata": {
        "id": "hsf-EewS5Mg3"
      },
      "source": [
        "random.choices(list(prediction_df[prediction_df['movie_id']>0].index),k=5)"
      ],
      "execution_count": null,
      "outputs": []
    },
    {
      "cell_type": "code",
      "metadata": {
        "id": "9t1oGDNy5POu"
      },
      "source": [
        "def predict_recommendations(user_id,model,N=5):\n",
        "    v=unseen_set[id_user:id_user+1]\n",
        "    _, h = model.sample_h(v)   \n",
        "    _, v = model.sample_v(h)\n",
        "    prediction_df = pd.DataFrame(v.numpy().reshape(-1,1),columns=['movie_id'])\n",
        "    potential_likes = prediction_df[prediction_df['movie_id']>0].index\n",
        "    recommendations = list(potential_likes)\n",
        "    return random.choices(recommendations,k=N)\n"
      ],
      "execution_count": null,
      "outputs": []
    },
    {
      "cell_type": "code",
      "metadata": {
        "id": "wF3qeJoc5YzM"
      },
      "source": [
        "import random"
      ],
      "execution_count": null,
      "outputs": []
    },
    {
      "cell_type": "code",
      "metadata": {
        "id": "o5aJF1R35S66"
      },
      "source": [
        "user_id = random.randint(0,test_set.shape[0])\n",
        "print(\"predicting recommendations for user: {}\".format(user_id))\n",
        "v=test_set[user_id:user_id+1]\n",
        "_, h = rbm.sample_h(v)   \n",
        "_, v = rbm.sample_v(h)\n",
        "out_df = pd.DataFrame(v.numpy()[0],columns=['predicted_ratings'])\n",
        "out_df['ground_truth'] = test_set[user_id:user_id+1].numpy()[0]\n",
        "rec_df = out_df[out_df['ground_truth']==-1][out_df['predicted_ratings']==1]\n",
        "random.choices(rec_df.index,k=N)"
      ],
      "execution_count": null,
      "outputs": []
    },
    {
      "cell_type": "code",
      "metadata": {
        "id": "oUHUdTcw5Vfx"
      },
      "source": [
        "out_df"
      ],
      "execution_count": null,
      "outputs": []
    },
    {
      "cell_type": "code",
      "metadata": {
        "id": "IxE-eJVV5bZK"
      },
      "source": [
        "import random\n",
        "random.choices(rec_df.index,k=5)"
      ],
      "execution_count": null,
      "outputs": []
    },
    {
      "cell_type": "code",
      "metadata": {
        "id": "GdEjWAYP5dBx"
      },
      "source": [
        "\n",
        "# filtering unwatched movies and sorting according to the predicted rating\n",
        "rec_df = out_df[out_df['ground_truth']==-1 and out_df['predicted_ratings']==1].sort_values(by='predicted_ratings',ascending=False)\n",
        "recs = [x+1 for x in rec_df[:4*N].index]\n",
        "return random.sample(recs,k=N)\n",
        "# prediction_df = pd.DataFrame(v.numpy().reshape(-1,1),columns=['movie_id'])\n",
        "# potential_likes = prediction_df[prediction_df['movie_id']>0].index\n",
        "# recommendations = list(potential_likes)\n",
        "# return random.choices(recommendations,k=N)"
      ],
      "execution_count": null,
      "outputs": []
    }
  ]
}